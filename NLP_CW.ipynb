{
  "cells": [
    {
      "cell_type": "markdown",
      "metadata": {
        "id": "view-in-github",
        "colab_type": "text"
      },
      "source": [
        "<a href=\"https://colab.research.google.com/github/D0m-inic/NLP_CW/blob/main/NLP_CW.ipynb\" target=\"_parent\"><img src=\"https://colab.research.google.com/assets/colab-badge.svg\" alt=\"Open In Colab\"/></a>"
      ]
    },
    {
      "cell_type": "markdown",
      "metadata": {
        "id": "H08esTFOYO99"
      },
      "source": [
        "# Imports"
      ]
    },
    {
      "cell_type": "code",
      "execution_count": null,
      "metadata": {
        "id": "RJC8wj73Zd_p"
      },
      "outputs": [],
      "source": [
        "import torch\n",
        "import logging\n",
        "\n",
        "import matplotlib.pyplot as plt\n",
        "import numpy as np\n",
        "import pandas as pd\n",
        "import seaborn as sns\n",
        "\n",
        "from collections import Counter\n",
        "from ast import literal_eval"
      ]
    },
    {
      "cell_type": "markdown",
      "metadata": {
        "id": "Tgz02Eid3xGE"
      },
      "source": [
        "# Helper Functions + Setup"
      ]
    },
    {
      "cell_type": "code",
      "execution_count": null,
      "metadata": {
        "colab": {
          "base_uri": "https://localhost:8080/"
        },
        "id": "bsX3b7ZNYVZe",
        "outputId": "500d9cee-1159-4e29-e1b6-08c277776603"
      },
      "outputs": [
        {
          "output_type": "stream",
          "name": "stdout",
          "text": [
            "Mon Mar  3 17:54:00 2025       \n",
            "+-----------------------------------------------------------------------------------------+\n",
            "| NVIDIA-SMI 550.54.15              Driver Version: 550.54.15      CUDA Version: 12.4     |\n",
            "|-----------------------------------------+------------------------+----------------------+\n",
            "| GPU  Name                 Persistence-M | Bus-Id          Disp.A | Volatile Uncorr. ECC |\n",
            "| Fan  Temp   Perf          Pwr:Usage/Cap |           Memory-Usage | GPU-Util  Compute M. |\n",
            "|                                         |                        |               MIG M. |\n",
            "|=========================================+========================+======================|\n",
            "|   0  Tesla T4                       Off |   00000000:00:04.0 Off |                    0 |\n",
            "| N/A   48C    P8             10W /   70W |       0MiB /  15360MiB |      0%      Default |\n",
            "|                                         |                        |                  N/A |\n",
            "+-----------------------------------------+------------------------+----------------------+\n",
            "                                                                                         \n",
            "+-----------------------------------------------------------------------------------------+\n",
            "| Processes:                                                                              |\n",
            "|  GPU   GI   CI        PID   Type   Process name                              GPU Memory |\n",
            "|        ID   ID                                                               Usage      |\n",
            "|=========================================================================================|\n",
            "|  No running processes found                                                             |\n",
            "+-----------------------------------------------------------------------------------------+\n",
            "Cuda available? True\n"
          ]
        }
      ],
      "source": [
        "# Prepare logger\n",
        "logging.basicConfig(level=logging.INFO)\n",
        "\n",
        "transformers_logger = logging.getLogger(\"transformers\")\n",
        "transformers_logger.setLevel(logging.WARNING)\n",
        "\n",
        "# Check GPU\n",
        "!nvidia-smi\n",
        "\n",
        "cuda_available = torch.cuda.is_available()\n",
        "\n",
        "print('Cuda available?', cuda_available)"
      ]
    },
    {
      "cell_type": "code",
      "execution_count": null,
      "metadata": {
        "id": "HpRLLRzkTwdL",
        "colab": {
          "base_uri": "https://localhost:8080/"
        },
        "outputId": "5932a076-58c2-49de-edb0-6c38e4a06e9f"
      },
      "outputs": [
        {
          "output_type": "stream",
          "name": "stdout",
          "text": [
            "Found GPU at: /device:GPU:0\n"
          ]
        }
      ],
      "source": [
        "if cuda_available:\n",
        "  import tensorflow as tf\n",
        "  device = 'cuda'\n",
        "  # Get the GPU device name\n",
        "  device_name = tf.test.gpu_device_name()\n",
        "\n",
        "  # The device name should look like the following:\n",
        "  if device_name == '/device:GPU:0':\n",
        "      print('Found GPU at: {}'.format(device_name))\n",
        "  else:\n",
        "      raise SystemError('GPU device not found')\n",
        "else:\n",
        "   device = 'cpu'"
      ]
    },
    {
      "cell_type": "code",
      "execution_count": null,
      "metadata": {
        "id": "bpylHzCc31c5"
      },
      "outputs": [],
      "source": [
        "# Save predictions to an output file\n",
        "def labels2file(p, outf_path):\n",
        "\twith open(outf_path,'w') as outf:\n",
        "\t\tfor pi in p:\n",
        "\t\t\toutf.write(','.join([str(k) for k in pi])+'\\n')\n"
      ]
    },
    {
      "cell_type": "markdown",
      "metadata": {
        "id": "BMQDATlOZHxu"
      },
      "source": [
        "# Fetch Official Datasets + Splits"
      ]
    },
    {
      "cell_type": "code",
      "execution_count": null,
      "metadata": {
        "collapsed": true,
        "id": "UW903YxwThrH"
      },
      "outputs": [],
      "source": [
        "import os\n",
        "\n",
        "# MARK: Clone updated dataset\n",
        "if not os.path.exists('augmented_dataset.csv'):\n",
        "  !wget -q -O augmented_dataset_substitution.csv \"https://raw.githubusercontent.com/D0m-inic/NLP_CW/refs/heads/main/positive_augmented_2x.csv\"\n",
        "\n",
        "if not os.path.exists('augmented_dataset_back_translation.csv'):\n",
        "  !wget -q -O augmented_dataset_back_translation.csv \"https://raw.githubusercontent.com/D0m-inic/NLP_CW/refs/heads/main/positive_augmented_back_translation.csv\"\n",
        "\n",
        "# Clone Task 1 dataset\n",
        "if not os.path.exists('dontpatronizeme_pcl.tsv'):\n",
        "  !wget -q -O dontpatronizeme_pcl.tsv \"https://raw.githubusercontent.com/CRLala/NLPLabs-2024/refs/heads/main/Dont_Patronize_Me_Trainingset/dontpatronizeme_pcl.tsv\"\n",
        "\n",
        "# Clone Task 2 dataset\n",
        "if not os.path.exists('dontpatronizeme_categories.tsv'):\n",
        "  !wget -q -O dontpatronizeme_categories.tsv \"https://raw.githubusercontent.com/CRLala/NLPLabs-2024/refs/heads/main/Dont_Patronize_Me_Trainingset/dontpatronizeme_categories.tsv\"\n",
        "\n",
        "# Clone Testing set with no Labels\n",
        "if not os.path.exists('dontpatronizeme_test.tsv'):\n",
        "  !wget -q -O dontpatronizeme_test.tsv \"https://raw.githubusercontent.com/Perez-AlmendrosC/dontpatronizeme/refs/heads/master/semeval-2022/TEST/task4_test.tsv\"\n",
        "\n",
        "# Clone dev set labels: `dev_semeval_parids-labels.csv`\n",
        "if not os.path.exists('dev_semeval_parids-labels.csv'):\n",
        "  !wget -q -O dev_semeval_parids-labels.csv \"https://raw.githubusercontent.com/Perez-AlmendrosC/dontpatronizeme/master/semeval-2022/practice%20splits/dev_semeval_parids-labels.csv\"\n",
        "\n",
        "# Clone train set labels: `train_semeval_parids-labels.csv`\n",
        "if not os.path.exists('train_semeval_parids-labels.csv'):\n",
        "  !wget -q -O train_semeval_parids-labels.csv \"https://raw.githubusercontent.com/Perez-AlmendrosC/dontpatronizeme/refs/heads/master/semeval-2022/practice%20splits/train_semeval_parids-labels.csv\"\n",
        "\n",
        "# Fetch the data loader from original author\n",
        "if not os.path.exists('dont_patronize_me.py'):\n",
        "  !wget -q -O dont_patronize_me.py \"https://raw.githubusercontent.com/Perez-AlmendrosC/dontpatronizeme/master/semeval-2022/dont_patronize_me.py\""
      ]
    },
    {
      "cell_type": "code",
      "execution_count": null,
      "metadata": {
        "id": "gcDThFWVBxGb"
      },
      "outputs": [],
      "source": [
        "from dont_patronize_me import DontPatronizeMe"
      ]
    },
    {
      "cell_type": "code",
      "execution_count": null,
      "metadata": {
        "collapsed": true,
        "id": "3Ay5_5Y0ThrI",
        "colab": {
          "base_uri": "https://localhost:8080/"
        },
        "outputId": "6b3f1b4c-d4f4-483e-e744-bd3764ac19c7"
      },
      "outputs": [
        {
          "output_type": "stream",
          "name": "stdout",
          "text": [
            "Map of label to numerical label:\n",
            "{'Unbalanced_power_relations': 0, 'Shallow_solution': 1, 'Presupposition': 2, 'Authority_voice': 3, 'Metaphors': 4, 'Compassion': 5, 'The_poorer_the_merrier': 6}\n"
          ]
        }
      ],
      "source": [
        "dpm = DontPatronizeMe('.', '.')\n",
        "dpm.load_task1()\n",
        "dpm.load_task2(return_one_hot=True)"
      ]
    },
    {
      "cell_type": "markdown",
      "metadata": {
        "id": "P0YcdU80IbiS"
      },
      "source": [
        "# Load Official Splits"
      ]
    },
    {
      "cell_type": "code",
      "execution_count": null,
      "metadata": {
        "id": "8AReWYHYOUqx"
      },
      "outputs": [],
      "source": [
        "# Load practice splits for official train and dev sets\n",
        "trids = pd.read_csv('train_semeval_parids-labels.csv')\n",
        "teids = pd.read_csv('dev_semeval_parids-labels.csv')\n",
        "\n",
        "trids.par_id = trids.par_id.astype(str)\n",
        "teids.par_id = teids.par_id.astype(str)"
      ]
    },
    {
      "cell_type": "code",
      "execution_count": null,
      "metadata": {
        "colab": {
          "base_uri": "https://localhost:8080/"
        },
        "id": "nFnGtWdHJldw",
        "outputId": "75675218-dfef-4013-a364-800bdf4205d9"
      },
      "outputs": [
        {
          "output_type": "stream",
          "name": "stdout",
          "text": [
            "Official Training Set size: (8375, 7)\n",
            "Official Dev Set size: (2094, 7)\n"
          ]
        }
      ],
      "source": [
        "# Load official splits into memory\n",
        "train_df = dpm.train_task1_df[dpm.train_task1_df['par_id'].isin(trids.par_id)] # Official Train\n",
        "official_dev_df = dpm.train_task1_df[dpm.train_task1_df['par_id'].isin(teids.par_id)] # Official Validation\n",
        "\n",
        "print(\"Official Training Set size:\", train_df.shape)\n",
        "print(\"Official Dev Set size:\", official_dev_df.shape)"
      ]
    },
    {
      "cell_type": "markdown",
      "metadata": {
        "id": "cBnwXh6kCMyv"
      },
      "source": [
        "## Training / Validation Splits"
      ]
    },
    {
      "cell_type": "code",
      "execution_count": null,
      "metadata": {
        "colab": {
          "base_uri": "https://localhost:8080/"
        },
        "id": "rmUBJhljbnpN",
        "outputId": "0c11cdb3-344e-4fb2-9719-466d22710dd5"
      },
      "outputs": [
        {
          "output_type": "stream",
          "name": "stdout",
          "text": [
            "Internal Training Set size: (6700, 7)\n",
            "Internal Validation Set size: (1675, 7)\n"
          ]
        }
      ],
      "source": [
        "# Split the official training set into internal training and internal validation\n",
        "from sklearn.model_selection import train_test_split\n",
        "\n",
        "validation_ratio = 0.2\n",
        "internal_train_df, internal_val_df = train_test_split(train_df, test_size=validation_ratio, random_state=42, stratify=train_df['label'])\n",
        "\n",
        "print(\"Internal Training Set size:\", internal_train_df.shape)\n",
        "print(\"Internal Validation Set size:\", internal_val_df.shape)"
      ]
    },
    {
      "cell_type": "markdown",
      "metadata": {
        "id": "8lXrNj_Ww_FC"
      },
      "source": [
        "\n",
        "\n",
        "# Rebuild DataFrames with Standardised Columns"
      ]
    },
    {
      "cell_type": "code",
      "execution_count": null,
      "metadata": {
        "id": "8mVtlPmhjwVk"
      },
      "outputs": [],
      "source": [
        "def standardise_columns(df, include_label=True):\n",
        "  \"\"\"\n",
        "  Select the desired columns and rename 'keyword' to 'community'\n",
        "  include_label is False => 'label' column is omitted\n",
        "  \"\"\"\n",
        "  if include_label:\n",
        "      new_df = df[['par_id', 'keyword', 'text', 'label', 'orig_label']].copy()\n",
        "      new_df = new_df.rename(columns={'keyword': 'community'})\n",
        "  else:\n",
        "      # For cases where no label is available (e.g. test set)\n",
        "      new_df = df[['par_id', 'keyword', 'text']].copy()\n",
        "      new_df = new_df.rename(columns={'keyword': 'community'})\n",
        "  return new_df"
      ]
    },
    {
      "cell_type": "code",
      "execution_count": null,
      "metadata": {
        "id": "jWw1nrvOkdns"
      },
      "outputs": [],
      "source": [
        "# Standardise the internal training and validation sets.\n",
        "internal_train_df = standardise_columns(internal_train_df, include_label=True)\n",
        "internal_val_df   = standardise_columns(internal_val_df, include_label=True)\n",
        "internal_test_df = standardise_columns(official_dev_df, include_label=True)"
      ]
    },
    {
      "cell_type": "markdown",
      "source": [
        "#### Load Augmented Dataset"
      ],
      "metadata": {
        "id": "LkdYEErH4kH9"
      }
    },
    {
      "cell_type": "code",
      "source": [
        "# augmented_train_set = pd.read_csv('augmented_dataset_substitution.csv')\n",
        "augmented_train_set = pd.read_csv('augmented_dataset_back_translation.csv')\n",
        "augmented_train_set = augmented_train_set.sample(frac=1, random_state=42).reset_index(drop=True)\n",
        "augmented_train_set\n",
        "print(f\"Class Distribution - Original: {internal_train_df['label'].value_counts()}\\n\")\n",
        "print(f\"Class Distribution - Augmented: {augmented_train_set['label'].value_counts()}\\n\")"
      ],
      "metadata": {
        "id": "_F3sXPq04oq2",
        "outputId": "8b8a26eb-5533-43be-f21e-b493e27a3076",
        "colab": {
          "base_uri": "https://localhost:8080/"
        }
      },
      "execution_count": null,
      "outputs": [
        {
          "output_type": "stream",
          "name": "stdout",
          "text": [
            "Class Distribution - Original: label\n",
            "0    6065\n",
            "1     635\n",
            "Name: count, dtype: int64\n",
            "\n",
            "Class Distribution - Augmented: label\n",
            "0    6065\n",
            "1    1270\n",
            "Name: count, dtype: int64\n",
            "\n"
          ]
        }
      ]
    },
    {
      "cell_type": "markdown",
      "metadata": {
        "id": "WREU3WkIkvqe"
      },
      "source": [
        "## Build Evaluation Test DataFrame"
      ]
    },
    {
      "cell_type": "code",
      "execution_count": null,
      "metadata": {
        "id": "T2cvBC8Hk32K"
      },
      "outputs": [],
      "source": [
        "test_rows = []\n",
        "with open('dontpatronizeme_test.tsv', encoding='utf-8') as f:\n",
        "    # Skip the header lines (assumes the first 4 lines are headers)\n",
        "    lines = f.readlines()[4:]\n",
        "    for line in lines:\n",
        "        parts = line.strip().split('\\t')\n",
        "        if len(parts) < 5:\n",
        "            print(\"Warning: unexpected line format:\", line)\n",
        "            continue\n",
        "        par_id, art_id, keyword, country, text = parts[:5]\n",
        "        test_rows.append({\n",
        "            'par_id': par_id,\n",
        "            # 'art_id': art_id,\n",
        "            'keyword': keyword,\n",
        "            # 'country': country,\n",
        "            'text': text\n",
        "        })\n",
        "\n",
        "test_df = pd.DataFrame(test_rows)\n",
        "official_test_df = standardise_columns(test_df, include_label=False)"
      ]
    },
    {
      "cell_type": "markdown",
      "source": [
        "## TextDataset (add 10/02)"
      ],
      "metadata": {
        "id": "a7fIz95uGzDI"
      }
    },
    {
      "cell_type": "code",
      "source": [
        "from torch.utils.data import Dataset\n",
        "\n",
        "# Custom class for handling input data - prepares text and labels to be fed into model\n",
        "\n",
        "class TextDataset(Dataset):\n",
        "    def __init__(self, df, tokenizer, max_length=512, label_column='label'):\n",
        "        self.text = df['text'].tolist()\n",
        "        self.labels = df[label_column].tolist()\n",
        "        self.tokenizer = tokenizer\n",
        "        self.max_length = max_length\n",
        "\n",
        "    def __len__(self):\n",
        "        return len(self.text)\n",
        "\n",
        "    def __getitem__(self, index):\n",
        "        encoding = self.tokenizer(\n",
        "            self.text[index],\n",
        "            truncation=True,\n",
        "            padding='max_length',\n",
        "            max_length=self.max_length,\n",
        "        )\n",
        "\n",
        "        item = {k: torch.tensor(v) for k, v in encoding.items()}\n",
        "        item['labels'] = torch.tensor(self.labels[index], dtype=torch.long)\n",
        "\n",
        "        return item\n"
      ],
      "metadata": {
        "id": "TWYj3uNaGxq2"
      },
      "execution_count": null,
      "outputs": []
    },
    {
      "cell_type": "markdown",
      "metadata": {
        "id": "_v7J0y_i5tTa"
      },
      "source": [
        "# Data Analysis\n"
      ]
    },
    {
      "cell_type": "markdown",
      "metadata": {
        "id": "B67theXICEiK"
      },
      "source": [
        "## Frequency Analysis"
      ]
    },
    {
      "cell_type": "code",
      "execution_count": null,
      "metadata": {
        "colab": {
          "base_uri": "https://localhost:8080/"
        },
        "id": "Tlf65p8EN-TJ",
        "outputId": "792ffa20-f21a-4f22-e006-08b6e4a7688f"
      },
      "outputs": [
        {
          "output_type": "stream",
          "name": "stdout",
          "text": [
            "Index(['par_id', 'art_id', 'keyword', 'country', 'text', 'label',\n",
            "       'orig_label'],\n",
            "      dtype='object')\n"
          ]
        }
      ],
      "source": [
        "data = pd.concat([official_dev_df, train_df])\n",
        "print(data.keys())"
      ]
    },
    {
      "cell_type": "code",
      "execution_count": null,
      "metadata": {
        "colab": {
          "base_uri": "https://localhost:8080/",
          "height": 609
        },
        "id": "SGego3Rr5xNI",
        "outputId": "49c61d1c-a232-45ca-b5fa-5058125d3c86"
      },
      "outputs": [
        {
          "output_type": "stream",
          "name": "stdout",
          "text": [
            "Label counts (0 = negative, 1 = positive):\n",
            "label\n",
            "0    7581\n",
            "1     794\n",
            "Name: count, dtype: int64\n"
          ]
        },
        {
          "output_type": "stream",
          "name": "stderr",
          "text": [
            "<ipython-input-17-012c1c2822eb>:8: FutureWarning: \n",
            "\n",
            "Passing `palette` without assigning `hue` is deprecated and will be removed in v0.14.0. Assign the `x` variable to `hue` and set `legend=False` for the same effect.\n",
            "\n",
            "  sns.barplot(x=label_counts.index, y=label_counts.values, palette=\"viridis\")\n"
          ]
        },
        {
          "output_type": "display_data",
          "data": {
            "text/plain": [
              "<Figure size 600x400 with 1 Axes>"
            ],
            "image/png": "[encoded data removed]"
          },
          "metadata": {}
        }
      ],
      "source": [
        "label_counts = train_df['label'].value_counts().sort_index()\n",
        "\n",
        "print(\"Label counts (0 = negative, 1 = positive):\")\n",
        "print(label_counts)\n",
        "\n",
        "# Visualisation\n",
        "plt.figure(figsize=(6,4))\n",
        "sns.barplot(x=label_counts.index, y=label_counts.values, palette=\"viridis\")\n",
        "plt.xlabel(\"Label (0: negative, 1: positive)\")\n",
        "plt.ylabel(\"Count\")\n",
        "plt.title(\"Distribution of Binary Labels in Training Data\")\n",
        "plt.show()"
      ]
    },
    {
      "cell_type": "markdown",
      "metadata": {
        "id": "9X0VfkaJ6RLT"
      },
      "source": [
        "## Input Length Analysis"
      ]
    },
    {
      "cell_type": "code",
      "execution_count": null,
      "metadata": {
        "colab": {
          "base_uri": "https://localhost:8080/",
          "height": 888
        },
        "id": "CRffLPNw6UiI",
        "outputId": "66033d6c-0dd2-48d7-c154-afcf2cedb7e7"
      },
      "outputs": [
        {
          "output_type": "stream",
          "name": "stderr",
          "text": [
            "<ipython-input-18-c9b499b2e5f7>:2: SettingWithCopyWarning: \n",
            "A value is trying to be set on a copy of a slice from a DataFrame.\n",
            "Try using .loc[row_indexer,col_indexer] = value instead\n",
            "\n",
            "See the caveats in the documentation: https://pandas.pydata.org/pandas-docs/stable/user_guide/indexing.html#returning-a-view-versus-a-copy\n",
            "  train_df['text_length'] = train_df['text'].apply(lambda x: len(x.split()))\n",
            "<ipython-input-18-c9b499b2e5f7>:3: SettingWithCopyWarning: \n",
            "A value is trying to be set on a copy of a slice from a DataFrame.\n",
            "Try using .loc[row_indexer,col_indexer] = value instead\n",
            "\n",
            "See the caveats in the documentation: https://pandas.pydata.org/pandas-docs/stable/user_guide/indexing.html#returning-a-view-versus-a-copy\n",
            "  official_dev_df['text_length'] = official_dev_df['text'].apply(lambda x: len(x.split()))\n"
          ]
        },
        {
          "output_type": "stream",
          "name": "stdout",
          "text": [
            "Text Legnth Statistics by Label:\n",
            "        count       mean        std  min   25%   50%   75%    max\n",
            "label                                                            \n",
            "0      7581.0  48.167656  29.183814  1.0  30.0  42.0  59.0  909.0\n",
            "1       794.0  53.521411  33.673945  6.0  33.0  47.0  66.0  512.0\n"
          ]
        },
        {
          "output_type": "display_data",
          "data": {
            "text/plain": [
              "<Figure size 800x600 with 1 Axes>"
            ],
            "image/png": "[encoded data removed]"
          },
          "metadata": {}
        }
      ],
      "source": [
        "# Add new column for length of each text entry. Split on whitespace (assumption - should tokenize)\n",
        "train_df['text_length'] = train_df['text'].apply(lambda x: len(x.split()))\n",
        "official_dev_df['text_length'] = official_dev_df['text'].apply(lambda x: len(x.split()))\n",
        "\n",
        "length_stats = train_df.groupby('label')['text_length'].describe()\n",
        "print(\"Text Legnth Statistics by Label:\")\n",
        "print(length_stats)\n",
        "\n",
        "# Visualisation\n",
        "plt.figure(figsize=(8,6))\n",
        "sns.histplot(data=train_df, x=\"text_length\", hue=\"label\", element=\"step\", stat=\"density\", common_norm=False)\n",
        "plt.xlabel(\"Text Length (words)\")\n",
        "plt.title(\"Distribution of Text Lengths by Label in Training Data\")\n",
        "plt.show()"
      ]
    },
    {
      "cell_type": "code",
      "execution_count": null,
      "metadata": {
        "colab": {
          "base_uri": "https://localhost:8080/"
        },
        "id": "JONj1j2WPa2t",
        "outputId": "825cc7e1-f354-4af4-a491-d47d814c417a"
      },
      "outputs": [
        {
          "output_type": "stream",
          "name": "stdout",
          "text": [
            "label          Ratio_Negative  Ratio_Positive\n",
            "keyword                                      \n",
            "disabled             0.921206        0.078794\n",
            "homeless             0.834726        0.165274\n",
            "hopeless             0.876617        0.123383\n",
            "immigrant            0.971725        0.028275\n",
            "in-need              0.837338        0.162662\n",
            "migrant              0.966942        0.033058\n",
            "poor-families        0.834983        0.165017\n",
            "refugee              0.919476        0.080524\n",
            "vulnerable           0.925926        0.074074\n",
            "women                0.951402        0.048598\n"
          ]
        }
      ],
      "source": [
        "# Display breakdown of P/N per community\n",
        "community_label_counts = (\n",
        "    data.groupby(['keyword', 'label'])\n",
        "        .size()\n",
        "        # .reset_index(name='count')\n",
        ")\n",
        "\n",
        "# Group by community (keyword) and label to get the counts\n",
        "community_label_counts = data.groupby(['keyword', 'label']).size()\n",
        "\n",
        "# Convert the Series to a DataFrame for easier manipulation\n",
        "community_label_counts_df = community_label_counts.reset_index(name='count')\n",
        "\n",
        "# Pivot the DataFrame so that each community is a row and label counts are in columns.\n",
        "# Fill missing values with 0 (in case a community doesn't have any examples of a given label)\n",
        "pivot_df = community_label_counts_df.pivot(index='keyword', columns='label', values='count').fillna(0)\n",
        "\n",
        "# For clarity, rename the columns if desired:\n",
        "pivot_df = pivot_df.rename(columns={0: 'Negative', 1: 'Positive'})\n",
        "\n",
        "# Calculate the total number of examples per community\n",
        "pivot_df['Total'] = pivot_df.sum(axis=1)\n",
        "\n",
        "# Calculate the ratios (i.e., the fraction of examples that are negative or positive)\n",
        "pivot_df['Ratio_Negative'] = pivot_df['Negative'] / pivot_df['Total']\n",
        "pivot_df['Ratio_Positive'] = pivot_df['Positive'] / pivot_df['Total']\n",
        "\n",
        "# Print out the ratios per community\n",
        "print(pivot_df[['Ratio_Negative', 'Ratio_Positive']])\n"
      ]
    },
    {
      "cell_type": "code",
      "execution_count": null,
      "metadata": {
        "colab": {
          "base_uri": "https://localhost:8080/"
        },
        "id": "gx_e6C769SKV",
        "outputId": "ede08592-abc3-4a8c-d0c2-6337f11ce233"
      },
      "outputs": [
        {
          "output_type": "stream",
          "name": "stdout",
          "text": [
            "Task 2 DataFrame shape: (993, 6)\n"
          ]
        }
      ],
      "source": [
        "task2_df = dpm.train_task2_df\n",
        "\n",
        "print(\"Task 2 DataFrame shape:\", task2_df.shape)"
      ]
    },
    {
      "cell_type": "markdown",
      "metadata": {
        "id": "Em3o5L4wADHB"
      },
      "source": [
        "## Frequency of each category"
      ]
    },
    {
      "cell_type": "code",
      "execution_count": null,
      "metadata": {
        "colab": {
          "base_uri": "https://localhost:8080/"
        },
        "id": "RopwTx4997tS",
        "outputId": "423a7437-9534-46e0-e308-ffab0cf5ee5e"
      },
      "outputs": [
        {
          "output_type": "stream",
          "name": "stdout",
          "text": [
            "Frequency of each Task 2 category:\n",
            "Unbalanced_power_relations    716\n",
            "Compassion                    469\n",
            "Authority_voice               230\n",
            "Presupposition                224\n",
            "Metaphors                     197\n",
            "Shallow_solution              196\n",
            "The_poorer_the_merrier         40\n",
            "dtype: int64\n"
          ]
        },
        {
          "output_type": "stream",
          "name": "stderr",
          "text": [
            "<ipython-input-21-9e429448f0a2>:13: FutureWarning: \n",
            "\n",
            "Passing `palette` without assigning `hue` is deprecated and will be removed in v0.14.0. Assign the `x` variable to `hue` and set `legend=False` for the same effect.\n",
            "\n",
            "  sns.barplot(x=category_counts.index, y=category_counts.values, palette=\"magma\")\n"
          ]
        },
        {
          "output_type": "display_data",
          "data": {
            "text/plain": [
              "<Figure size 1000x500 with 1 Axes>"
            ],
            "image/png": "[encoded data removed]"
          },
          "metadata": {}
        }
      ],
      "source": [
        "categories = ['Unbalanced_power_relations', 'Shallow_solution', 'Presupposition',\n",
        "              'Authority_voice', 'Metaphors', 'Compassion', 'The_poorer_the_merrier']\n",
        "\n",
        "labels_array = np.array(task2_df['label'].tolist())\n",
        "labels_df = pd.DataFrame(labels_array, columns=categories)\n",
        "\n",
        "category_counts = labels_df.sum().sort_values(ascending=False)\n",
        "print(\"Frequency of each Task 2 category:\")\n",
        "print(category_counts)\n",
        "\n",
        "# Plot category frequencies\n",
        "plt.figure(figsize=(10,5))\n",
        "sns.barplot(x=category_counts.index, y=category_counts.values, palette=\"magma\")\n",
        "plt.xlabel(\"Category\")\n",
        "plt.ylabel(\"Count\")\n",
        "plt.title(\"Frequency of Categories in Task 2 Training Data\")\n",
        "plt.xticks(rotation=45)\n",
        "plt.show()"
      ]
    },
    {
      "cell_type": "markdown",
      "metadata": {
        "id": "5SAy1u_2AF1_"
      },
      "source": [
        "## Categories per example"
      ]
    },
    {
      "cell_type": "code",
      "execution_count": null,
      "metadata": {
        "colab": {
          "base_uri": "https://localhost:8080/"
        },
        "id": "TsnE9s8V_-sn",
        "outputId": "719c0a00-935f-4c2b-bb17-18906a87ae7d"
      },
      "outputs": [
        {
          "output_type": "stream",
          "name": "stdout",
          "text": [
            "Summary statistics for the number of categories per example:\n",
            "count    993.000000\n",
            "mean       2.086606\n",
            "std        0.940011\n",
            "min        1.000000\n",
            "25%        1.000000\n",
            "50%        2.000000\n",
            "75%        3.000000\n",
            "max        5.000000\n",
            "Name: num_categories, dtype: float64\n"
          ]
        },
        {
          "output_type": "stream",
          "name": "stderr",
          "text": [
            "<ipython-input-22-64099f0642fa>:8: FutureWarning: \n",
            "\n",
            "Passing `palette` without assigning `hue` is deprecated and will be removed in v0.14.0. Assign the `x` variable to `hue` and set `legend=False` for the same effect.\n",
            "\n",
            "  sns.countplot(x=task2_df['num_categories'], palette=\"coolwarm\")\n"
          ]
        },
        {
          "output_type": "display_data",
          "data": {
            "text/plain": [
              "<Figure size 600x400 with 1 Axes>"
            ],
            "image/png": "[encoded data removed]"
          },
          "metadata": {}
        }
      ],
      "source": [
        "#\n",
        "\n",
        "task2_df['num_categories'] = labels_df.sum(axis=1)\n",
        "print(\"Summary statistics for the number of categories per example:\")\n",
        "print(task2_df['num_categories'].describe())\n",
        "\n",
        "plt.figure(figsize=(6,4))\n",
        "sns.countplot(x=task2_df['num_categories'], palette=\"coolwarm\")\n",
        "plt.xlabel(\"Number of Active Categories per Example\")\n",
        "plt.ylabel(\"Count\")\n",
        "plt.title(\"Distribution of Number of Categories in Task 2\")\n",
        "plt.show()"
      ]
    },
    {
      "cell_type": "markdown",
      "source": [
        "## Level of PCL"
      ],
      "metadata": {
        "id": "g70Pyzdzy715"
      }
    },
    {
      "cell_type": "code",
      "source": [
        "def analyse_orig_label_distrbutions(dataset):\n",
        "  label_counts = dataset['orig_label'].value_counts(normalize=True).sort_index()\n",
        "  label_counts *= 100\n",
        "\n",
        "\n",
        "  print(\"Proportion of each `orig_label` in the dataset:\")\n",
        "  print(label_counts)\n",
        "\n",
        "  # Plot distribution\n",
        "  plt.figure(figsize=(8,6))\n",
        "  sns.barplot(x=label_counts.index, y=label_counts.values, palette=\"Blues\")\n",
        "  plt.xlabel(\"Original Label (Level of Patronizing Content)\")\n",
        "  plt.ylabel(\"Proportion (%)\")\n",
        "  plt.title(\"Proportion of Each Original Label in the Dataset\")\n",
        "  plt.grid(axis='y', linestyle='--', alpha=0.7)\n",
        "  plt.show()\n",
        "\n",
        "analyse_orig_label_distrbutions(train_df)"
      ],
      "metadata": {
        "colab": {
          "base_uri": "https://localhost:8080/",
          "height": 816
        },
        "id": "6Njh0wNXzCZ3",
        "outputId": "082083ae-0015-47fe-df55-9aa0b5c5ca9f"
      },
      "execution_count": null,
      "outputs": [
        {
          "output_type": "stream",
          "name": "stdout",
          "text": [
            "Proportion of each `orig_label` in the dataset:\n",
            "orig_label\n",
            "0    81.492537\n",
            "1     9.026866\n",
            "2     1.504478\n",
            "3     4.405970\n",
            "4     3.570149\n",
            "Name: proportion, dtype: float64\n"
          ]
        },
        {
          "output_type": "stream",
          "name": "stderr",
          "text": [
            "<ipython-input-23-5c65c4bf664e>:11: FutureWarning: \n",
            "\n",
            "Passing `palette` without assigning `hue` is deprecated and will be removed in v0.14.0. Assign the `x` variable to `hue` and set `legend=False` for the same effect.\n",
            "\n",
            "  sns.barplot(x=label_counts.index, y=label_counts.values, palette=\"Blues\")\n"
          ]
        },
        {
          "output_type": "display_data",
          "data": {
            "text/plain": [
              "<Figure size 800x600 with 1 Axes>"
            ],
            "image/png": "[encoded data removed]"
          },
          "metadata": {}
        }
      ]
    },
    {
      "cell_type": "markdown",
      "source": [
        "# Our Model\n",
        "Added Features:\n",
        "- Data Augmentation\n",
        "- LLRD\n",
        "- Ensemble models\n",
        "- Weighted Random Sampling"
      ],
      "metadata": {
        "id": "fKnwMRX-lnt4"
      }
    },
    {
      "cell_type": "markdown",
      "metadata": {
        "id": "1YNz---yE1yX"
      },
      "source": [
        "## Modifications"
      ]
    },
    {
      "cell_type": "markdown",
      "metadata": {
        "id": "LByGjsjca1Iw"
      },
      "source": [
        "### 1 - Data Augmentation\n",
        "\n",
        "Minority class (PCL Langugage) is augmented  and the additional augmentations are added to the dataset\n",
        "\n",
        "Majority class (Non PCL Language) is not augmented"
      ]
    },
    {
      "cell_type": "markdown",
      "source": [
        "#### Augmentation with Substitution\n"
      ],
      "metadata": {
        "id": "SGb61dCiIwzE"
      }
    },
    {
      "cell_type": "code",
      "source": [
        "import nlpaug.augmenter.word as naw\n",
        "\n",
        "def augment_with_substitution(internal_train_df, model_name='distilroberta-base', augmentations=2):\n",
        "\n",
        "    positive_examples = internal_train_df[internal_train_df['label'] == 1]\n",
        "    print(f\"Examples to augment: {len(positive_examples)}\")\n",
        "\n",
        "    aug = naw.ContextualWordEmbsAug(model_path=model_name, action=\"substitute\")\n",
        "    augmented_positive_examples = []\n",
        "\n",
        "    examples_augmented = 0\n",
        "    for _, row in positive_examples.iterrows():\n",
        "        augmented_texts = aug.augment(row['text'], n=augmentations)\n",
        "        augmented_positive_examples.extend([(row['par_id'], row['community'], text, 1) for text in augmented_texts])\n",
        "\n",
        "        examples_augmented += 1\n",
        "        if examples_augmented % 10 == 0:\n",
        "            print(f\"{examples_augmented} examples augmented\")\n",
        "\n",
        "    augmented_positive_df = pd.DataFrame(augmented_positive_examples, columns=['par_id', 'community', 'text', 'label'])\n",
        "    augmented_positive_df = augmented_positive_df.sample(frac=1, random_state=42).reset_index(drop=True)\n",
        "\n",
        "    return pd.concat([internal_train_df, augmented_positive_df], ignore_index=True)"
      ],
      "metadata": {
        "id": "o6CiNqldShr1"
      },
      "execution_count": null,
      "outputs": []
    },
    {
      "cell_type": "markdown",
      "source": [
        "#### Augmentation with Back Translation"
      ],
      "metadata": {
        "id": "mCO-ESlVI3U9"
      }
    },
    {
      "cell_type": "code",
      "source": [
        "from transformers import MarianMTModel, MarianTokenizer\n",
        "\n",
        "def load_translation_models(src_lang=\"en\", mid_lang=\"fr\"):\n",
        "    src_to_mid_model_name = f\"Helsinki-NLP/opus-mt-{src_lang}-{mid_lang}\"\n",
        "    mid_to_src_model_name = f\"Helsinki-NLP/opus-mt-{mid_lang}-{src_lang}\"\n",
        "\n",
        "    src_to_mid_tokenizer = MarianTokenizer.from_pretrained(src_to_mid_model_name)\n",
        "    src_to_mid_model = MarianMTModel.from_pretrained(src_to_mid_model_name)\n",
        "\n",
        "    mid_to_src_tokenizer = MarianTokenizer.from_pretrained(mid_to_src_model_name)\n",
        "    mid_to_src_model = MarianMTModel.from_pretrained(mid_to_src_model_name)\n",
        "\n",
        "    return src_to_mid_tokenizer, src_to_mid_model, mid_to_src_tokenizer, mid_to_src_model\n",
        "\n",
        "\n",
        "def translate_batch(texts, tokenizer, model):\n",
        "\n",
        "    inputs = tokenizer(texts, return_tensors=\"pt\", truncation=True, padding=True, max_length=512)\n",
        "    inputs = {k: v.to(device) for k, v in inputs.items()}\n",
        "\n",
        "    with torch.no_grad():\n",
        "        outputs = model.generate(**inputs)\n",
        "\n",
        "    return [tokenizer.decode(output, skip_special_tokens=True) for output in outputs]\n",
        "\n",
        "\n",
        "def augment_with_back_translation(internal_train_df, src_lang=\"en\", mid_lang=\"fr\", batch_size=8):\n",
        "\n",
        "    # Load english to french and french to english models\n",
        "    src_to_mid_tokenizer, src_to_mid_model, mid_to_src_tokenizer, mid_to_src_model = load_translation_models(src_lang, mid_lang)\n",
        "\n",
        "    src_to_mid_model.to(device)\n",
        "    mid_to_src_model.to(device)\n",
        "\n",
        "    positive_examples = internal_train_df[internal_train_df['label'] == 1]\n",
        "    print(f\"Examples to augment: {len(positive_examples)}\")\n",
        "\n",
        "    texts = positive_examples['text'].tolist()\n",
        "    augmented_positive_examples = []\n",
        "\n",
        "    for i in range(0, len(texts), batch_size):\n",
        "        batch_texts = texts[i:i + batch_size]\n",
        "\n",
        "        # Step 1: Translate to french\n",
        "        mid_texts = translate_batch(batch_texts, src_to_mid_tokenizer, src_to_mid_model)\n",
        "\n",
        "        # Step 2: Translate back to english\n",
        "        back_translated_texts = translate_batch(mid_texts, mid_to_src_tokenizer, mid_to_src_model)\n",
        "\n",
        "        # Append results to list\n",
        "        for j, back_translated_text in enumerate(back_translated_texts):\n",
        "            row = positive_examples.iloc[i + j]\n",
        "            augmented_positive_examples.append((row['par_id'], row['community'], back_translated_text, 1))\n",
        "\n",
        "        print(f\"Processed {i + batch_size}/{len(texts)} samples\")\n",
        "\n",
        "    # Create DataFrame\n",
        "    augmented_positive_df = pd.DataFrame(augmented_positive_examples, columns=['par_id', 'community', 'text', 'label'])\n",
        "    augmented_positive_df = augmented_positive_df.sample(frac=1, random_state=42).reset_index(drop=True)\n",
        "\n",
        "    return pd.concat([internal_train_df, augmented_positive_df], ignore_index=True)\n"
      ],
      "metadata": {
        "id": "CEIQtKOgUQA_"
      },
      "execution_count": null,
      "outputs": []
    },
    {
      "cell_type": "markdown",
      "source": [
        "#### Apply Augmentations"
      ],
      "metadata": {
        "id": "JEpCieNJI9rd"
      }
    },
    {
      "cell_type": "code",
      "source": [
        "# Augment with word substitution\n",
        "augmented_df_substitution = augment_with_substitution(internal_train_df)\n",
        "augmented_df_substitution.to_csv(\"positive_augmented_substitution.csv\")\n",
        "\n",
        "# Augment with back-translation\n",
        "augmented_df_back_translation = augment_with_back_translation(internal_train_df)\n",
        "augmented_df_back_translation.to_csv(\"positive_augmented_back_translation.csv\")\n"
      ],
      "metadata": {
        "id": "2TJTkBxZSifS"
      },
      "execution_count": null,
      "outputs": []
    },
    {
      "cell_type": "markdown",
      "source": [
        "### 2 - Combine Augmentation with LLRD\n",
        "\n",
        "Grouped Layer-Wise Learning Rate Decay (LLRD) optimises the learning rate in different layers to capture more diverse and fine-trained linguistic features that contribute to the meaning (PCL) with the different types of information that different layers store"
      ],
      "metadata": {
        "id": "xgVCdEMdLK_P"
      }
    },
    {
      "cell_type": "code",
      "source": [
        "from transformers import DebertaForSequenceClassification, DebertaTokenizer, RobertaForSequenceClassification, RobertaTokenizer, Trainer, TrainingArguments, AdamW\n",
        "\n",
        "num_labels = 2  # binary classification\n",
        "\n",
        "# Load Pretrained DeBERTa model\n",
        "deberta_model_name = \"microsoft/deberta-base\"\n",
        "deberta_tokenizer = DebertaTokenizer.from_pretrained(deberta_model_name)\n",
        "deberta_model = DebertaForSequenceClassification.from_pretrained(deberta_model_name, num_labels=num_labels)\n",
        "\n",
        "# Load Pretrained DeBERTa model\n",
        "roberta_model_name = \"roberta-base\" # or \"roberta-large\"\n",
        "roberta_tokenizer = RobertaTokenizer.from_pretrained(roberta_model_name)\n",
        "roberta_model = RobertaForSequenceClassification.from_pretrained(roberta_model_name, num_labels=num_labels)\n",
        "\n",
        "device = torch.device(\"cuda\" if torch.cuda.is_available() else \"cpu\")\n"
      ],
      "metadata": {
        "id": "nY3-OBE0czcR",
        "outputId": "1361fea6-0916-46b0-96a5-9e62710a068d",
        "colab": {
          "base_uri": "https://localhost:8080/",
          "referenced_widgets": [
            "7b78e10342004903936df1bfd4efa96c",
            "fe4c75ddb6fb4db1b18a1e8e584c1184",
            "fed8f42edd384fd6b7896dd0f0f41b08",
            "acfaf1b5acf14feb9f6269413d55520b",
            "c7f5b0c98825484091db994bf58af1ba",
            "2d7e88ee1c05481498c4512eb8ef2676",
            "013cc13f177a42ea9fa025f5b522ee42",
            "b34bfeea29184a2d9aa77a2ab029dc8e",
            "ec3326e6f7b44270ad25f62145657c8a",
            "f91f22a1c7e7474782a8ccc7eec70677",
            "106dff3cf3e2479a8caaef7b6eb966aa",
            "9f01c7ce9edf41609f2ecb5654cb80a6",
            "2bd734224fc849b8af08748930fda90a",
            "9095b40bd54446c2986d767f1b23b375",
            "d002eb744a654c4bb136110bb4191f0c",
            "bfe18b28588d400cbcebe993848ed5ba",
            "ef22ecc4c4874f4695b00107bc4e905a",
            "4bac3368de254ddc8bf8c9e75e75b8a0",
            "1318a7c977a442108a6b44239ed6a893",
            "3330d444452943ef93373265ccaa1baa",
            "bce5e3be7b3b4d3097919c614514b65a",
            "8bd222271f7547fe8367a55921cae99e",
            "2110738db4d9415a9b4c5f26f9a342e5",
            "07f038bfd3274a578bc89296f9f29cee",
            "dcb27b82c1da4f1eb04e79eba34384d7",
            "31f387e145c5493c9c338c4ffdfae4ff",
            "3bc9a348f2504f05ac9246a694fa9e2a",
            "565e27161d874edb90f31339c9bee919",
            "b6b6a22c2a814eb584ecff50fa82c251",
            "6d4daee3938a4b0abcbc055d969d0ce3",
            "bdb328b096b74792ba6f0a6fa53ca7a6",
            "6985ecf433124486a8093a57789fb42d",
            "34cdd08ea17c4b28bc8331594bb8bc74",
            "b768a38e69ed48fcad683f3e849c9f19",
            "0979168c64924a5cb6ee4945ee1f1bc3",
            "863512cbef4b4320be83a980bbb9f18d",
            "c296e92e9c0142e78cc3a372f213978c",
            "7923c35ffc744556a098f104f0f3d345",
            "a89f458d00f8451cbe3974bfa1692963",
            "128a1f56b216457fb22b9550413b0d19",
            "f8fad08461aa445ea8625b94adf664e2",
            "9deff7b22d3e444580efbb6f3bc8e044",
            "c5a4ee217d7a4e9899c34eeb987e3953",
            "219a92cf51d34364aa4078ec9f3f6b2f",
            "9303e1f0405d4b7d8aa513c9c518fd8e",
            "bc5d93fe09e542fd98fd99e3e3f54311",
            "883348c6861b4ceda71b3c522e9bfe94",
            "36a93c5aec29400f88ed42148f8ca4ce",
            "32b686c6b0f04867a8e6a34420421962",
            "ffdcf18bf666413195b4a0e66952edba",
            "fc5561c91430403ca6b9aeef1064eb9e",
            "084596d80b364972a63fc79729df9503",
            "86c615c50b3249aba4635c3c58f53580",
            "41b7cb10c1ca4d6d9bd5cde4f2959545",
            "580e944e811b4f778ae5a4dfb018d083",
            "9eb3e99793704b28864a321f9f093028",
            "eefcf1810947404b98c7515efb140ce5",
            "ffd81db17eff45789bfbf838d894c2cd",
            "7a89ff0739074815a1c33591b05a0cbf",
            "efe215670d1c433394794807f43f372d",
            "cb5971fecf504401a553e8480bbb2a28",
            "a96de886802e4b019820b306e050c9c3",
            "b7327203cd6b42a9ad75a44d03186070",
            "c5b2104a4133474c912622dfbe67d058",
            "4f4c086421074f4db45d533494289b34",
            "6e9b9901019542918c8c50309ee6dd0f",
            "bdb5025541024279b4a18fe181a93b30",
            "cd80aaaed7194b4b8bd17ce1d5dd4576",
            "bf078bdb05be469c8bd2afd754069d4c",
            "a2cbe085852f497b90b65b712e37d675",
            "7f0b4bb884ad49738570284e31630997",
            "cb29b6d966094b2b81c29a47d0fbf92d",
            "098f747bca6446b09cfd9f97bd9d7651",
            "e55ed7ef5bc6438a95ae5a80e10b5175",
            "549d48cad2694eb3bdfc123cd212271b",
            "e4c9051a670641518b936d8fa745a4f5",
            "90ecfde557ba42f5be8d73e920a9c533",
            "669d6e49a7cb40c6b7a4abfbc12bf0e5",
            "164dc8cfb4ec46e9b241241968291412",
            "4cd42bdd7a364539a8efe5aa613b0c7a",
            "3df7029f288843ef8058680a912f64dc",
            "4b8683e9baa8495689ce086f88626369",
            "b3411dedab4f4156856ba817d580910a",
            "c34573eb3d8540fe861ed035195213d0",
            "9a095d1000db487da8f45ebadffedfe9",
            "d4df9148007244448e5fe5583299c8e6",
            "681df5086ad641bca188fb6afed0569c",
            "d20af8ef9f3a4884b37ef8ecc8e4f74f",
            "3e48ca7aa03a4d1c9f4f8a2f1dd28974",
            "5c46629eed20445d9296a1a0e09f93a0",
            "2738a50fa1ec43d98501733f4555bebf",
            "365e05bc32654b229e91c9e5ffb844b9",
            "bbe97aa252584f55b2a04d40a6cb260e",
            "d27fd8187763449a95dccebf37fe8c2d",
            "f605834673d849babaf153ae58a1a874",
            "069c63c9d42b47dea3e009d674269dc5",
            "37af604c63784e08abaa44330f227eba",
            "848e684f604d43aea8ed168a226793ca",
            "04a9f26a192d4849b41b8c9e17f86bea",
            "13c680d401504679aec02d0dee5db22c",
            "11eec0770f0444e0acadd5821d3a3caa",
            "5ee5b0d187764b788618227c2f6bf481",
            "f5f1a69050cb41bca814fb3801a5e2de",
            "44a17ef843614e008bbda438d2e431d9",
            "cf879741e3e8439b81d83e36ecfa876f",
            "1dfc998dda134be480980215a23e5ab3",
            "54f1274ff16d4dee910c7d2e09561a01",
            "4d31b1046ad74500b6e38a31dc79251c",
            "635784e383804132b0f9f0240e4c163f",
            "6bf2efc4993a48fbb31fe7d638fcb79c",
            "e8b4e0f093674634a0ea0f1abaefc66d",
            "94baf9b5ac0940da836b0bf0bf7de767",
            "04131507da364377bcb909b1a32d805b",
            "a69aac0120ec4f758516bff0aff7179f",
            "b44025624423415aba967686d08c3a76",
            "4785c4f83f0d446fbb52c3f5b6c6284a",
            "7b688ec786754e4190218fd3237426ac",
            "7c405905a1b7452d8aa1836309a45301",
            "1cfb620dc37f4459a423f9c9a75414e2",
            "23957ac29d5d4895a4eef949616f6662",
            "00b34a42df594b91872dcb24c6982655",
            "1a107ca97dd84273bf847d9630d1ab0b",
            "f693b44c7c374cf2afb58de8fbe24ec5",
            "78bd7e1c19654cc0b1559e35da826aa5",
            "9e8d4cc5fca643ae8014d454883f7c17",
            "abc3b59e75ec45bbaaf90b2e634a8b15",
            "47b1edd985be4ba987bead5182336dc7",
            "f37e9e7a22284b81a96fe0a8ae637aea",
            "746a92d7e30142eb91332427fdf67e0e",
            "a0cead76e2344b9d8ea6fce268a19652",
            "9f570c52ca174449ab5cb027817f2d04",
            "44d21d43663e468fbb8b69afa1cdd260"
          ]
        }
      },
      "execution_count": null,
      "outputs": [
        {
          "output_type": "stream",
          "name": "stderr",
          "text": [
            "/usr/local/lib/python3.11/dist-packages/huggingface_hub/utils/_auth.py:94: UserWarning: \n",
            "The secret `HF_TOKEN` does not exist in your Colab secrets.\n",
            "To authenticate with the Hugging Face Hub, create a token in your settings tab (https://huggingface.co/settings/tokens), set it as secret in your Google Colab and restart your session.\n",
            "You will be able to reuse this secret in all of your notebooks.\n",
            "Please note that authentication is recommended but still optional to access public models or datasets.\n",
            "  warnings.warn(\n"
          ]
        },
        {
          "output_type": "display_data",
          "data": {
            "text/plain": [
              "tokenizer_config.json:   0%|          | 0.00/52.0 [00:00<?, ?B/s]"
            ],
            "application/vnd.jupyter.widget-view+json": {
              "version_major": 2,
              "version_minor": 0,
              "model_id": "7b78e10342004903936df1bfd4efa96c"
            }
          },
          "metadata": {}
        },
        {
          "output_type": "display_data",
          "data": {
            "text/plain": [
              "vocab.json:   0%|          | 0.00/899k [00:00<?, ?B/s]"
            ],
            "application/vnd.jupyter.widget-view+json": {
              "version_major": 2,
              "version_minor": 0,
              "model_id": "9f01c7ce9edf41609f2ecb5654cb80a6"
            }
          },
          "metadata": {}
        },
        {
          "output_type": "display_data",
          "data": {
            "text/plain": [
              "merges.txt:   0%|          | 0.00/456k [00:00<?, ?B/s]"
            ],
            "application/vnd.jupyter.widget-view+json": {
              "version_major": 2,
              "version_minor": 0,
              "model_id": "2110738db4d9415a9b4c5f26f9a342e5"
            }
          },
          "metadata": {}
        },
        {
          "output_type": "display_data",
          "data": {
            "text/plain": [
              "config.json:   0%|          | 0.00/474 [00:00<?, ?B/s]"
            ],
            "application/vnd.jupyter.widget-view+json": {
              "version_major": 2,
              "version_minor": 0,
              "model_id": "b768a38e69ed48fcad683f3e849c9f19"
            }
          },
          "metadata": {}
        },
        {
          "output_type": "display_data",
          "data": {
            "text/plain": [
              "pytorch_model.bin:   0%|          | 0.00/559M [00:00<?, ?B/s]"
            ],
            "application/vnd.jupyter.widget-view+json": {
              "version_major": 2,
              "version_minor": 0,
              "model_id": "9303e1f0405d4b7d8aa513c9c518fd8e"
            }
          },
          "metadata": {}
        },
        {
          "output_type": "stream",
          "name": "stderr",
          "text": [
            "Some weights of DebertaForSequenceClassification were not initialized from the model checkpoint at microsoft/deberta-base and are newly initialized: ['classifier.bias', 'classifier.weight', 'pooler.dense.bias', 'pooler.dense.weight']\n",
            "You should probably TRAIN this model on a down-stream task to be able to use it for predictions and inference.\n"
          ]
        },
        {
          "output_type": "display_data",
          "data": {
            "text/plain": [
              "tokenizer_config.json:   0%|          | 0.00/25.0 [00:00<?, ?B/s]"
            ],
            "application/vnd.jupyter.widget-view+json": {
              "version_major": 2,
              "version_minor": 0,
              "model_id": "9eb3e99793704b28864a321f9f093028"
            }
          },
          "metadata": {}
        },
        {
          "output_type": "display_data",
          "data": {
            "text/plain": [
              "vocab.json:   0%|          | 0.00/899k [00:00<?, ?B/s]"
            ],
            "application/vnd.jupyter.widget-view+json": {
              "version_major": 2,
              "version_minor": 0,
              "model_id": "bdb5025541024279b4a18fe181a93b30"
            }
          },
          "metadata": {}
        },
        {
          "output_type": "display_data",
          "data": {
            "text/plain": [
              "merges.txt:   0%|          | 0.00/456k [00:00<?, ?B/s]"
            ],
            "application/vnd.jupyter.widget-view+json": {
              "version_major": 2,
              "version_minor": 0,
              "model_id": "669d6e49a7cb40c6b7a4abfbc12bf0e5"
            }
          },
          "metadata": {}
        },
        {
          "output_type": "display_data",
          "data": {
            "text/plain": [
              "model.safetensors:   0%|          | 0.00/559M [00:00<?, ?B/s]"
            ],
            "application/vnd.jupyter.widget-view+json": {
              "version_major": 2,
              "version_minor": 0,
              "model_id": "3e48ca7aa03a4d1c9f4f8a2f1dd28974"
            }
          },
          "metadata": {}
        },
        {
          "output_type": "display_data",
          "data": {
            "text/plain": [
              "tokenizer.json:   0%|          | 0.00/1.36M [00:00<?, ?B/s]"
            ],
            "application/vnd.jupyter.widget-view+json": {
              "version_major": 2,
              "version_minor": 0,
              "model_id": "13c680d401504679aec02d0dee5db22c"
            }
          },
          "metadata": {}
        },
        {
          "output_type": "display_data",
          "data": {
            "text/plain": [
              "config.json:   0%|          | 0.00/481 [00:00<?, ?B/s]"
            ],
            "application/vnd.jupyter.widget-view+json": {
              "version_major": 2,
              "version_minor": 0,
              "model_id": "e8b4e0f093674634a0ea0f1abaefc66d"
            }
          },
          "metadata": {}
        },
        {
          "output_type": "display_data",
          "data": {
            "text/plain": [
              "model.safetensors:   0%|          | 0.00/499M [00:00<?, ?B/s]"
            ],
            "application/vnd.jupyter.widget-view+json": {
              "version_major": 2,
              "version_minor": 0,
              "model_id": "1a107ca97dd84273bf847d9630d1ab0b"
            }
          },
          "metadata": {}
        },
        {
          "output_type": "stream",
          "name": "stderr",
          "text": [
            "Some weights of RobertaForSequenceClassification were not initialized from the model checkpoint at roberta-base and are newly initialized: ['classifier.dense.bias', 'classifier.dense.weight', 'classifier.out_proj.bias', 'classifier.out_proj.weight']\n",
            "You should probably TRAIN this model on a down-stream task to be able to use it for predictions and inference.\n"
          ]
        }
      ]
    },
    {
      "cell_type": "code",
      "source": [
        "def get_optimizer_grouped_parameters(model, weight_decay, base_lr, layer_decay):\n",
        "    no_decay = [\"bias\", \"LayerNorm.weight\"] # Ignore these\n",
        "\n",
        "    if hasattr(model, \"roberta\"):\n",
        "        # ========== RoBERTa ==========\n",
        "        backbone = model.roberta\n",
        "        classifier = model.classifier\n",
        "        encoder_layers = backbone.encoder.layer\n",
        "    elif hasattr(model, \"distilbert\"):\n",
        "        # ========== DistilBERT ==========\n",
        "        backbone = model.distilbert\n",
        "        classifier = model.classifier\n",
        "        encoder_layers = backbone.transformer.layer  # DistilBERT has `transformer.layer`\n",
        "    elif hasattr(model, \"deberta\"):\n",
        "        backbone = model.deberta\n",
        "        classifier = model.classifier\n",
        "        encoder_layers = backbone.encoder.layer\n",
        "    elif hasattr(model, \"electra\"):\n",
        "        backbone = model.electra\n",
        "        classifier = model.classifier\n",
        "        encoder_layers = backbone.encoder.layer\n",
        "    else:\n",
        "        raise ValueError(\"Unsupported model type for LLRD. Expected RoBERTa, DeBERTa, Electra, or DistilBERT.\")\n",
        "\n",
        "\n",
        "    num_layers = backbone.config.num_hidden_layers\n",
        "\n",
        "    embedding_params = list(backbone.embeddings.named_parameters())\n",
        "\n",
        "    # Group parameters in embeddings with extra decay\n",
        "    optimizer_grouped_parameters = []\n",
        "    optimizer_grouped_parameters.append({\n",
        "        \"params\": [p for n, p in embedding_params if not any(nd in n for nd in no_decay)],\n",
        "        \"weight_decay\": weight_decay,\n",
        "        \"lr\": base_lr * (layer_decay ** (num_layers + 1))\n",
        "    })\n",
        "    optimizer_grouped_parameters.append({\n",
        "        \"params\": [p for n, p in embedding_params if any(nd in n for nd in no_decay)],\n",
        "        \"weight_decay\": 0.0,\n",
        "        \"lr\": base_lr * (layer_decay ** (num_layers + 1))\n",
        "    })\n",
        "\n",
        "    # Group parameters in each encoder layer\n",
        "    for i in range(num_layers):\n",
        "        layer = encoder_layers[i]\n",
        "        lr_scale = base_lr * (layer_decay ** (num_layers - i))\n",
        "\n",
        "        layer_params = list(layer.named_parameters())\n",
        "        optimizer_grouped_parameters.append({\n",
        "            \"params\": [p for n, p in layer_params if not any(nd in n for nd in no_decay)],\n",
        "            \"weight_decay\": weight_decay,\n",
        "            \"lr\": lr_scale\n",
        "        })\n",
        "        optimizer_grouped_parameters.append({\n",
        "            \"params\": [p for n, p in layer_params if any(nd in n for nd in no_decay)],\n",
        "            \"weight_decay\": 0.0,\n",
        "            \"lr\": lr_scale\n",
        "        })\n",
        "\n",
        "    # Group parameters in the classifer head with base_lr\n",
        "    classifer_params = list(model.classifier.named_parameters())\n",
        "    optimizer_grouped_parameters.append({\n",
        "        \"params\": [p for n, p in classifer_params if not any(nd in n for nd in no_decay)],\n",
        "        \"weight_decay\": weight_decay,\n",
        "        \"lr\": base_lr\n",
        "    })\n",
        "    optimizer_grouped_parameters.append({\n",
        "        \"params\": [p for n, p in classifer_params if any(nd in n for nd in no_decay)],\n",
        "        \"weight_decay\": 0.0,\n",
        "        \"lr\": base_lr\n",
        "    })\n",
        "\n",
        "    return optimizer_grouped_parameters"
      ],
      "metadata": {
        "id": "6ydGmlJlMDK4"
      },
      "execution_count": null,
      "outputs": []
    },
    {
      "cell_type": "markdown",
      "source": [
        "### 3 - Ensemble Models"
      ],
      "metadata": {
        "id": "ZZwxPLK-AvGt"
      }
    },
    {
      "cell_type": "code",
      "source": [
        "!pip install evaluate --quiet"
      ],
      "metadata": {
        "id": "KlMnaUzlS-sP",
        "colab": {
          "base_uri": "https://localhost:8080/"
        },
        "outputId": "2c320f29-b006-4160-9bba-3526067b2b28"
      },
      "execution_count": null,
      "outputs": [
        {
          "output_type": "stream",
          "name": "stdout",
          "text": [
            "\u001b[?25l   \u001b[90m━━━━━━━━━━━━━━━━━━━━━━━━━━━━━━━━━━━━━━━━\u001b[0m \u001b[32m0.0/84.0 kB\u001b[0m \u001b[31m?\u001b[0m eta \u001b[36m-:--:--\u001b[0m\r\u001b[2K   \u001b[90m━━━━━━━━━━━━━━━━━━━━━━━━━━━━━━━━━━━━━━━━\u001b[0m \u001b[32m84.0/84.0 kB\u001b[0m \u001b[31m3.4 MB/s\u001b[0m eta \u001b[36m0:00:00\u001b[0m\n",
            "\u001b[?25h\u001b[?25l   \u001b[90m━━━━━━━━━━━━━━━━━━━━━━━━━━━━━━━━━━━━━━━━\u001b[0m \u001b[32m0.0/485.4 kB\u001b[0m \u001b[31m?\u001b[0m eta \u001b[36m-:--:--\u001b[0m\r\u001b[2K   \u001b[91m━━━━━━━━━━━━━━━━━━━━━━━━━━━━━━━━━━━━━━━\u001b[0m\u001b[91m╸\u001b[0m \u001b[32m481.3/485.4 kB\u001b[0m \u001b[31m19.4 MB/s\u001b[0m eta \u001b[36m0:00:01\u001b[0m\r\u001b[2K   \u001b[90m━━━━━━━━━━━━━━━━━━━━━━━━━━━━━━━━━━━━━━━━\u001b[0m \u001b[32m485.4/485.4 kB\u001b[0m \u001b[31m13.3 MB/s\u001b[0m eta \u001b[36m0:00:00\u001b[0m\n",
            "\u001b[2K   \u001b[90m━━━━━━━━━━━━━━━━━━━━━━━━━━━━━━━━━━━━━━━━\u001b[0m \u001b[32m116.3/116.3 kB\u001b[0m \u001b[31m10.5 MB/s\u001b[0m eta \u001b[36m0:00:00\u001b[0m\n",
            "\u001b[2K   \u001b[90m━━━━━━━━━━━━━━━━━━━━━━━━━━━━━━━━━━━━━━━━\u001b[0m \u001b[32m143.5/143.5 kB\u001b[0m \u001b[31m11.4 MB/s\u001b[0m eta \u001b[36m0:00:00\u001b[0m\n",
            "\u001b[2K   \u001b[90m━━━━━━━━━━━━━━━━━━━━━━━━━━━━━━━━━━━━━━━━\u001b[0m \u001b[32m194.8/194.8 kB\u001b[0m \u001b[31m17.7 MB/s\u001b[0m eta \u001b[36m0:00:00\u001b[0m\n",
            "\u001b[?25h"
          ]
        }
      ]
    },
    {
      "cell_type": "code",
      "source": [
        "import torch\n",
        "import torch.nn as nn\n",
        "import torch.nn.functional as F\n",
        "import torch.optim as optim\n",
        "from transformers import AutoModelForSequenceClassification, AutoTokenizer\n",
        "from torch.utils.data import DataLoader, Dataset\n",
        "import evaluate\n",
        "\n",
        "# MARK: Ensemble Model\n",
        "class RobertaDebertaEnsemble(nn.Module):\n",
        "    def __init__(self, roberta_model, deberta_model):\n",
        "        \"\"\"\n",
        "        Ensemble model that averages logits from RoBERTa and DeBERTa.\n",
        "\n",
        "        Args:\n",
        "            roberta_model (str): Hugging Face model name for RoBERTa.\n",
        "            deberta_model (str): Hugging Face model name for DeBERTa.\n",
        "            num_labels (int): Number of output classes.\n",
        "        \"\"\"\n",
        "        super().__init__()\n",
        "        self.device = \"cuda\" if torch.cuda.is_available() else \"cpu\"\n",
        "\n",
        "        # Load models\n",
        "        self.roberta = roberta_model.to(self.device)\n",
        "        self.deberta = deberta_model.to(self.device)\n",
        "\n",
        "        self.weight_logits = nn.Parameter(torch.tensor([0.5, 0.5]))\n",
        "\n",
        "    def forward(self, roberta_inputs, deberta_inputs):\n",
        "        \"\"\"\n",
        "        Forward pass for both models.\n",
        "\n",
        "        Args:\n",
        "            roberta_inputs (dict): Tokenized input for RoBERTa.\n",
        "            deberta_inputs (dict): Tokenized input for DeBERTa.\n",
        "\n",
        "        Returns:\n",
        "            torch.Tensor: Averaged logits from both models.\n",
        "        \"\"\"\n",
        "        roberta_logits = self.roberta(**roberta_inputs).logits\n",
        "        deberta_logits = self.deberta(**deberta_inputs).logits\n",
        "\n",
        "        # Convert raw weights into valid probabilities\n",
        "        weights = F.softmax(self.weight_logits, dim=0)\n",
        "\n",
        "        # Average logits\n",
        "        ensemble_logits = weights[0] * roberta_logits + weights[1] * deberta_logits\n",
        "        return ensemble_logits\n",
        "\n",
        "# MARK: Dataset Class\n",
        "class CustomDataset(Dataset):\n",
        "    def __init__(self, df, tokenizer_roberta, tokenizer_deberta, max_length=512, label_column='label'):\n",
        "        self.tokenized_roberta = tokenizer_roberta(\n",
        "            df['text'].tolist(), truncation=True, padding=True, max_length=max_length, return_tensors='pt'\n",
        "        )\n",
        "        self.tokenized_deberta = tokenizer_deberta(\n",
        "            df['text'].tolist(), truncation=True, padding=True, max_length=max_length, return_tensors='pt'\n",
        "        )\n",
        "        self.labels = torch.tensor(df[label_column].tolist(), dtype=torch.long)\n",
        "\n",
        "\n",
        "    def __len__(self):\n",
        "        return len(self.labels)\n",
        "\n",
        "    def __getitem__(self, idx):\n",
        "        return (\n",
        "            {k: v[idx] for k, v in self.tokenized_roberta.items()},\n",
        "            {k: v[idx] for k, v in self.tokenized_deberta.items()},\n",
        "            self.labels[idx]\n",
        "        )"
      ],
      "metadata": {
        "id": "u0G-6WAvLRih"
      },
      "execution_count": null,
      "outputs": []
    },
    {
      "cell_type": "markdown",
      "metadata": {
        "id": "vy3YVVoFE1yY"
      },
      "source": [
        "## Model Training"
      ]
    },
    {
      "cell_type": "code",
      "source": [
        "from torch.utils.data import WeightedRandomSampler\n",
        "\n",
        "# MARK: Weighted sampling\n",
        "def get_class_weights(df, label_column=\"label\"):\n",
        "    \"\"\" Compute class weights based on the inverse frequency of labels    \"\"\"\n",
        "    class_counts = df[label_column].value_counts().to_dict()  # Get class counts\n",
        "    total_samples = len(df)\n",
        "\n",
        "    # Compute inverse frequency weights\n",
        "    # weights = {cls: total_samples / count for cls, count in class_counts.items()}\n",
        "    max_weight = max(total_samples / np.array(list(class_counts.values())))\n",
        "    weights = {cls: (total_samples / count) / max_weight for cls, count in class_counts.items()}\n",
        "\n",
        "    # Assign a weight to each sample based on its class\n",
        "    sample_weights = df[label_column].map(weights).values\n",
        "    sample_weights = torch.tensor(sample_weights, dtype=torch.float)\n",
        "\n",
        "    # Debugging\n",
        "    print(\"\\n[DEBUG] Class Counts:\", class_counts)\n",
        "    print(\"[DEBUG] Computed Weights:\", weights)\n",
        "    print(\"[DEBUG] First 10 Sample Weights:\", sample_weights[:10].tolist())\n",
        "\n",
        "    return sample_weights\n",
        "\n",
        "# Training Function\n",
        "def train_ensemble(model, train_loader, val_loader, optimizer, criterion, num_epochs=10):\n",
        "    model.to(device)\n",
        "    scaler = torch.amp.GradScaler(\"cuda\")\n",
        "\n",
        "    for epoch in range(num_epochs):\n",
        "        total_train_loss = 0.0\n",
        "        total_val_loss = 0.0\n",
        "        preds = []\n",
        "        label_counts = {0: 0, 1: 0}\n",
        "\n",
        "        print(f\"Epoch {epoch+1}/{num_epochs}\")\n",
        "        print(\"---------------------------------\")\n",
        "\n",
        "        model.train()\n",
        "        for roberta_inputs, deberta_inputs, labels in train_loader:\n",
        "            # Move to device\n",
        "            roberta_inputs = {key: val.to(model.device) for key, val in roberta_inputs.items()}\n",
        "            deberta_inputs = {key: val.to(model.device) for key, val in deberta_inputs.items()}\n",
        "            labels = labels.to(model.device)\n",
        "\n",
        "            # Zero gradients\n",
        "            optimizer.zero_grad()\n",
        "\n",
        "            with torch.amp.autocast(\"cuda\", dtype=torch.float32):  # Mixed precision\n",
        "                logits = model(roberta_inputs, deberta_inputs)\n",
        "                loss = criterion(logits, labels)  # Weighted loss\n",
        "\n",
        "\n",
        "            scaler.scale(loss).backward()\n",
        "            scaler.unscale_(optimizer)\n",
        "            scaler.step(optimizer)\n",
        "            scaler.update()\n",
        "\n",
        "            total_train_loss += loss.item()\n",
        "\n",
        "            for label in labels.cpu().numpy():\n",
        "                label_counts[label] += 1\n",
        "\n",
        "\n",
        "        avg_train_loss = total_train_loss / len(train_loader)\n",
        "        print(f\"Epoch [{epoch+1}/{num_epochs}], Loss: {avg_train_loss:.4f}\")\n",
        "\n",
        "        print(f\"[DEBUG] Sampled Class Distribution in Training:\")\n",
        "        print(f\"   - Class 0 (Negative): {label_counts[0]} samples\")\n",
        "        print(f\"   - Class 1 (Positive): {label_counts[1]} samples\")\n",
        "\n",
        "\n",
        "        model.eval()\n",
        "        with torch.no_grad():\n",
        "            for roberta_inputs, deberta_inputs, labels in val_loader:\n",
        "                # Move to device\n",
        "                roberta_inputs = {key: val.to(model.device) for key, val in roberta_inputs.items()}\n",
        "                deberta_inputs = {key: val.to(model.device) for key, val in deberta_inputs.items()}\n",
        "\n",
        "                labels = labels.to(model.device)\n",
        "\n",
        "                logits = model(roberta_inputs, deberta_inputs)\n",
        "\n",
        "                pred = torch.argmax(logits, dim=-1)\n",
        "\n",
        "                loss = criterion(logits, labels)\n",
        "                total_val_loss += loss.item()\n",
        "\n",
        "                preds.extend(pred.cpu().tolist())\n",
        "\n",
        "        avg_val_loss = total_val_loss / len(val_loader)\n",
        "        print(f\"Validation Loss: {avg_val_loss:.4f}\")\n",
        "        metric = evaluate.load(\"f1\")\n",
        "        print(f\"F1 Score: {metric.compute(predictions=preds, references=internal_val_df.label.tolist())}\")\n"
      ],
      "metadata": {
        "id": "ZgxPhs37bbc6"
      },
      "execution_count": null,
      "outputs": []
    },
    {
      "cell_type": "code",
      "source": [
        "# MARK: Hyperparameters\n",
        "base_lr = 5e-5\n",
        "weight_decay = 0.01\n",
        "layer_decay = 0.8\n",
        "max_length = 512\n",
        "\n",
        "deberta_optimizer_grouped_params = get_optimizer_grouped_parameters(deberta_model, weight_decay, base_lr, layer_decay)\n",
        "roberta_model_grouped_params = get_optimizer_grouped_parameters(roberta_model, weight_decay, base_lr, layer_decay)\n",
        "\n",
        "deberta_optimizer = AdamW(deberta_optimizer_grouped_params, lr=base_lr)\n",
        "roberta_optimizer = AdamW(roberta_model_grouped_params, lr=base_lr)"
      ],
      "metadata": {
        "colab": {
          "base_uri": "https://localhost:8080/"
        },
        "id": "OIVYZPDqMKSW",
        "outputId": "bc05fa67-9527-40c0-f826-b0c79e6230dd"
      },
      "execution_count": null,
      "outputs": [
        {
          "output_type": "stream",
          "name": "stderr",
          "text": [
            "/usr/local/lib/python3.11/dist-packages/transformers/optimization.py:591: FutureWarning: This implementation of AdamW is deprecated and will be removed in a future version. Use the PyTorch implementation torch.optim.AdamW instead, or set `no_deprecation_warning=True` to disable this warning\n",
            "  warnings.warn(\n"
          ]
        }
      ]
    },
    {
      "cell_type": "code",
      "source": [
        "print(\"Using device\", device)\n",
        "\n",
        "train_weights = get_class_weights(augmented_train_set)\n",
        "\n",
        "train_weights_np = train_weights.numpy()\n",
        "\n",
        "print(f\"[DEBUG] First 10 Training Weights: {train_weights_np[:10]}\")\n",
        "\n",
        "# Class weighted sampler\n",
        "train_sampler = WeightedRandomSampler(weights=train_weights, num_samples=len(augmented_train_set[augmented_train_set['label'] == 1]), replacement=True)\n",
        "# val_sampler = WeightedRandomSampler(weights=val_weights, num_samples=len(val_weights), replacement=True)\n",
        "\n",
        "# Create dataset and dataloader\n",
        "trainset = CustomDataset(augmented_train_set, roberta_tokenizer, deberta_tokenizer)\n",
        "valset = CustomDataset(internal_val_df, roberta_tokenizer, deberta_tokenizer)\n",
        "\n",
        "train_loader = DataLoader(trainset, sampler=train_sampler, batch_size=4, num_workers=2, pin_memory=True)\n",
        "val_loader = DataLoader(valset, shuffle=False, batch_size=4, num_workers=2, pin_memory=True)\n",
        "\n",
        "# Initialize model and optimizers\n",
        "ensemble_model = RobertaDebertaEnsemble(roberta_model, deberta_model)\n",
        "\n",
        "deberta_optimizer_grouped_params = get_optimizer_grouped_parameters(deberta_model, weight_decay, base_lr, layer_decay)\n",
        "roberta_model_grouped_params = get_optimizer_grouped_parameters(roberta_model, weight_decay, base_lr, layer_decay)\n",
        "\n",
        "optimizer = torch.optim.AdamW(deberta_optimizer_grouped_params + roberta_model_grouped_params, lr=base_lr)\n",
        "\n",
        "class_weights = torch.tensor([train_weights_np[0], train_weights_np[1]], dtype=torch.float32).to(device)\n",
        "criterion = nn.CrossEntropyLoss(weight=class_weights)\n",
        "\n",
        "criterion = nn.CrossEntropyLoss()\n",
        "\n",
        "# Train the model\n",
        "train_ensemble(ensemble_model, train_loader, val_loader, optimizer, criterion, num_epochs=5)"
      ],
      "metadata": {
        "colab": {
          "base_uri": "https://localhost:8080/",
          "height": 908,
          "referenced_widgets": [
            "cd45a882395840fdb5bf982e273b2c81",
            "e5f4529e4e00481f83286e917ec19ed8",
            "e23cba8e31924c6cb05e00ebe1bf8241",
            "0777b1e0e0ac4c96bb11e4f9a227fbfd",
            "6525cdaaacf24e2f8d03fae012ab9a8a",
            "b821e44daa424a43a0ef2b89449f0ab7",
            "fc3e097b612743709790db553127470c",
            "c0d4e7e3ab6143c09cb7db174bca7c95",
            "350e3448beca4ac7bd34911a52487fe2",
            "8181fb0bd7cb4f9a891aa38ec42ed208",
            "7622e18c8e22468496d17be03ad01e37"
          ]
        },
        "id": "GjS0Waloe-Up",
        "outputId": "baa03ed7-4aab-4d23-839e-c00166152f58"
      },
      "execution_count": null,
      "outputs": [
        {
          "output_type": "stream",
          "name": "stdout",
          "text": [
            "Using device cuda\n",
            "\n",
            "[DEBUG] Class Counts: {0: 6065, 1: 1270}\n",
            "[DEBUG] Computed Weights: {0: 0.20939818631492166, 1: 1.0}\n",
            "[DEBUG] First 10 Sample Weights: [0.20939818024635315, 0.20939818024635315, 0.20939818024635315, 0.20939818024635315, 0.20939818024635315, 0.20939818024635315, 0.20939818024635315, 0.20939818024635315, 0.20939818024635315, 0.20939818024635315]\n",
            "[DEBUG] First 10 Training Weights: [0.20939818 0.20939818 0.20939818 0.20939818 0.20939818 0.20939818\n",
            " 0.20939818 0.20939818 0.20939818 0.20939818]\n",
            "Epoch 1/5\n",
            "---------------------------------\n",
            "Epoch [1/5], Loss: 0.4682\n",
            "[DEBUG] Sampled Class Distribution in Training:\n",
            "   - Class 0 (Negative): 636 samples\n",
            "   - Class 1 (Positive): 634 samples\n",
            "Validation Loss: 0.2516\n"
          ]
        },
        {
          "output_type": "display_data",
          "data": {
            "text/plain": [
              "Downloading builder script:   0%|          | 0.00/6.79k [00:00<?, ?B/s]"
            ],
            "application/vnd.jupyter.widget-view+json": {
              "version_major": 2,
              "version_minor": 0,
              "model_id": "cd45a882395840fdb5bf982e273b2c81"
            }
          },
          "metadata": {}
        },
        {
          "output_type": "stream",
          "name": "stdout",
          "text": [
            "F1 Score: {'f1': 0.39855072463768115}\n",
            "Epoch 2/5\n",
            "---------------------------------\n",
            "Epoch [2/5], Loss: 0.3363\n",
            "[DEBUG] Sampled Class Distribution in Training:\n",
            "   - Class 0 (Negative): 604 samples\n",
            "   - Class 1 (Positive): 666 samples\n",
            "Validation Loss: 0.2510\n",
            "F1 Score: {'f1': 0.5078534031413613}\n",
            "Epoch 3/5\n",
            "---------------------------------\n",
            "Epoch [3/5], Loss: 0.3027\n",
            "[DEBUG] Sampled Class Distribution in Training:\n",
            "   - Class 0 (Negative): 636 samples\n",
            "   - Class 1 (Positive): 634 samples\n",
            "Validation Loss: 0.2573\n",
            "F1 Score: {'f1': 0.5053191489361702}\n",
            "Epoch 4/5\n",
            "---------------------------------\n",
            "Epoch [4/5], Loss: 0.2166\n",
            "[DEBUG] Sampled Class Distribution in Training:\n",
            "   - Class 0 (Negative): 637 samples\n",
            "   - Class 1 (Positive): 633 samples\n",
            "Validation Loss: 0.2593\n",
            "F1 Score: {'f1': 0.532258064516129}\n",
            "Epoch 5/5\n",
            "---------------------------------\n",
            "Epoch [5/5], Loss: 0.2350\n",
            "[DEBUG] Sampled Class Distribution in Training:\n",
            "   - Class 0 (Negative): 651 samples\n",
            "   - Class 1 (Positive): 619 samples\n",
            "Validation Loss: 0.2974\n",
            "F1 Score: {'f1': 0.5138539042821159}\n"
          ]
        }
      ]
    },
    {
      "cell_type": "markdown",
      "metadata": {
        "id": "1qioFdEDYEGX"
      },
      "source": [
        "## Model Evaluation"
      ]
    },
    {
      "cell_type": "code",
      "source": [
        "from sklearn.metrics import f1_score\n",
        "from datetime import datetime\n",
        "\n",
        "device = torch.device(\"cuda\" if torch.cuda.is_available() else \"cpu\")\n",
        "ensemble_model.to(device)"
      ],
      "metadata": {
        "id": "A0pmRQywbyOH",
        "outputId": "6a053d53-f54d-4108-e2de-b7672455f16c",
        "colab": {
          "base_uri": "https://localhost:8080/"
        },
        "collapsed": true
      },
      "execution_count": null,
      "outputs": [
        {
          "output_type": "execute_result",
          "data": {
            "text/plain": [
              "RobertaDebertaEnsemble(\n",
              "  (roberta): RobertaForSequenceClassification(\n",
              "    (roberta): RobertaModel(\n",
              "      (embeddings): RobertaEmbeddings(\n",
              "        (word_embeddings): Embedding(50265, 768, padding_idx=1)\n",
              "        (position_embeddings): Embedding(514, 768, padding_idx=1)\n",
              "        (token_type_embeddings): Embedding(1, 768)\n",
              "        (LayerNorm): LayerNorm((768,), eps=1e-05, elementwise_affine=True)\n",
              "        (dropout): Dropout(p=0.1, inplace=False)\n",
              "      )\n",
              "      (encoder): RobertaEncoder(\n",
              "        (layer): ModuleList(\n",
              "          (0-11): 12 x RobertaLayer(\n",
              "            (attention): RobertaAttention(\n",
              "              (self): RobertaSdpaSelfAttention(\n",
              "                (query): Linear(in_features=768, out_features=768, bias=True)\n",
              "                (key): Linear(in_features=768, out_features=768, bias=True)\n",
              "                (value): Linear(in_features=768, out_features=768, bias=True)\n",
              "                (dropout): Dropout(p=0.1, inplace=False)\n",
              "              )\n",
              "              (output): RobertaSelfOutput(\n",
              "                (dense): Linear(in_features=768, out_features=768, bias=True)\n",
              "                (LayerNorm): LayerNorm((768,), eps=1e-05, elementwise_affine=True)\n",
              "                (dropout): Dropout(p=0.1, inplace=False)\n",
              "              )\n",
              "            )\n",
              "            (intermediate): RobertaIntermediate(\n",
              "              (dense): Linear(in_features=768, out_features=3072, bias=True)\n",
              "              (intermediate_act_fn): GELUActivation()\n",
              "            )\n",
              "            (output): RobertaOutput(\n",
              "              (dense): Linear(in_features=3072, out_features=768, bias=True)\n",
              "              (LayerNorm): LayerNorm((768,), eps=1e-05, elementwise_affine=True)\n",
              "              (dropout): Dropout(p=0.1, inplace=False)\n",
              "            )\n",
              "          )\n",
              "        )\n",
              "      )\n",
              "    )\n",
              "    (classifier): RobertaClassificationHead(\n",
              "      (dense): Linear(in_features=768, out_features=768, bias=True)\n",
              "      (dropout): Dropout(p=0.1, inplace=False)\n",
              "      (out_proj): Linear(in_features=768, out_features=2, bias=True)\n",
              "    )\n",
              "  )\n",
              "  (deberta): DebertaForSequenceClassification(\n",
              "    (deberta): DebertaModel(\n",
              "      (embeddings): DebertaEmbeddings(\n",
              "        (word_embeddings): Embedding(50265, 768, padding_idx=0)\n",
              "        (LayerNorm): DebertaLayerNorm()\n",
              "        (dropout): Dropout(p=0.1, inplace=False)\n",
              "      )\n",
              "      (encoder): DebertaEncoder(\n",
              "        (layer): ModuleList(\n",
              "          (0-11): 12 x DebertaLayer(\n",
              "            (attention): DebertaAttention(\n",
              "              (self): DisentangledSelfAttention(\n",
              "                (in_proj): Linear(in_features=768, out_features=2304, bias=False)\n",
              "                (pos_dropout): Dropout(p=0.1, inplace=False)\n",
              "                (pos_proj): Linear(in_features=768, out_features=768, bias=False)\n",
              "                (pos_q_proj): Linear(in_features=768, out_features=768, bias=True)\n",
              "                (dropout): Dropout(p=0.1, inplace=False)\n",
              "              )\n",
              "              (output): DebertaSelfOutput(\n",
              "                (dense): Linear(in_features=768, out_features=768, bias=True)\n",
              "                (LayerNorm): DebertaLayerNorm()\n",
              "                (dropout): Dropout(p=0.1, inplace=False)\n",
              "              )\n",
              "            )\n",
              "            (intermediate): DebertaIntermediate(\n",
              "              (dense): Linear(in_features=768, out_features=3072, bias=True)\n",
              "              (intermediate_act_fn): GELUActivation()\n",
              "            )\n",
              "            (output): DebertaOutput(\n",
              "              (dense): Linear(in_features=3072, out_features=768, bias=True)\n",
              "              (LayerNorm): DebertaLayerNorm()\n",
              "              (dropout): Dropout(p=0.1, inplace=False)\n",
              "            )\n",
              "          )\n",
              "        )\n",
              "        (rel_embeddings): Embedding(1024, 768)\n",
              "      )\n",
              "    )\n",
              "    (pooler): ContextPooler(\n",
              "      (dense): Linear(in_features=768, out_features=768, bias=True)\n",
              "      (dropout): Dropout(p=0, inplace=False)\n",
              "    )\n",
              "    (classifier): Linear(in_features=768, out_features=2, bias=True)\n",
              "    (dropout): Dropout(p=0.1, inplace=False)\n",
              "  )\n",
              ")"
            ]
          },
          "metadata": {},
          "execution_count": 25
        }
      ]
    },
    {
      "cell_type": "code",
      "execution_count": null,
      "metadata": {
        "colab": {
          "base_uri": "https://localhost:8080/"
        },
        "id": "ndEI6Z1qX7YV",
        "outputId": "d536f433-3da5-4f20-f3ca-2b5b9cbae357"
      },
      "outputs": [
        {
          "output_type": "stream",
          "name": "stderr",
          "text": [
            "Asking to truncate to max_length but no maximum length is provided and the model has no predefined maximum length. Default to no truncation.\n"
          ]
        },
        {
          "output_type": "stream",
          "name": "stdout",
          "text": [
            "F1 Score (Positive Class): 0.51\n",
            "F1 Score (Positive Class): 0.53\n",
            "Results saved to results.txt\n"
          ]
        }
      ],
      "source": [
        "\n",
        "def predict_texts(model, texts, tokenizer, device):\n",
        "    model.eval()\n",
        "    predictions = []\n",
        "    with torch.no_grad():\n",
        "        for text in texts:\n",
        "            inputs = tokenizer(text, return_tensors=\"pt\", truncation=True, padding=True).to(device)\n",
        "            outputs = model(**inputs)\n",
        "\n",
        "            pred = torch.argmax(outputs.logits, dim=-1).item() # binary classification\n",
        "            predictions.append(pred)\n",
        "    return predictions\n",
        "\n",
        "def evaluate_f1(predictions, true_labels):\n",
        "  f1 = f1_score(true_labels, predictions, pos_label=1)\n",
        "  print(\"F1 Score (Positive Class): {:.2f}\".format(f1))\n",
        "  return f1\n",
        "\n",
        "  # MARK: Predict Ensemble\n",
        "def predict_ensemble(model, texts, tokenizer_roberta, tokenizer_deberta, device):\n",
        "    model.eval()\n",
        "    predictions = []\n",
        "\n",
        "    with torch.no_grad():\n",
        "        for text in texts:\n",
        "            # Tokenize inputs for both models\n",
        "            roberta_inputs = tokenizer_roberta(text, return_tensors=\"pt\", truncation=True, padding=True).to(device)\n",
        "            deberta_inputs = tokenizer_deberta(text, return_tensors=\"pt\", truncation=True, padding=True).to(device)\n",
        "\n",
        "            # Forward pass through the ensemble model\n",
        "            outputs = model(roberta_inputs, deberta_inputs)\n",
        "\n",
        "            # Get the predicted label\n",
        "            pred = torch.argmax(outputs, dim=-1).item()  # Binary classification\n",
        "            predictions.append(pred)\n",
        "\n",
        "    return predictions\n",
        "\n",
        "\n",
        "# Validation Set\n",
        "# val_preds_task1, _ = model.predict(internal_val_df.text.tolist()) # Simple Transformers forward function\n",
        "# val_preds_task1 = predict_texts(model, internal_val_df.text.tolist(), tokenizer, device) # Hugging Face forward function\n",
        "val_preds_task1 = predict_ensemble(ensemble_model, internal_val_df.text.tolist(), roberta_tokenizer, deberta_tokenizer, device)\n",
        "val_f1 = evaluate_f1(val_preds_task1, internal_val_df['label'].tolist())\n",
        "\n",
        "# Test Set\n",
        "# test_preds_task1, _ = model.predict(internal_test_df.text.tolist())\n",
        "# test_preds_task1 = predict_texts(model, internal_test_df.text.tolist(), tokenizer, device)\n",
        "test_preds_task1 = predict_ensemble(ensemble_model, internal_test_df.text.tolist(), roberta_tokenizer, deberta_tokenizer, device)\n",
        "test_f1 = evaluate_f1(test_preds_task1, internal_test_df['label'].tolist())\n",
        "\n",
        "\n",
        "model_name = \"6 - Ensemble with LLRD, Augmented with back translation, Batch size = 16\"\n",
        "current_time = datetime.now().strftime(\"%Y-%m-%d %H:%M:%S\")\n",
        "results_text = (\n",
        "    f\"Results for {model_name}\\n\"\n",
        "    f\"Date: {current_time}\\n\"\n",
        "    f\"Validation F1 Score: {val_f1:.2f}\\n\"\n",
        "    f\"Test F1 Score: {test_f1:.2f}\\n\"\n",
        "    \"---------------------------------\\n\"\n",
        ")\n",
        "\n",
        "results_filename = \"results.txt\"\n",
        "with open(results_filename, \"a\", encoding=\"utf-8\") as f:\n",
        "  f.write(results_text)\n",
        "\n",
        "print(f\"Results saved to {results_filename}\")\n"
      ]
    },
    {
      "cell_type": "code",
      "source": [],
      "metadata": {
        "id": "ehENcqgH7x3D"
      },
      "execution_count": null,
      "outputs": []
    },
    {
      "cell_type": "markdown",
      "source": [
        "# Simple Baseline Models"
      ],
      "metadata": {
        "id": "vPwXNGo6aaCh"
      }
    },
    {
      "cell_type": "code",
      "source": [
        "from sklearn.linear_model import LogisticRegression\n",
        "from sklearn.metrics import f1_score\n",
        "\n",
        "#Use Downsampling as used by baseline model\n",
        "pcldf = internal_train_df[internal_train_df.label==1]\n",
        "npos = len(pcldf)\n",
        "\n",
        "trdf_ds = pd.concat([pcldf,internal_train_df[internal_train_df.label==0][:npos*2]])"
      ],
      "metadata": {
        "id": "GJzKDhUCk2QI"
      },
      "execution_count": null,
      "outputs": []
    },
    {
      "cell_type": "markdown",
      "source": [
        "## Bag of Words with Logistic Regression"
      ],
      "metadata": {
        "id": "a2SXAGBWakWb"
      }
    },
    {
      "cell_type": "code",
      "source": [
        "from sklearn.feature_extraction.text import CountVectorizer\n",
        "\n",
        "# convert text from dataframe into BoW representation\n",
        "vectorizer = CountVectorizer()\n",
        "X_train = vectorizer.fit_transform(trdf_ds['text'])\n",
        "X_test = vectorizer.transform(internal_val_df['text'])\n",
        "\n",
        "model = LogisticRegression(random_state=0)\n",
        "model.fit(X_train, trdf_ds['label'])\n",
        "\n",
        "y_pred = model.predict(X_test)\n",
        "f1 = f1_score(internal_val_df['label'], y_pred)\n",
        "print(f\"F1 Score: {f1:.4f}\")"
      ],
      "metadata": {
        "id": "2L7jr7PVapb7",
        "colab": {
          "base_uri": "https://localhost:8080/"
        },
        "outputId": "55a40286-6b7f-43d0-cb15-3f08c6006aac"
      },
      "execution_count": null,
      "outputs": [
        {
          "output_type": "stream",
          "name": "stdout",
          "text": [
            "F1 Score: 0.3883\n"
          ]
        }
      ]
    },
    {
      "cell_type": "code",
      "source": [
        "import numpy as np\n",
        "\n",
        "# Find indices where predictions don't match actual labels\n",
        "incorrect_indices = np.where(y_pred != internal_val_df['label'].values)[0]\n",
        "\n",
        "if len(incorrect_indices) > 0:\n",
        "    # Get actual labels and predictions for incorrect examples\n",
        "    actual_labels = internal_val_df.iloc[incorrect_indices]['label'].values\n",
        "    predicted_labels = y_pred[incorrect_indices]\n",
        "\n",
        "    # Count incorrect predictions for each label\n",
        "    label_0_wrong = np.sum(actual_labels == 0)\n",
        "    label_1_wrong = np.sum(actual_labels == 1)\n",
        "\n",
        "    # Calculate total counts for each label in the dataset\n",
        "    total_label_0 = np.sum(internal_val_df['label'] == 0)\n",
        "    total_label_1 = np.sum(internal_val_df['label'] == 1)\n",
        "\n",
        "    # Print summary of incorrect predictions\n",
        "    print(f\"Total incorrect predictions: {len(incorrect_indices)}\")\n",
        "    print(f\"Label 0: {label_0_wrong} incorrect out of {total_label_0} ({label_0_wrong/total_label_0:.2%})\")\n",
        "    print(f\"Label 1: {label_1_wrong} incorrect out of {total_label_1} ({label_1_wrong/total_label_1:.2%})\")\n",
        "\n",
        "    # Find examples where true label is 0 but predicted as 1\n",
        "    pred_1_actual_0_indices = incorrect_indices[np.logical_and(actual_labels == 0, predicted_labels == 1)]\n",
        "\n",
        "    # Find examples where true label is 1 but predicted as 0\n",
        "    pred_0_actual_1_indices = incorrect_indices[np.logical_and(actual_labels == 1, predicted_labels == 0)]\n",
        "\n",
        "    # Calculate average word count for each type of misclassification\n",
        "    if len(pred_1_actual_0_indices) > 0:\n",
        "        avg_words_pred_1_actual_0 = np.mean([len(internal_val_df.iloc[i]['text'].split()) for i in pred_1_actual_0_indices])\n",
        "        print(f\"\\nAverage number of words in texts classified as 1 when true label is 0: {avg_words_pred_1_actual_0:.2f} words\")\n",
        "    else:\n",
        "        print(\"\\nNo examples classified as 1 when true label is 0\")\n",
        "\n",
        "    if len(pred_0_actual_1_indices) > 0:\n",
        "        avg_words_pred_0_actual_1 = np.mean([len(internal_val_df.iloc[i]['text'].split()) for i in pred_0_actual_1_indices])\n",
        "        print(f\"Average number of words in texts classified as 0 when true label is 1: {avg_words_pred_0_actual_1:.2f} words\")\n",
        "    else:\n",
        "        print(\"No examples classified as 0 when true label is 1\")\n",
        "\n",
        "    # Pick a random incorrect example\n",
        "    random_idx = np.random.choice(incorrect_indices)\n",
        "\n",
        "    # Get the example details\n",
        "    example_text = internal_val_df.iloc[random_idx]['text']\n",
        "    expected_label = internal_val_df.iloc[random_idx]['label']\n",
        "    actual_label = y_pred[random_idx]\n",
        "\n",
        "    print(f\"\\nRandom incorrect example (index {random_idx}):\")\n",
        "    print(f\"Text: {example_text}\")\n",
        "    print(f\"Expected label: {expected_label}\")\n",
        "    print(f\"Predicted label: {actual_label}\")\n",
        "else:\n",
        "    print(\"No incorrect predictions found!\")"
      ],
      "metadata": {
        "id": "wRt98LHwtIJK",
        "outputId": "3b78b591-a64c-4e0e-b042-fad757e1d5cf",
        "colab": {
          "base_uri": "https://localhost:8080/"
        }
      },
      "execution_count": null,
      "outputs": [
        {
          "output_type": "stream",
          "name": "stdout",
          "text": [
            "Total incorrect predictions: 156\n",
            "Label 0: 46 incorrect out of 1516 (3.03%)\n",
            "Label 1: 110 incorrect out of 159 (69.18%)\n",
            "\n",
            "Average number of words in texts classified as 1 when true label is 0: 49.22 words\n",
            "Average number of words in texts classified as 0 when true label is 1: 53.42 words\n",
            "\n",
            "Random incorrect example (index 181):\n",
            "Text: \"Meanwhile , her partner in sales and mum-of-four Nita ( Angela Griffin ) is shacked up with a hopeless rogue whose \"\" promises are like his babies , easy to make , hard to deliver \"\" . And posh Pauline ( Penelope Wilton ) lives a lonely life in a big house with a husband who seems solely obsessed with his ascent through the hierarchy of the local Rotary club .\"\n",
            "Expected label: 0\n",
            "Predicted label: 1\n"
          ]
        }
      ]
    },
    {
      "cell_type": "markdown",
      "source": [
        "## Tf-IDF"
      ],
      "metadata": {
        "id": "z6k3fgQaal5C"
      }
    },
    {
      "cell_type": "code",
      "source": [
        "from sklearn.feature_extraction.text import TfidfVectorizer\n",
        "\n",
        "vectorizer_params = {\n",
        "    \"min_df\": 0.001,\n",
        "    \"ngram_range\": (1, 2),\n",
        "    \"max_features\": 10000\n",
        "}\n",
        "\n",
        "vectorizer = TfidfVectorizer(**vectorizer_params)\n",
        "X_train = vectorizer.fit_transform(trdf_ds['text'])\n",
        "X_test = vectorizer.transform(internal_val_df['text'])\n",
        "\n",
        "model = LogisticRegression(max_iter=10000, random_state=0)\n",
        "model.fit(X_train, trdf_ds['label'])\n",
        "\n",
        "y_pred = model.predict(X_test)\n",
        "f1 = f1_score(internal_val_df['label'], y_pred)\n",
        "\n",
        "print(f\"F1 Score: {f1:.4f}\")"
      ],
      "metadata": {
        "id": "iQKh6UZdap0V",
        "colab": {
          "base_uri": "https://localhost:8080/"
        },
        "outputId": "4539a68b-4bb5-462c-835c-a045e4d3e2b7"
      },
      "execution_count": null,
      "outputs": [
        {
          "output_type": "stream",
          "name": "stdout",
          "text": [
            "F1 Score: 0.3858\n"
          ]
        }
      ]
    },
    {
      "cell_type": "code",
      "source": [
        "import numpy as np\n",
        "\n",
        "# Find indices where predictions don't match actual labels\n",
        "incorrect_indices = np.where(y_pred != internal_val_df['label'].values)[0]\n",
        "\n",
        "if len(incorrect_indices) > 0:\n",
        "    # Get actual labels and predictions for incorrect examples\n",
        "    actual_labels = internal_val_df.iloc[incorrect_indices]['label'].values\n",
        "    predicted_labels = y_pred[incorrect_indices]\n",
        "\n",
        "    # Count incorrect predictions for each label\n",
        "    label_0_wrong = np.sum(actual_labels == 0)\n",
        "    label_1_wrong = np.sum(actual_labels == 1)\n",
        "\n",
        "    # Calculate total counts for each label in the dataset\n",
        "    total_label_0 = np.sum(internal_val_df['label'] == 0)\n",
        "    total_label_1 = np.sum(internal_val_df['label'] == 1)\n",
        "\n",
        "    # Print summary of incorrect predictions\n",
        "    print(f\"Total incorrect predictions: {len(incorrect_indices)}\")\n",
        "    print(f\"Label 0: {label_0_wrong} incorrect out of {total_label_0} ({label_0_wrong/total_label_0:.2%})\")\n",
        "    print(f\"Label 1: {label_1_wrong} incorrect out of {total_label_1} ({label_1_wrong/total_label_1:.2%})\")\n",
        "\n",
        "    # Find examples where true label is 0 but predicted as 1\n",
        "    pred_1_actual_0_indices = incorrect_indices[np.logical_and(actual_labels == 0, predicted_labels == 1)]\n",
        "\n",
        "    # Find examples where true label is 1 but predicted as 0\n",
        "    pred_0_actual_1_indices = incorrect_indices[np.logical_and(actual_labels == 1, predicted_labels == 0)]\n",
        "\n",
        "    # Calculate average word count for each type of misclassification\n",
        "    if len(pred_1_actual_0_indices) > 0:\n",
        "        avg_words_pred_1_actual_0 = np.mean([len(internal_val_df.iloc[i]['text'].split()) for i in pred_1_actual_0_indices])\n",
        "        print(f\"\\nAverage number of words in texts classified as 1 when true label is 0: {avg_words_pred_1_actual_0:.2f} words\")\n",
        "    else:\n",
        "        print(\"\\nNo examples classified as 1 when true label is 0\")\n",
        "\n",
        "    if len(pred_0_actual_1_indices) > 0:\n",
        "        avg_words_pred_0_actual_1 = np.mean([len(internal_val_df.iloc[i]['text'].split()) for i in pred_0_actual_1_indices])\n",
        "        print(f\"Average number of words in texts classified as 0 when true label is 1: {avg_words_pred_0_actual_1:.2f} words\")\n",
        "    else:\n",
        "        print(\"No examples classified as 0 when true label is 1\")\n",
        "\n",
        "    # Pick a random incorrect example\n",
        "    random_idx = np.random.choice(incorrect_indices)\n",
        "\n",
        "    # Get the example details\n",
        "    example_text = internal_val_df.iloc[random_idx]['text']\n",
        "    expected_label = internal_val_df.iloc[random_idx]['label']\n",
        "    actual_label = y_pred[random_idx]\n",
        "\n",
        "    print(f\"\\nRandom incorrect example (index {random_idx}):\")\n",
        "    print(f\"Text: {example_text}\")\n",
        "    print(f\"Expected label: {expected_label}\")\n",
        "    print(f\"Predicted label: {actual_label}\")\n",
        "else:\n",
        "    print(\"No incorrect predictions found!\")"
      ],
      "metadata": {
        "id": "qErNndTBvHHy",
        "outputId": "0c34aaaa-ab67-4a84-a162-30466ffffe5b",
        "colab": {
          "base_uri": "https://localhost:8080/"
        }
      },
      "execution_count": null,
      "outputs": [
        {
          "output_type": "stream",
          "name": "stdout",
          "text": [
            "Total incorrect predictions: 156\n",
            "Label 0: 46 incorrect out of 1516 (3.03%)\n",
            "Label 1: 110 incorrect out of 159 (69.18%)\n",
            "\n",
            "Average number of words in texts classified as 1 when true label is 0: 49.22 words\n",
            "Average number of words in texts classified as 0 when true label is 1: 53.42 words\n",
            "\n",
            "Random incorrect example (index 325):\n",
            "Text: President Uhuru Kenyatta and his deputy William Ruto have been shuttling the country to ' light up ' homes especially those deep in the village where they pose with poor families .\n",
            "Expected label: 1\n",
            "Predicted label: 0\n"
          ]
        }
      ]
    },
    {
      "cell_type": "markdown",
      "source": [
        "# Ensemble Model Analysis"
      ],
      "metadata": {
        "id": "DrZSp2HPrTpZ"
      }
    },
    {
      "cell_type": "code",
      "source": [
        "import numpy as np\n",
        "import pandas as pd\n",
        "import matplotlib.pyplot as plt\n",
        "import seaborn as sns\n",
        "from sklearn.metrics import accuracy_score, classification_report"
      ],
      "metadata": {
        "id": "j6F6BZQorWRL"
      },
      "execution_count": null,
      "outputs": []
    },
    {
      "cell_type": "code",
      "source": [
        "def analyze_text_length_accuracy(model, df, tokenizer_roberta, tokenizer_deberta, device):\n",
        "    \"\"\"Analyze model accuracy across different text lengths, split by positive and negative labels.\"\"\"\n",
        "    # Compute text lengths\n",
        "    df['text_length'] = df['text'].apply(lambda x: len(x.split()))\n",
        "\n",
        "    # Get model predictions\n",
        "    predictions = predict_ensemble(model, df['text'].tolist(), tokenizer_roberta, tokenizer_deberta, device)\n",
        "    df['prediction'] = predictions\n",
        "\n",
        "    # Compute accuracy for each text length bin, split by label\n",
        "    df['length_bin'] = pd.qcut(df['text_length'], q=10, duplicates='drop')\n",
        "    accuracy_by_length = df.groupby(['length_bin', 'label']).apply(lambda x: accuracy_score(x['label'], x['prediction'])).reset_index()\n",
        "\n",
        "    # Print overall stats\n",
        "    print(\"Overall Accuracy by Text Length (Split by Label):\")\n",
        "    print(accuracy_by_length)\n",
        "\n",
        "    # Convert 'length_bin' to string for plotting\n",
        "    accuracy_by_length['length_bin'] = accuracy_by_length['length_bin'].astype(str)\n",
        "\n",
        "    # Plot accuracy vs. text length\n",
        "    plt.figure(figsize=(8,6))\n",
        "    sns.lineplot(data=accuracy_by_length, x='length_bin', y=0, hue='label', marker='o')\n",
        "    plt.xlabel(\"Text Length Bins\")\n",
        "    plt.ylabel(\"Accuracy\")\n",
        "    plt.title(\"Model Accuracy by Text Length (Split by Label)\")\n",
        "    plt.xticks(rotation=45)\n",
        "    plt.grid()\n",
        "    plt.show()\n",
        "\n",
        "print(\"Analyzing Text Length Accuracy\")\n",
        "analyze_text_length_accuracy(ensemble_model, internal_test_df, roberta_tokenizer, deberta_tokenizer, device)\n"
      ],
      "metadata": {
        "id": "yRreSrEbrakp",
        "outputId": "a90d2228-1f5c-4d8f-fdfb-b5ce3ccd41fe",
        "colab": {
          "base_uri": "https://localhost:8080/",
          "height": 1000
        }
      },
      "execution_count": null,
      "outputs": [
        {
          "output_type": "stream",
          "name": "stdout",
          "text": [
            "Analyzing Text Length Accuracy\n"
          ]
        },
        {
          "output_type": "stream",
          "name": "stderr",
          "text": [
            "<ipython-input-33-cd72689f8bcb>:12: FutureWarning: The default of observed=False is deprecated and will be changed to True in a future version of pandas. Pass observed=False to retain current behavior or observed=True to adopt the future default and silence this warning.\n",
            "  accuracy_by_length = df.groupby(['length_bin', 'label']).apply(lambda x: accuracy_score(x['label'], x['prediction'])).reset_index()\n",
            "<ipython-input-33-cd72689f8bcb>:12: DeprecationWarning: DataFrameGroupBy.apply operated on the grouping columns. This behavior is deprecated, and in a future version of pandas the grouping columns will be excluded from the operation. Either pass `include_groups=False` to exclude the groupings or explicitly select the grouping columns after groupby to silence this warning.\n",
            "  accuracy_by_length = df.groupby(['length_bin', 'label']).apply(lambda x: accuracy_score(x['label'], x['prediction'])).reset_index()\n"
          ]
        },
        {
          "output_type": "stream",
          "name": "stdout",
          "text": [
            "Overall Accuracy by Text Length (Split by Label):\n",
            "        length_bin  label         0\n",
            "0   (-0.001, 21.0]      0  0.907767\n",
            "1   (-0.001, 21.0]      1  0.769231\n",
            "2     (21.0, 27.0]      0  0.928571\n",
            "3     (21.0, 27.0]      1  0.800000\n",
            "4     (27.0, 32.0]      0  0.924623\n",
            "5     (27.0, 32.0]      1  0.750000\n",
            "6     (32.0, 37.0]      0  0.923077\n",
            "7     (32.0, 37.0]      1  0.437500\n",
            "8     (37.0, 41.0]      0  0.905063\n",
            "9     (37.0, 41.0]      1  0.900000\n",
            "10    (41.0, 47.0]      0  0.932367\n",
            "11    (41.0, 47.0]      1  0.736842\n",
            "12    (47.0, 54.0]      0  0.930481\n",
            "13    (47.0, 54.0]      1  0.642857\n",
            "14    (54.0, 65.0]      0  0.881720\n",
            "15    (54.0, 65.0]      1  0.692308\n",
            "16    (65.0, 81.0]      0  0.905325\n",
            "17    (65.0, 81.0]      1  0.642857\n",
            "18   (81.0, 272.0]      0  0.860335\n",
            "19   (81.0, 272.0]      1  0.607143\n"
          ]
        },
        {
          "output_type": "display_data",
          "data": {
            "text/plain": [
              "<Figure size 800x600 with 1 Axes>"
            ],
            "image/png": "[encoded data removed]"
          },
          "metadata": {}
        }
      ]
    },
    {
      "cell_type": "code",
      "source": [
        "def analyze_keyword_accuracy(model, df, tokenizer_roberta, tokenizer_deberta, device):\n",
        "    \"\"\"Analyze model accuracy per community/keyword, split by positive and negative labels.\"\"\"\n",
        "    # Get model predictions\n",
        "    predictions = predict_ensemble(model, df['text'].tolist(), tokenizer_roberta, tokenizer_deberta, device)\n",
        "    df['prediction'] = predictions\n",
        "\n",
        "    # Compute accuracy per keyword, split by label\n",
        "    keyword_accuracy = df.groupby(['community', 'label']).apply(lambda x: accuracy_score(x['label'], x['prediction'])).reset_index()\n",
        "\n",
        "    # Print overall stats\n",
        "    print(\"Overall Accuracy by Community (Split by Label):\")\n",
        "    print(keyword_accuracy)\n",
        "\n",
        "    # Convert 'keyword' to string for plotting\n",
        "    keyword_accuracy['community'] = keyword_accuracy['community'].astype(str)\n",
        "\n",
        "    # Plot accuracy per keyword\n",
        "    plt.figure(figsize=(12,6))\n",
        "    sns.barplot(data=keyword_accuracy, x='community', y=0, hue='label', palette='coolwarm')\n",
        "    plt.xlabel(\"Community\")\n",
        "    plt.ylabel(\"Accuracy\")\n",
        "    plt.title(\"Model Accuracy by Community (Split by Label)\")\n",
        "    plt.xticks(rotation=75)\n",
        "    plt.grid(axis='y')\n",
        "    plt.show()\n",
        "\n",
        "print(\"Analyzing Keyword Accuracy\")\n",
        "analyze_keyword_accuracy(ensemble_model, internal_test_df, roberta_tokenizer, deberta_tokenizer, device)\n"
      ],
      "metadata": {
        "id": "fbw_6aj-reRy",
        "outputId": "d613a8bb-bbd2-497d-ef4c-29d29a5494bf",
        "colab": {
          "base_uri": "https://localhost:8080/",
          "height": 1000
        }
      },
      "execution_count": null,
      "outputs": [
        {
          "output_type": "stream",
          "name": "stdout",
          "text": [
            "Analyzing Keyword Accuracy\n"
          ]
        },
        {
          "output_type": "stream",
          "name": "stderr",
          "text": [
            "<ipython-input-36-586f5e106393>:8: DeprecationWarning: DataFrameGroupBy.apply operated on the grouping columns. This behavior is deprecated, and in a future version of pandas the grouping columns will be excluded from the operation. Either pass `include_groups=False` to exclude the groupings or explicitly select the grouping columns after groupby to silence this warning.\n",
            "  keyword_accuracy = df.groupby(['community', 'label']).apply(lambda x: accuracy_score(x['label'], x['prediction'])).reset_index()\n"
          ]
        },
        {
          "output_type": "stream",
          "name": "stdout",
          "text": [
            "Overall Accuracy by Community (Split by Label):\n",
            "        community  label         0\n",
            "0        disabled      0  0.877778\n",
            "1        disabled      1  0.500000\n",
            "2        homeless      0  0.863388\n",
            "3        homeless      1  0.724138\n",
            "4        hopeless      0  0.879581\n",
            "5        hopeless      1  0.576923\n",
            "6       immigrant      0  0.985782\n",
            "7       immigrant      1  0.428571\n",
            "8         in-need      0  0.886010\n",
            "9         in-need      1  1.000000\n",
            "10        migrant      0  0.975248\n",
            "11        migrant      1  0.600000\n",
            "12  poor-families      0  0.868421\n",
            "13  poor-families      1  0.552632\n",
            "14        refugee      0  0.885714\n",
            "15        refugee      1  0.846154\n",
            "16     vulnerable      0  0.920635\n",
            "17     vulnerable      1  0.650000\n",
            "18          women      0  0.936073\n",
            "19          women      1  0.785714\n"
          ]
        },
        {
          "output_type": "display_data",
          "data": {
            "text/plain": [
              "<Figure size 1200x600 with 1 Axes>"
            ],
            "image/png": "[encoded data removed]"
          },
          "metadata": {}
        }
      ]
    },
    {
      "cell_type": "code",
      "source": [
        "def analyze_original_label_accuracy(model, df, tokenizer_roberta, tokenizer_deberta, device):\n",
        "  \"\"\"Model accuracy per level of patronizing content\"\"\"\n",
        "\n",
        "  predictions = predict_ensemble(model, df['text'].tolist(), tokenizer_roberta, tokenizer_deberta, device)\n",
        "  df['prediction'] = predictions\n",
        "\n",
        "  # Compute accuracy per orig_label, split by label\n",
        "  orig_label_accuracy = df.groupby(['orig_label', 'label']).apply(lambda x: accuracy_score(x['label'], x['prediction'])).reset_index()\n",
        "\n",
        "  # Print overall stats\n",
        "  print(\"Overall Accuracy by Level of Patronizing Content (Split by Label):\")\n",
        "  print(orig_label_accuracy)\n",
        "\n",
        "  # Convert 'orig_label' to string for plotting\n",
        "  orig_label_accuracy['orig_label'] = orig_label_accuracy['orig_label'].astype(str)\n",
        "\n",
        "  # Plot accuracy per orig_label\n",
        "  plt.figure(figsize=(12,6))\n",
        "  sns.barplot(data=orig_label_accuracy, x='orig_label', y=0, hue='label', palette='coolwarm')\n",
        "  plt.xlabel(\"Level of Patronizing Content (orig_label)\")\n",
        "  plt.ylabel(\"Accuracy\")\n",
        "  plt.title(\"Model Accuracy by Level of Patronizing Content (Split by Label)\")\n",
        "  plt.xticks(rotation=75)\n",
        "  plt.grid(axis='y')\n",
        "  plt.show()\n",
        "\n",
        "\n",
        "analyze_original_label_accuracy(ensemble_model, internal_test_df, roberta_tokenizer, deberta_tokenizer, device)\n"
      ],
      "metadata": {
        "id": "0VNBGRSKwjF3",
        "colab": {
          "base_uri": "https://localhost:8080/",
          "height": 743
        },
        "outputId": "53c62ef2-4d81-4b32-c2aa-5f7eb103fe0a"
      },
      "execution_count": null,
      "outputs": [
        {
          "output_type": "stream",
          "name": "stderr",
          "text": [
            "<ipython-input-32-d6451c1b92ed>:8: DeprecationWarning: DataFrameGroupBy.apply operated on the grouping columns. This behavior is deprecated, and in a future version of pandas the grouping columns will be excluded from the operation. Either pass `include_groups=False` to exclude the groupings or explicitly select the grouping columns after groupby to silence this warning.\n",
            "  orig_label_accuracy = df.groupby(['orig_label', 'label']).apply(lambda x: accuracy_score(x['label'], x['prediction'])).reset_index()\n"
          ]
        },
        {
          "output_type": "stream",
          "name": "stdout",
          "text": [
            "Overall Accuracy by Level of Patronizing Content (Split by Label):\n",
            "  orig_label  label         0\n",
            "0          0      0  0.936620\n",
            "1          1      0  0.670157\n",
            "2          2      1  0.222222\n",
            "3          3      1  0.595506\n",
            "4          4      1  0.826087\n"
          ]
        },
        {
          "output_type": "display_data",
          "data": {
            "text/plain": [
              "<Figure size 1200x600 with 1 Axes>"
            ],
            "image/png": "[encoded data removed]"
          },
          "metadata": {}
        }
      ]
    },
    {
      "cell_type": "markdown",
      "source": [
        "# Test and Dev set predictions"
      ],
      "metadata": {
        "id": "rGm6aGxuT2Pd"
      }
    },
    {
      "cell_type": "code",
      "source": [
        "# Save predictions to an output file\n",
        "def labels2file(p, outf_path):\n",
        "\twith open(outf_path,'w') as outf:\n",
        "\t\tfor pr in p:\n",
        "\t\t\toutf.write(str(pr)+'\\n')"
      ],
      "metadata": {
        "id": "373PTrgtwVeD"
      },
      "execution_count": null,
      "outputs": []
    },
    {
      "cell_type": "markdown",
      "source": [
        "## Official Test Set Predictions"
      ],
      "metadata": {
        "id": "rfyYy_yYUwdC"
      }
    },
    {
      "cell_type": "code",
      "source": [
        "test_set_predictions = predict_ensemble(ensemble_model, official_test_df['text'].tolist(), roberta_tokenizer, deberta_tokenizer, device)\n",
        "labels2file(test_set_predictions, \"test.txt\")"
      ],
      "metadata": {
        "id": "jLoBKoqMT7YA"
      },
      "execution_count": null,
      "outputs": []
    },
    {
      "cell_type": "markdown",
      "source": [
        "## Official Dev Set Predictions"
      ],
      "metadata": {
        "id": "Vq1bxmlKUz-n"
      }
    },
    {
      "cell_type": "code",
      "source": [
        "dev_set_predictions = predict_ensemble(ensemble_model, internal_test_df['text'].tolist(), roberta_tokenizer, deberta_tokenizer, device)\n",
        "labels2file(dev_set_predictions, \"dev.txt\")"
      ],
      "metadata": {
        "id": "IPK8j3kuU1nR"
      },
      "execution_count": null,
      "outputs": []
    }
  ],
  "metadata": {
    "colab": {
      "collapsed_sections": [
        "77Q3IxInnUFk",
        "O1KGYmpnxDjt",
        "6FbfBxkbjfMk",
        "_v7J0y_i5tTa",
        "Em3o5L4wADHB",
        "5SAy1u_2AF1_",
        "k7Cc_u5Oli7j",
        "Gukbmv0bli7l",
        "YKFiVaslbAiC"
      ],
      "provenance": [],
      "gpuType": "T4",
      "include_colab_link": true
    },
    "kernelspec": {
      "display_name": "Python 3",
      "name": "python3"
    },
    "language_info": {
      "codemirror_mode": {
        "name": "ipython",
        "version": 3
      },
      "file_extension": ".py",
      "mimetype": "text/x-python",
      "name": "python",
      "nbconvert_exporter": "python",
      "pygments_lexer": "ipython3",
      "version": "3.12.3"
    },
    "widgets": {
      "application/vnd.jupyter.widget-state+json": {
        "7b78e10342004903936df1bfd4efa96c": {
          "model_module": "@jupyter-widgets/controls",
          "model_name": "HBoxModel",
          "model_module_version": "1.5.0",
          "state": {
            "_dom_classes": [],
            "_model_module": "@jupyter-widgets/controls",
            "_model_module_version": "1.5.0",
            "_model_name": "HBoxModel",
            "_view_count": null,
            "_view_module": "@jupyter-widgets/controls",
            "_view_module_version": "1.5.0",
            "_view_name": "HBoxView",
            "box_style": "",
            "children": [
              "IPY_MODEL_fe4c75ddb6fb4db1b18a1e8e584c1184",
              "IPY_MODEL_fed8f42edd384fd6b7896dd0f0f41b08",
              "IPY_MODEL_acfaf1b5acf14feb9f6269413d55520b"
            ],
            "layout": "IPY_MODEL_c7f5b0c98825484091db994bf58af1ba"
          }
        },
        "fe4c75ddb6fb4db1b18a1e8e584c1184": {
          "model_module": "@jupyter-widgets/controls",
          "model_name": "HTMLModel",
          "model_module_version": "1.5.0",
          "state": {
            "_dom_classes": [],
            "_model_module": "@jupyter-widgets/controls",
            "_model_module_version": "1.5.0",
            "_model_name": "HTMLModel",
            "_view_count": null,
            "_view_module": "@jupyter-widgets/controls",
            "_view_module_version": "1.5.0",
            "_view_name": "HTMLView",
            "description": "",
            "description_tooltip": null,
            "layout": "IPY_MODEL_2d7e88ee1c05481498c4512eb8ef2676",
            "placeholder": "​",
            "style": "IPY_MODEL_013cc13f177a42ea9fa025f5b522ee42",
            "value": "tokenizer_config.json: 100%"
          }
        },
        "fed8f42edd384fd6b7896dd0f0f41b08": {
          "model_module": "@jupyter-widgets/controls",
          "model_name": "FloatProgressModel",
          "model_module_version": "1.5.0",
          "state": {
            "_dom_classes": [],
            "_model_module": "@jupyter-widgets/controls",
            "_model_module_version": "1.5.0",
            "_model_name": "FloatProgressModel",
            "_view_count": null,
            "_view_module": "@jupyter-widgets/controls",
            "_view_module_version": "1.5.0",
            "_view_name": "ProgressView",
            "bar_style": "success",
            "description": "",
            "description_tooltip": null,
            "layout": "IPY_MODEL_b34bfeea29184a2d9aa77a2ab029dc8e",
            "max": 52,
            "min": 0,
            "orientation": "horizontal",
            "style": "IPY_MODEL_ec3326e6f7b44270ad25f62145657c8a",
            "value": 52
          }
        },
        "acfaf1b5acf14feb9f6269413d55520b": {
          "model_module": "@jupyter-widgets/controls",
          "model_name": "HTMLModel",
          "model_module_version": "1.5.0",
          "state": {
            "_dom_classes": [],
            "_model_module": "@jupyter-widgets/controls",
            "_model_module_version": "1.5.0",
            "_model_name": "HTMLModel",
            "_view_count": null,
            "_view_module": "@jupyter-widgets/controls",
            "_view_module_version": "1.5.0",
            "_view_name": "HTMLView",
            "description": "",
            "description_tooltip": null,
            "layout": "IPY_MODEL_f91f22a1c7e7474782a8ccc7eec70677",
            "placeholder": "​",
            "style": "IPY_MODEL_106dff3cf3e2479a8caaef7b6eb966aa",
            "value": " 52.0/52.0 [00:00&lt;00:00, 2.55kB/s]"
          }
        },
        "c7f5b0c98825484091db994bf58af1ba": {
          "model_module": "@jupyter-widgets/base",
          "model_name": "LayoutModel",
          "model_module_version": "1.2.0",
          "state": {
            "_model_module": "@jupyter-widgets/base",
            "_model_module_version": "1.2.0",
            "_model_name": "LayoutModel",
            "_view_count": null,
            "_view_module": "@jupyter-widgets/base",
            "_view_module_version": "1.2.0",
            "_view_name": "LayoutView",
            "align_content": null,
            "align_items": null,
            "align_self": null,
            "border": null,
            "bottom": null,
            "display": null,
            "flex": null,
            "flex_flow": null,
            "grid_area": null,
            "grid_auto_columns": null,
            "grid_auto_flow": null,
            "grid_auto_rows": null,
            "grid_column": null,
            "grid_gap": null,
            "grid_row": null,
            "grid_template_areas": null,
            "grid_template_columns": null,
            "grid_template_rows": null,
            "height": null,
            "justify_content": null,
            "justify_items": null,
            "left": null,
            "margin": null,
            "max_height": null,
            "max_width": null,
            "min_height": null,
            "min_width": null,
            "object_fit": null,
            "object_position": null,
            "order": null,
            "overflow": null,
            "overflow_x": null,
            "overflow_y": null,
            "padding": null,
            "right": null,
            "top": null,
            "visibility": null,
            "width": null
          }
        },
        "2d7e88ee1c05481498c4512eb8ef2676": {
          "model_module": "@jupyter-widgets/base",
          "model_name": "LayoutModel",
          "model_module_version": "1.2.0",
          "state": {
            "_model_module": "@jupyter-widgets/base",
            "_model_module_version": "1.2.0",
            "_model_name": "LayoutModel",
            "_view_count": null,
            "_view_module": "@jupyter-widgets/base",
            "_view_module_version": "1.2.0",
            "_view_name": "LayoutView",
            "align_content": null,
            "align_items": null,
            "align_self": null,
            "border": null,
            "bottom": null,
            "display": null,
            "flex": null,
            "flex_flow": null,
            "grid_area": null,
            "grid_auto_columns": null,
            "grid_auto_flow": null,
            "grid_auto_rows": null,
            "grid_column": null,
            "grid_gap": null,
            "grid_row": null,
            "grid_template_areas": null,
            "grid_template_columns": null,
            "grid_template_rows": null,
            "height": null,
            "justify_content": null,
            "justify_items": null,
            "left": null,
            "margin": null,
            "max_height": null,
            "max_width": null,
            "min_height": null,
            "min_width": null,
            "object_fit": null,
            "object_position": null,
            "order": null,
            "overflow": null,
            "overflow_x": null,
            "overflow_y": null,
            "padding": null,
            "right": null,
            "top": null,
            "visibility": null,
            "width": null
          }
        },
        "013cc13f177a42ea9fa025f5b522ee42": {
          "model_module": "@jupyter-widgets/controls",
          "model_name": "DescriptionStyleModel",
          "model_module_version": "1.5.0",
          "state": {
            "_model_module": "@jupyter-widgets/controls",
            "_model_module_version": "1.5.0",
            "_model_name": "DescriptionStyleModel",
            "_view_count": null,
            "_view_module": "@jupyter-widgets/base",
            "_view_module_version": "1.2.0",
            "_view_name": "StyleView",
            "description_width": ""
          }
        },
        "b34bfeea29184a2d9aa77a2ab029dc8e": {
          "model_module": "@jupyter-widgets/base",
          "model_name": "LayoutModel",
          "model_module_version": "1.2.0",
          "state": {
            "_model_module": "@jupyter-widgets/base",
            "_model_module_version": "1.2.0",
            "_model_name": "LayoutModel",
            "_view_count": null,
            "_view_module": "@jupyter-widgets/base",
            "_view_module_version": "1.2.0",
            "_view_name": "LayoutView",
            "align_content": null,
            "align_items": null,
            "align_self": null,
            "border": null,
            "bottom": null,
            "display": null,
            "flex": null,
            "flex_flow": null,
            "grid_area": null,
            "grid_auto_columns": null,
            "grid_auto_flow": null,
            "grid_auto_rows": null,
            "grid_column": null,
            "grid_gap": null,
            "grid_row": null,
            "grid_template_areas": null,
            "grid_template_columns": null,
            "grid_template_rows": null,
            "height": null,
            "justify_content": null,
            "justify_items": null,
            "left": null,
            "margin": null,
            "max_height": null,
            "max_width": null,
            "min_height": null,
            "min_width": null,
            "object_fit": null,
            "object_position": null,
            "order": null,
            "overflow": null,
            "overflow_x": null,
            "overflow_y": null,
            "padding": null,
            "right": null,
            "top": null,
            "visibility": null,
            "width": null
          }
        },
        "ec3326e6f7b44270ad25f62145657c8a": {
          "model_module": "@jupyter-widgets/controls",
          "model_name": "ProgressStyleModel",
          "model_module_version": "1.5.0",
          "state": {
            "_model_module": "@jupyter-widgets/controls",
            "_model_module_version": "1.5.0",
            "_model_name": "ProgressStyleModel",
            "_view_count": null,
            "_view_module": "@jupyter-widgets/base",
            "_view_module_version": "1.2.0",
            "_view_name": "StyleView",
            "bar_color": null,
            "description_width": ""
          }
        },
        "f91f22a1c7e7474782a8ccc7eec70677": {
          "model_module": "@jupyter-widgets/base",
          "model_name": "LayoutModel",
          "model_module_version": "1.2.0",
          "state": {
            "_model_module": "@jupyter-widgets/base",
            "_model_module_version": "1.2.0",
            "_model_name": "LayoutModel",
            "_view_count": null,
            "_view_module": "@jupyter-widgets/base",
            "_view_module_version": "1.2.0",
            "_view_name": "LayoutView",
            "align_content": null,
            "align_items": null,
            "align_self": null,
            "border": null,
            "bottom": null,
            "display": null,
            "flex": null,
            "flex_flow": null,
            "grid_area": null,
            "grid_auto_columns": null,
            "grid_auto_flow": null,
            "grid_auto_rows": null,
            "grid_column": null,
            "grid_gap": null,
            "grid_row": null,
            "grid_template_areas": null,
            "grid_template_columns": null,
            "grid_template_rows": null,
            "height": null,
            "justify_content": null,
            "justify_items": null,
            "left": null,
            "margin": null,
            "max_height": null,
            "max_width": null,
            "min_height": null,
            "min_width": null,
            "object_fit": null,
            "object_position": null,
            "order": null,
            "overflow": null,
            "overflow_x": null,
            "overflow_y": null,
            "padding": null,
            "right": null,
            "top": null,
            "visibility": null,
            "width": null
          }
        },
        "106dff3cf3e2479a8caaef7b6eb966aa": {
          "model_module": "@jupyter-widgets/controls",
          "model_name": "DescriptionStyleModel",
          "model_module_version": "1.5.0",
          "state": {
            "_model_module": "@jupyter-widgets/controls",
            "_model_module_version": "1.5.0",
            "_model_name": "DescriptionStyleModel",
            "_view_count": null,
            "_view_module": "@jupyter-widgets/base",
            "_view_module_version": "1.2.0",
            "_view_name": "StyleView",
            "description_width": ""
          }
        },
        "9f01c7ce9edf41609f2ecb5654cb80a6": {
          "model_module": "@jupyter-widgets/controls",
          "model_name": "HBoxModel",
          "model_module_version": "1.5.0",
          "state": {
            "_dom_classes": [],
            "_model_module": "@jupyter-widgets/controls",
            "_model_module_version": "1.5.0",
            "_model_name": "HBoxModel",
            "_view_count": null,
            "_view_module": "@jupyter-widgets/controls",
            "_view_module_version": "1.5.0",
            "_view_name": "HBoxView",
            "box_style": "",
            "children": [
              "IPY_MODEL_2bd734224fc849b8af08748930fda90a",
              "IPY_MODEL_9095b40bd54446c2986d767f1b23b375",
              "IPY_MODEL_d002eb744a654c4bb136110bb4191f0c"
            ],
            "layout": "IPY_MODEL_bfe18b28588d400cbcebe993848ed5ba"
          }
        },
        "2bd734224fc849b8af08748930fda90a": {
          "model_module": "@jupyter-widgets/controls",
          "model_name": "HTMLModel",
          "model_module_version": "1.5.0",
          "state": {
            "_dom_classes": [],
            "_model_module": "@jupyter-widgets/controls",
            "_model_module_version": "1.5.0",
            "_model_name": "HTMLModel",
            "_view_count": null,
            "_view_module": "@jupyter-widgets/controls",
            "_view_module_version": "1.5.0",
            "_view_name": "HTMLView",
            "description": "",
            "description_tooltip": null,
            "layout": "IPY_MODEL_ef22ecc4c4874f4695b00107bc4e905a",
            "placeholder": "​",
            "style": "IPY_MODEL_4bac3368de254ddc8bf8c9e75e75b8a0",
            "value": "vocab.json: 100%"
          }
        },
        "9095b40bd54446c2986d767f1b23b375": {
          "model_module": "@jupyter-widgets/controls",
          "model_name": "FloatProgressModel",
          "model_module_version": "1.5.0",
          "state": {
            "_dom_classes": [],
            "_model_module": "@jupyter-widgets/controls",
            "_model_module_version": "1.5.0",
            "_model_name": "FloatProgressModel",
            "_view_count": null,
            "_view_module": "@jupyter-widgets/controls",
            "_view_module_version": "1.5.0",
            "_view_name": "ProgressView",
            "bar_style": "success",
            "description": "",
            "description_tooltip": null,
            "layout": "IPY_MODEL_1318a7c977a442108a6b44239ed6a893",
            "max": 898825,
            "min": 0,
            "orientation": "horizontal",
            "style": "IPY_MODEL_3330d444452943ef93373265ccaa1baa",
            "value": 898825
          }
        },
        "d002eb744a654c4bb136110bb4191f0c": {
          "model_module": "@jupyter-widgets/controls",
          "model_name": "HTMLModel",
          "model_module_version": "1.5.0",
          "state": {
            "_dom_classes": [],
            "_model_module": "@jupyter-widgets/controls",
            "_model_module_version": "1.5.0",
            "_model_name": "HTMLModel",
            "_view_count": null,
            "_view_module": "@jupyter-widgets/controls",
            "_view_module_version": "1.5.0",
            "_view_name": "HTMLView",
            "description": "",
            "description_tooltip": null,
            "layout": "IPY_MODEL_bce5e3be7b3b4d3097919c614514b65a",
            "placeholder": "​",
            "style": "IPY_MODEL_8bd222271f7547fe8367a55921cae99e",
            "value": " 899k/899k [00:00&lt;00:00, 1.04MB/s]"
          }
        },
        "bfe18b28588d400cbcebe993848ed5ba": {
          "model_module": "@jupyter-widgets/base",
          "model_name": "LayoutModel",
          "model_module_version": "1.2.0",
          "state": {
            "_model_module": "@jupyter-widgets/base",
            "_model_module_version": "1.2.0",
            "_model_name": "LayoutModel",
            "_view_count": null,
            "_view_module": "@jupyter-widgets/base",
            "_view_module_version": "1.2.0",
            "_view_name": "LayoutView",
            "align_content": null,
            "align_items": null,
            "align_self": null,
            "border": null,
            "bottom": null,
            "display": null,
            "flex": null,
            "flex_flow": null,
            "grid_area": null,
            "grid_auto_columns": null,
            "grid_auto_flow": null,
            "grid_auto_rows": null,
            "grid_column": null,
            "grid_gap": null,
            "grid_row": null,
            "grid_template_areas": null,
            "grid_template_columns": null,
            "grid_template_rows": null,
            "height": null,
            "justify_content": null,
            "justify_items": null,
            "left": null,
            "margin": null,
            "max_height": null,
            "max_width": null,
            "min_height": null,
            "min_width": null,
            "object_fit": null,
            "object_position": null,
            "order": null,
            "overflow": null,
            "overflow_x": null,
            "overflow_y": null,
            "padding": null,
            "right": null,
            "top": null,
            "visibility": null,
            "width": null
          }
        },
        "ef22ecc4c4874f4695b00107bc4e905a": {
          "model_module": "@jupyter-widgets/base",
          "model_name": "LayoutModel",
          "model_module_version": "1.2.0",
          "state": {
            "_model_module": "@jupyter-widgets/base",
            "_model_module_version": "1.2.0",
            "_model_name": "LayoutModel",
            "_view_count": null,
            "_view_module": "@jupyter-widgets/base",
            "_view_module_version": "1.2.0",
            "_view_name": "LayoutView",
            "align_content": null,
            "align_items": null,
            "align_self": null,
            "border": null,
            "bottom": null,
            "display": null,
            "flex": null,
            "flex_flow": null,
            "grid_area": null,
            "grid_auto_columns": null,
            "grid_auto_flow": null,
            "grid_auto_rows": null,
            "grid_column": null,
            "grid_gap": null,
            "grid_row": null,
            "grid_template_areas": null,
            "grid_template_columns": null,
            "grid_template_rows": null,
            "height": null,
            "justify_content": null,
            "justify_items": null,
            "left": null,
            "margin": null,
            "max_height": null,
            "max_width": null,
            "min_height": null,
            "min_width": null,
            "object_fit": null,
            "object_position": null,
            "order": null,
            "overflow": null,
            "overflow_x": null,
            "overflow_y": null,
            "padding": null,
            "right": null,
            "top": null,
            "visibility": null,
            "width": null
          }
        },
        "4bac3368de254ddc8bf8c9e75e75b8a0": {
          "model_module": "@jupyter-widgets/controls",
          "model_name": "DescriptionStyleModel",
          "model_module_version": "1.5.0",
          "state": {
            "_model_module": "@jupyter-widgets/controls",
            "_model_module_version": "1.5.0",
            "_model_name": "DescriptionStyleModel",
            "_view_count": null,
            "_view_module": "@jupyter-widgets/base",
            "_view_module_version": "1.2.0",
            "_view_name": "StyleView",
            "description_width": ""
          }
        },
        "1318a7c977a442108a6b44239ed6a893": {
          "model_module": "@jupyter-widgets/base",
          "model_name": "LayoutModel",
          "model_module_version": "1.2.0",
          "state": {
            "_model_module": "@jupyter-widgets/base",
            "_model_module_version": "1.2.0",
            "_model_name": "LayoutModel",
            "_view_count": null,
            "_view_module": "@jupyter-widgets/base",
            "_view_module_version": "1.2.0",
            "_view_name": "LayoutView",
            "align_content": null,
            "align_items": null,
            "align_self": null,
            "border": null,
            "bottom": null,
            "display": null,
            "flex": null,
            "flex_flow": null,
            "grid_area": null,
            "grid_auto_columns": null,
            "grid_auto_flow": null,
            "grid_auto_rows": null,
            "grid_column": null,
            "grid_gap": null,
            "grid_row": null,
            "grid_template_areas": null,
            "grid_template_columns": null,
            "grid_template_rows": null,
            "height": null,
            "justify_content": null,
            "justify_items": null,
            "left": null,
            "margin": null,
            "max_height": null,
            "max_width": null,
            "min_height": null,
            "min_width": null,
            "object_fit": null,
            "object_position": null,
            "order": null,
            "overflow": null,
            "overflow_x": null,
            "overflow_y": null,
            "padding": null,
            "right": null,
            "top": null,
            "visibility": null,
            "width": null
          }
        },
        "3330d444452943ef93373265ccaa1baa": {
          "model_module": "@jupyter-widgets/controls",
          "model_name": "ProgressStyleModel",
          "model_module_version": "1.5.0",
          "state": {
            "_model_module": "@jupyter-widgets/controls",
            "_model_module_version": "1.5.0",
            "_model_name": "ProgressStyleModel",
            "_view_count": null,
            "_view_module": "@jupyter-widgets/base",
            "_view_module_version": "1.2.0",
            "_view_name": "StyleView",
            "bar_color": null,
            "description_width": ""
          }
        },
        "bce5e3be7b3b4d3097919c614514b65a": {
          "model_module": "@jupyter-widgets/base",
          "model_name": "LayoutModel",
          "model_module_version": "1.2.0",
          "state": {
            "_model_module": "@jupyter-widgets/base",
            "_model_module_version": "1.2.0",
            "_model_name": "LayoutModel",
            "_view_count": null,
            "_view_module": "@jupyter-widgets/base",
            "_view_module_version": "1.2.0",
            "_view_name": "LayoutView",
            "align_content": null,
            "align_items": null,
            "align_self": null,
            "border": null,
            "bottom": null,
            "display": null,
            "flex": null,
            "flex_flow": null,
            "grid_area": null,
            "grid_auto_columns": null,
            "grid_auto_flow": null,
            "grid_auto_rows": null,
            "grid_column": null,
            "grid_gap": null,
            "grid_row": null,
            "grid_template_areas": null,
            "grid_template_columns": null,
            "grid_template_rows": null,
            "height": null,
            "justify_content": null,
            "justify_items": null,
            "left": null,
            "margin": null,
            "max_height": null,
            "max_width": null,
            "min_height": null,
            "min_width": null,
            "object_fit": null,
            "object_position": null,
            "order": null,
            "overflow": null,
            "overflow_x": null,
            "overflow_y": null,
            "padding": null,
            "right": null,
            "top": null,
            "visibility": null,
            "width": null
          }
        },
        "8bd222271f7547fe8367a55921cae99e": {
          "model_module": "@jupyter-widgets/controls",
          "model_name": "DescriptionStyleModel",
          "model_module_version": "1.5.0",
          "state": {
            "_model_module": "@jupyter-widgets/controls",
            "_model_module_version": "1.5.0",
            "_model_name": "DescriptionStyleModel",
            "_view_count": null,
            "_view_module": "@jupyter-widgets/base",
            "_view_module_version": "1.2.0",
            "_view_name": "StyleView",
            "description_width": ""
          }
        },
        "2110738db4d9415a9b4c5f26f9a342e5": {
          "model_module": "@jupyter-widgets/controls",
          "model_name": "HBoxModel",
          "model_module_version": "1.5.0",
          "state": {
            "_dom_classes": [],
            "_model_module": "@jupyter-widgets/controls",
            "_model_module_version": "1.5.0",
            "_model_name": "HBoxModel",
            "_view_count": null,
            "_view_module": "@jupyter-widgets/controls",
            "_view_module_version": "1.5.0",
            "_view_name": "HBoxView",
            "box_style": "",
            "children": [
              "IPY_MODEL_07f038bfd3274a578bc89296f9f29cee",
              "IPY_MODEL_dcb27b82c1da4f1eb04e79eba34384d7",
              "IPY_MODEL_31f387e145c5493c9c338c4ffdfae4ff"
            ],
            "layout": "IPY_MODEL_3bc9a348f2504f05ac9246a694fa9e2a"
          }
        },
        "07f038bfd3274a578bc89296f9f29cee": {
          "model_module": "@jupyter-widgets/controls",
          "model_name": "HTMLModel",
          "model_module_version": "1.5.0",
          "state": {
            "_dom_classes": [],
            "_model_module": "@jupyter-widgets/controls",
            "_model_module_version": "1.5.0",
            "_model_name": "HTMLModel",
            "_view_count": null,
            "_view_module": "@jupyter-widgets/controls",
            "_view_module_version": "1.5.0",
            "_view_name": "HTMLView",
            "description": "",
            "description_tooltip": null,
            "layout": "IPY_MODEL_565e27161d874edb90f31339c9bee919",
            "placeholder": "​",
            "style": "IPY_MODEL_b6b6a22c2a814eb584ecff50fa82c251",
            "value": "merges.txt: 100%"
          }
        },
        "dcb27b82c1da4f1eb04e79eba34384d7": {
          "model_module": "@jupyter-widgets/controls",
          "model_name": "FloatProgressModel",
          "model_module_version": "1.5.0",
          "state": {
            "_dom_classes": [],
            "_model_module": "@jupyter-widgets/controls",
            "_model_module_version": "1.5.0",
            "_model_name": "FloatProgressModel",
            "_view_count": null,
            "_view_module": "@jupyter-widgets/controls",
            "_view_module_version": "1.5.0",
            "_view_name": "ProgressView",
            "bar_style": "success",
            "description": "",
            "description_tooltip": null,
            "layout": "IPY_MODEL_6d4daee3938a4b0abcbc055d969d0ce3",
            "max": 456318,
            "min": 0,
            "orientation": "horizontal",
            "style": "IPY_MODEL_bdb328b096b74792ba6f0a6fa53ca7a6",
            "value": 456318
          }
        },
        "31f387e145c5493c9c338c4ffdfae4ff": {
          "model_module": "@jupyter-widgets/controls",
          "model_name": "HTMLModel",
          "model_module_version": "1.5.0",
          "state": {
            "_dom_classes": [],
            "_model_module": "@jupyter-widgets/controls",
            "_model_module_version": "1.5.0",
            "_model_name": "HTMLModel",
            "_view_count": null,
            "_view_module": "@jupyter-widgets/controls",
            "_view_module_version": "1.5.0",
            "_view_name": "HTMLView",
            "description": "",
            "description_tooltip": null,
            "layout": "IPY_MODEL_6985ecf433124486a8093a57789fb42d",
            "placeholder": "​",
            "style": "IPY_MODEL_34cdd08ea17c4b28bc8331594bb8bc74",
            "value": " 456k/456k [00:00&lt;00:00, 15.6MB/s]"
          }
        },
        "3bc9a348f2504f05ac9246a694fa9e2a": {
          "model_module": "@jupyter-widgets/base",
          "model_name": "LayoutModel",
          "model_module_version": "1.2.0",
          "state": {
            "_model_module": "@jupyter-widgets/base",
            "_model_module_version": "1.2.0",
            "_model_name": "LayoutModel",
            "_view_count": null,
            "_view_module": "@jupyter-widgets/base",
            "_view_module_version": "1.2.0",
            "_view_name": "LayoutView",
            "align_content": null,
            "align_items": null,
            "align_self": null,
            "border": null,
            "bottom": null,
            "display": null,
            "flex": null,
            "flex_flow": null,
            "grid_area": null,
            "grid_auto_columns": null,
            "grid_auto_flow": null,
            "grid_auto_rows": null,
            "grid_column": null,
            "grid_gap": null,
            "grid_row": null,
            "grid_template_areas": null,
            "grid_template_columns": null,
            "grid_template_rows": null,
            "height": null,
            "justify_content": null,
            "justify_items": null,
            "left": null,
            "margin": null,
            "max_height": null,
            "max_width": null,
            "min_height": null,
            "min_width": null,
            "object_fit": null,
            "object_position": null,
            "order": null,
            "overflow": null,
            "overflow_x": null,
            "overflow_y": null,
            "padding": null,
            "right": null,
            "top": null,
            "visibility": null,
            "width": null
          }
        },
        "565e27161d874edb90f31339c9bee919": {
          "model_module": "@jupyter-widgets/base",
          "model_name": "LayoutModel",
          "model_module_version": "1.2.0",
          "state": {
            "_model_module": "@jupyter-widgets/base",
            "_model_module_version": "1.2.0",
            "_model_name": "LayoutModel",
            "_view_count": null,
            "_view_module": "@jupyter-widgets/base",
            "_view_module_version": "1.2.0",
            "_view_name": "LayoutView",
            "align_content": null,
            "align_items": null,
            "align_self": null,
            "border": null,
            "bottom": null,
            "display": null,
            "flex": null,
            "flex_flow": null,
            "grid_area": null,
            "grid_auto_columns": null,
            "grid_auto_flow": null,
            "grid_auto_rows": null,
            "grid_column": null,
            "grid_gap": null,
            "grid_row": null,
            "grid_template_areas": null,
            "grid_template_columns": null,
            "grid_template_rows": null,
            "height": null,
            "justify_content": null,
            "justify_items": null,
            "left": null,
            "margin": null,
            "max_height": null,
            "max_width": null,
            "min_height": null,
            "min_width": null,
            "object_fit": null,
            "object_position": null,
            "order": null,
            "overflow": null,
            "overflow_x": null,
            "overflow_y": null,
            "padding": null,
            "right": null,
            "top": null,
            "visibility": null,
            "width": null
          }
        },
        "b6b6a22c2a814eb584ecff50fa82c251": {
          "model_module": "@jupyter-widgets/controls",
          "model_name": "DescriptionStyleModel",
          "model_module_version": "1.5.0",
          "state": {
            "_model_module": "@jupyter-widgets/controls",
            "_model_module_version": "1.5.0",
            "_model_name": "DescriptionStyleModel",
            "_view_count": null,
            "_view_module": "@jupyter-widgets/base",
            "_view_module_version": "1.2.0",
            "_view_name": "StyleView",
            "description_width": ""
          }
        },
        "6d4daee3938a4b0abcbc055d969d0ce3": {
          "model_module": "@jupyter-widgets/base",
          "model_name": "LayoutModel",
          "model_module_version": "1.2.0",
          "state": {
            "_model_module": "@jupyter-widgets/base",
            "_model_module_version": "1.2.0",
            "_model_name": "LayoutModel",
            "_view_count": null,
            "_view_module": "@jupyter-widgets/base",
            "_view_module_version": "1.2.0",
            "_view_name": "LayoutView",
            "align_content": null,
            "align_items": null,
            "align_self": null,
            "border": null,
            "bottom": null,
            "display": null,
            "flex": null,
            "flex_flow": null,
            "grid_area": null,
            "grid_auto_columns": null,
            "grid_auto_flow": null,
            "grid_auto_rows": null,
            "grid_column": null,
            "grid_gap": null,
            "grid_row": null,
            "grid_template_areas": null,
            "grid_template_columns": null,
            "grid_template_rows": null,
            "height": null,
            "justify_content": null,
            "justify_items": null,
            "left": null,
            "margin": null,
            "max_height": null,
            "max_width": null,
            "min_height": null,
            "min_width": null,
            "object_fit": null,
            "object_position": null,
            "order": null,
            "overflow": null,
            "overflow_x": null,
            "overflow_y": null,
            "padding": null,
            "right": null,
            "top": null,
            "visibility": null,
            "width": null
          }
        },
        "bdb328b096b74792ba6f0a6fa53ca7a6": {
          "model_module": "@jupyter-widgets/controls",
          "model_name": "ProgressStyleModel",
          "model_module_version": "1.5.0",
          "state": {
            "_model_module": "@jupyter-widgets/controls",
            "_model_module_version": "1.5.0",
            "_model_name": "ProgressStyleModel",
            "_view_count": null,
            "_view_module": "@jupyter-widgets/base",
            "_view_module_version": "1.2.0",
            "_view_name": "StyleView",
            "bar_color": null,
            "description_width": ""
          }
        },
        "6985ecf433124486a8093a57789fb42d": {
          "model_module": "@jupyter-widgets/base",
          "model_name": "LayoutModel",
          "model_module_version": "1.2.0",
          "state": {
            "_model_module": "@jupyter-widgets/base",
            "_model_module_version": "1.2.0",
            "_model_name": "LayoutModel",
            "_view_count": null,
            "_view_module": "@jupyter-widgets/base",
            "_view_module_version": "1.2.0",
            "_view_name": "LayoutView",
            "align_content": null,
            "align_items": null,
            "align_self": null,
            "border": null,
            "bottom": null,
            "display": null,
            "flex": null,
            "flex_flow": null,
            "grid_area": null,
            "grid_auto_columns": null,
            "grid_auto_flow": null,
            "grid_auto_rows": null,
            "grid_column": null,
            "grid_gap": null,
            "grid_row": null,
            "grid_template_areas": null,
            "grid_template_columns": null,
            "grid_template_rows": null,
            "height": null,
            "justify_content": null,
            "justify_items": null,
            "left": null,
            "margin": null,
            "max_height": null,
            "max_width": null,
            "min_height": null,
            "min_width": null,
            "object_fit": null,
            "object_position": null,
            "order": null,
            "overflow": null,
            "overflow_x": null,
            "overflow_y": null,
            "padding": null,
            "right": null,
            "top": null,
            "visibility": null,
            "width": null
          }
        },
        "34cdd08ea17c4b28bc8331594bb8bc74": {
          "model_module": "@jupyter-widgets/controls",
          "model_name": "DescriptionStyleModel",
          "model_module_version": "1.5.0",
          "state": {
            "_model_module": "@jupyter-widgets/controls",
            "_model_module_version": "1.5.0",
            "_model_name": "DescriptionStyleModel",
            "_view_count": null,
            "_view_module": "@jupyter-widgets/base",
            "_view_module_version": "1.2.0",
            "_view_name": "StyleView",
            "description_width": ""
          }
        },
        "b768a38e69ed48fcad683f3e849c9f19": {
          "model_module": "@jupyter-widgets/controls",
          "model_name": "HBoxModel",
          "model_module_version": "1.5.0",
          "state": {
            "_dom_classes": [],
            "_model_module": "@jupyter-widgets/controls",
            "_model_module_version": "1.5.0",
            "_model_name": "HBoxModel",
            "_view_count": null,
            "_view_module": "@jupyter-widgets/controls",
            "_view_module_version": "1.5.0",
            "_view_name": "HBoxView",
            "box_style": "",
            "children": [
              "IPY_MODEL_0979168c64924a5cb6ee4945ee1f1bc3",
              "IPY_MODEL_863512cbef4b4320be83a980bbb9f18d",
              "IPY_MODEL_c296e92e9c0142e78cc3a372f213978c"
            ],
            "layout": "IPY_MODEL_7923c35ffc744556a098f104f0f3d345"
          }
        },
        "0979168c64924a5cb6ee4945ee1f1bc3": {
          "model_module": "@jupyter-widgets/controls",
          "model_name": "HTMLModel",
          "model_module_version": "1.5.0",
          "state": {
            "_dom_classes": [],
            "_model_module": "@jupyter-widgets/controls",
            "_model_module_version": "1.5.0",
            "_model_name": "HTMLModel",
            "_view_count": null,
            "_view_module": "@jupyter-widgets/controls",
            "_view_module_version": "1.5.0",
            "_view_name": "HTMLView",
            "description": "",
            "description_tooltip": null,
            "layout": "IPY_MODEL_a89f458d00f8451cbe3974bfa1692963",
            "placeholder": "​",
            "style": "IPY_MODEL_128a1f56b216457fb22b9550413b0d19",
            "value": "config.json: 100%"
          }
        },
        "863512cbef4b4320be83a980bbb9f18d": {
          "model_module": "@jupyter-widgets/controls",
          "model_name": "FloatProgressModel",
          "model_module_version": "1.5.0",
          "state": {
            "_dom_classes": [],
            "_model_module": "@jupyter-widgets/controls",
            "_model_module_version": "1.5.0",
            "_model_name": "FloatProgressModel",
            "_view_count": null,
            "_view_module": "@jupyter-widgets/controls",
            "_view_module_version": "1.5.0",
            "_view_name": "ProgressView",
            "bar_style": "success",
            "description": "",
            "description_tooltip": null,
            "layout": "IPY_MODEL_f8fad08461aa445ea8625b94adf664e2",
            "max": 474,
            "min": 0,
            "orientation": "horizontal",
            "style": "IPY_MODEL_9deff7b22d3e444580efbb6f3bc8e044",
            "value": 474
          }
        },
        "c296e92e9c0142e78cc3a372f213978c": {
          "model_module": "@jupyter-widgets/controls",
          "model_name": "HTMLModel",
          "model_module_version": "1.5.0",
          "state": {
            "_dom_classes": [],
            "_model_module": "@jupyter-widgets/controls",
            "_model_module_version": "1.5.0",
            "_model_name": "HTMLModel",
            "_view_count": null,
            "_view_module": "@jupyter-widgets/controls",
            "_view_module_version": "1.5.0",
            "_view_name": "HTMLView",
            "description": "",
            "description_tooltip": null,
            "layout": "IPY_MODEL_c5a4ee217d7a4e9899c34eeb987e3953",
            "placeholder": "​",
            "style": "IPY_MODEL_219a92cf51d34364aa4078ec9f3f6b2f",
            "value": " 474/474 [00:00&lt;00:00, 32.9kB/s]"
          }
        },
        "7923c35ffc744556a098f104f0f3d345": {
          "model_module": "@jupyter-widgets/base",
          "model_name": "LayoutModel",
          "model_module_version": "1.2.0",
          "state": {
            "_model_module": "@jupyter-widgets/base",
            "_model_module_version": "1.2.0",
            "_model_name": "LayoutModel",
            "_view_count": null,
            "_view_module": "@jupyter-widgets/base",
            "_view_module_version": "1.2.0",
            "_view_name": "LayoutView",
            "align_content": null,
            "align_items": null,
            "align_self": null,
            "border": null,
            "bottom": null,
            "display": null,
            "flex": null,
            "flex_flow": null,
            "grid_area": null,
            "grid_auto_columns": null,
            "grid_auto_flow": null,
            "grid_auto_rows": null,
            "grid_column": null,
            "grid_gap": null,
            "grid_row": null,
            "grid_template_areas": null,
            "grid_template_columns": null,
            "grid_template_rows": null,
            "height": null,
            "justify_content": null,
            "justify_items": null,
            "left": null,
            "margin": null,
            "max_height": null,
            "max_width": null,
            "min_height": null,
            "min_width": null,
            "object_fit": null,
            "object_position": null,
            "order": null,
            "overflow": null,
            "overflow_x": null,
            "overflow_y": null,
            "padding": null,
            "right": null,
            "top": null,
            "visibility": null,
            "width": null
          }
        },
        "a89f458d00f8451cbe3974bfa1692963": {
          "model_module": "@jupyter-widgets/base",
          "model_name": "LayoutModel",
          "model_module_version": "1.2.0",
          "state": {
            "_model_module": "@jupyter-widgets/base",
            "_model_module_version": "1.2.0",
            "_model_name": "LayoutModel",
            "_view_count": null,
            "_view_module": "@jupyter-widgets/base",
            "_view_module_version": "1.2.0",
            "_view_name": "LayoutView",
            "align_content": null,
            "align_items": null,
            "align_self": null,
            "border": null,
            "bottom": null,
            "display": null,
            "flex": null,
            "flex_flow": null,
            "grid_area": null,
            "grid_auto_columns": null,
            "grid_auto_flow": null,
            "grid_auto_rows": null,
            "grid_column": null,
            "grid_gap": null,
            "grid_row": null,
            "grid_template_areas": null,
            "grid_template_columns": null,
            "grid_template_rows": null,
            "height": null,
            "justify_content": null,
            "justify_items": null,
            "left": null,
            "margin": null,
            "max_height": null,
            "max_width": null,
            "min_height": null,
            "min_width": null,
            "object_fit": null,
            "object_position": null,
            "order": null,
            "overflow": null,
            "overflow_x": null,
            "overflow_y": null,
            "padding": null,
            "right": null,
            "top": null,
            "visibility": null,
            "width": null
          }
        },
        "128a1f56b216457fb22b9550413b0d19": {
          "model_module": "@jupyter-widgets/controls",
          "model_name": "DescriptionStyleModel",
          "model_module_version": "1.5.0",
          "state": {
            "_model_module": "@jupyter-widgets/controls",
            "_model_module_version": "1.5.0",
            "_model_name": "DescriptionStyleModel",
            "_view_count": null,
            "_view_module": "@jupyter-widgets/base",
            "_view_module_version": "1.2.0",
            "_view_name": "StyleView",
            "description_width": ""
          }
        },
        "f8fad08461aa445ea8625b94adf664e2": {
          "model_module": "@jupyter-widgets/base",
          "model_name": "LayoutModel",
          "model_module_version": "1.2.0",
          "state": {
            "_model_module": "@jupyter-widgets/base",
            "_model_module_version": "1.2.0",
            "_model_name": "LayoutModel",
            "_view_count": null,
            "_view_module": "@jupyter-widgets/base",
            "_view_module_version": "1.2.0",
            "_view_name": "LayoutView",
            "align_content": null,
            "align_items": null,
            "align_self": null,
            "border": null,
            "bottom": null,
            "display": null,
            "flex": null,
            "flex_flow": null,
            "grid_area": null,
            "grid_auto_columns": null,
            "grid_auto_flow": null,
            "grid_auto_rows": null,
            "grid_column": null,
            "grid_gap": null,
            "grid_row": null,
            "grid_template_areas": null,
            "grid_template_columns": null,
            "grid_template_rows": null,
            "height": null,
            "justify_content": null,
            "justify_items": null,
            "left": null,
            "margin": null,
            "max_height": null,
            "max_width": null,
            "min_height": null,
            "min_width": null,
            "object_fit": null,
            "object_position": null,
            "order": null,
            "overflow": null,
            "overflow_x": null,
            "overflow_y": null,
            "padding": null,
            "right": null,
            "top": null,
            "visibility": null,
            "width": null
          }
        },
        "9deff7b22d3e444580efbb6f3bc8e044": {
          "model_module": "@jupyter-widgets/controls",
          "model_name": "ProgressStyleModel",
          "model_module_version": "1.5.0",
          "state": {
            "_model_module": "@jupyter-widgets/controls",
            "_model_module_version": "1.5.0",
            "_model_name": "ProgressStyleModel",
            "_view_count": null,
            "_view_module": "@jupyter-widgets/base",
            "_view_module_version": "1.2.0",
            "_view_name": "StyleView",
            "bar_color": null,
            "description_width": ""
          }
        },
        "c5a4ee217d7a4e9899c34eeb987e3953": {
          "model_module": "@jupyter-widgets/base",
          "model_name": "LayoutModel",
          "model_module_version": "1.2.0",
          "state": {
            "_model_module": "@jupyter-widgets/base",
            "_model_module_version": "1.2.0",
            "_model_name": "LayoutModel",
            "_view_count": null,
            "_view_module": "@jupyter-widgets/base",
            "_view_module_version": "1.2.0",
            "_view_name": "LayoutView",
            "align_content": null,
            "align_items": null,
            "align_self": null,
            "border": null,
            "bottom": null,
            "display": null,
            "flex": null,
            "flex_flow": null,
            "grid_area": null,
            "grid_auto_columns": null,
            "grid_auto_flow": null,
            "grid_auto_rows": null,
            "grid_column": null,
            "grid_gap": null,
            "grid_row": null,
            "grid_template_areas": null,
            "grid_template_columns": null,
            "grid_template_rows": null,
            "height": null,
            "justify_content": null,
            "justify_items": null,
            "left": null,
            "margin": null,
            "max_height": null,
            "max_width": null,
            "min_height": null,
            "min_width": null,
            "object_fit": null,
            "object_position": null,
            "order": null,
            "overflow": null,
            "overflow_x": null,
            "overflow_y": null,
            "padding": null,
            "right": null,
            "top": null,
            "visibility": null,
            "width": null
          }
        },
        "219a92cf51d34364aa4078ec9f3f6b2f": {
          "model_module": "@jupyter-widgets/controls",
          "model_name": "DescriptionStyleModel",
          "model_module_version": "1.5.0",
          "state": {
            "_model_module": "@jupyter-widgets/controls",
            "_model_module_version": "1.5.0",
            "_model_name": "DescriptionStyleModel",
            "_view_count": null,
            "_view_module": "@jupyter-widgets/base",
            "_view_module_version": "1.2.0",
            "_view_name": "StyleView",
            "description_width": ""
          }
        },
        "9303e1f0405d4b7d8aa513c9c518fd8e": {
          "model_module": "@jupyter-widgets/controls",
          "model_name": "HBoxModel",
          "model_module_version": "1.5.0",
          "state": {
            "_dom_classes": [],
            "_model_module": "@jupyter-widgets/controls",
            "_model_module_version": "1.5.0",
            "_model_name": "HBoxModel",
            "_view_count": null,
            "_view_module": "@jupyter-widgets/controls",
            "_view_module_version": "1.5.0",
            "_view_name": "HBoxView",
            "box_style": "",
            "children": [
              "IPY_MODEL_bc5d93fe09e542fd98fd99e3e3f54311",
              "IPY_MODEL_883348c6861b4ceda71b3c522e9bfe94",
              "IPY_MODEL_36a93c5aec29400f88ed42148f8ca4ce"
            ],
            "layout": "IPY_MODEL_32b686c6b0f04867a8e6a34420421962"
          }
        },
        "bc5d93fe09e542fd98fd99e3e3f54311": {
          "model_module": "@jupyter-widgets/controls",
          "model_name": "HTMLModel",
          "model_module_version": "1.5.0",
          "state": {
            "_dom_classes": [],
            "_model_module": "@jupyter-widgets/controls",
            "_model_module_version": "1.5.0",
            "_model_name": "HTMLModel",
            "_view_count": null,
            "_view_module": "@jupyter-widgets/controls",
            "_view_module_version": "1.5.0",
            "_view_name": "HTMLView",
            "description": "",
            "description_tooltip": null,
            "layout": "IPY_MODEL_ffdcf18bf666413195b4a0e66952edba",
            "placeholder": "​",
            "style": "IPY_MODEL_fc5561c91430403ca6b9aeef1064eb9e",
            "value": "pytorch_model.bin: 100%"
          }
        },
        "883348c6861b4ceda71b3c522e9bfe94": {
          "model_module": "@jupyter-widgets/controls",
          "model_name": "FloatProgressModel",
          "model_module_version": "1.5.0",
          "state": {
            "_dom_classes": [],
            "_model_module": "@jupyter-widgets/controls",
            "_model_module_version": "1.5.0",
            "_model_name": "FloatProgressModel",
            "_view_count": null,
            "_view_module": "@jupyter-widgets/controls",
            "_view_module_version": "1.5.0",
            "_view_name": "ProgressView",
            "bar_style": "success",
            "description": "",
            "description_tooltip": null,
            "layout": "IPY_MODEL_084596d80b364972a63fc79729df9503",
            "max": 558614189,
            "min": 0,
            "orientation": "horizontal",
            "style": "IPY_MODEL_86c615c50b3249aba4635c3c58f53580",
            "value": 558614189
          }
        },
        "36a93c5aec29400f88ed42148f8ca4ce": {
          "model_module": "@jupyter-widgets/controls",
          "model_name": "HTMLModel",
          "model_module_version": "1.5.0",
          "state": {
            "_dom_classes": [],
            "_model_module": "@jupyter-widgets/controls",
            "_model_module_version": "1.5.0",
            "_model_name": "HTMLModel",
            "_view_count": null,
            "_view_module": "@jupyter-widgets/controls",
            "_view_module_version": "1.5.0",
            "_view_name": "HTMLView",
            "description": "",
            "description_tooltip": null,
            "layout": "IPY_MODEL_41b7cb10c1ca4d6d9bd5cde4f2959545",
            "placeholder": "​",
            "style": "IPY_MODEL_580e944e811b4f778ae5a4dfb018d083",
            "value": " 559M/559M [00:02&lt;00:00, 184MB/s]"
          }
        },
        "32b686c6b0f04867a8e6a34420421962": {
          "model_module": "@jupyter-widgets/base",
          "model_name": "LayoutModel",
          "model_module_version": "1.2.0",
          "state": {
            "_model_module": "@jupyter-widgets/base",
            "_model_module_version": "1.2.0",
            "_model_name": "LayoutModel",
            "_view_count": null,
            "_view_module": "@jupyter-widgets/base",
            "_view_module_version": "1.2.0",
            "_view_name": "LayoutView",
            "align_content": null,
            "align_items": null,
            "align_self": null,
            "border": null,
            "bottom": null,
            "display": null,
            "flex": null,
            "flex_flow": null,
            "grid_area": null,
            "grid_auto_columns": null,
            "grid_auto_flow": null,
            "grid_auto_rows": null,
            "grid_column": null,
            "grid_gap": null,
            "grid_row": null,
            "grid_template_areas": null,
            "grid_template_columns": null,
            "grid_template_rows": null,
            "height": null,
            "justify_content": null,
            "justify_items": null,
            "left": null,
            "margin": null,
            "max_height": null,
            "max_width": null,
            "min_height": null,
            "min_width": null,
            "object_fit": null,
            "object_position": null,
            "order": null,
            "overflow": null,
            "overflow_x": null,
            "overflow_y": null,
            "padding": null,
            "right": null,
            "top": null,
            "visibility": null,
            "width": null
          }
        },
        "ffdcf18bf666413195b4a0e66952edba": {
          "model_module": "@jupyter-widgets/base",
          "model_name": "LayoutModel",
          "model_module_version": "1.2.0",
          "state": {
            "_model_module": "@jupyter-widgets/base",
            "_model_module_version": "1.2.0",
            "_model_name": "LayoutModel",
            "_view_count": null,
            "_view_module": "@jupyter-widgets/base",
            "_view_module_version": "1.2.0",
            "_view_name": "LayoutView",
            "align_content": null,
            "align_items": null,
            "align_self": null,
            "border": null,
            "bottom": null,
            "display": null,
            "flex": null,
            "flex_flow": null,
            "grid_area": null,
            "grid_auto_columns": null,
            "grid_auto_flow": null,
            "grid_auto_rows": null,
            "grid_column": null,
            "grid_gap": null,
            "grid_row": null,
            "grid_template_areas": null,
            "grid_template_columns": null,
            "grid_template_rows": null,
            "height": null,
            "justify_content": null,
            "justify_items": null,
            "left": null,
            "margin": null,
            "max_height": null,
            "max_width": null,
            "min_height": null,
            "min_width": null,
            "object_fit": null,
            "object_position": null,
            "order": null,
            "overflow": null,
            "overflow_x": null,
            "overflow_y": null,
            "padding": null,
            "right": null,
            "top": null,
            "visibility": null,
            "width": null
          }
        },
        "fc5561c91430403ca6b9aeef1064eb9e": {
          "model_module": "@jupyter-widgets/controls",
          "model_name": "DescriptionStyleModel",
          "model_module_version": "1.5.0",
          "state": {
            "_model_module": "@jupyter-widgets/controls",
            "_model_module_version": "1.5.0",
            "_model_name": "DescriptionStyleModel",
            "_view_count": null,
            "_view_module": "@jupyter-widgets/base",
            "_view_module_version": "1.2.0",
            "_view_name": "StyleView",
            "description_width": ""
          }
        },
        "084596d80b364972a63fc79729df9503": {
          "model_module": "@jupyter-widgets/base",
          "model_name": "LayoutModel",
          "model_module_version": "1.2.0",
          "state": {
            "_model_module": "@jupyter-widgets/base",
            "_model_module_version": "1.2.0",
            "_model_name": "LayoutModel",
            "_view_count": null,
            "_view_module": "@jupyter-widgets/base",
            "_view_module_version": "1.2.0",
            "_view_name": "LayoutView",
            "align_content": null,
            "align_items": null,
            "align_self": null,
            "border": null,
            "bottom": null,
            "display": null,
            "flex": null,
            "flex_flow": null,
            "grid_area": null,
            "grid_auto_columns": null,
            "grid_auto_flow": null,
            "grid_auto_rows": null,
            "grid_column": null,
            "grid_gap": null,
            "grid_row": null,
            "grid_template_areas": null,
            "grid_template_columns": null,
            "grid_template_rows": null,
            "height": null,
            "justify_content": null,
            "justify_items": null,
            "left": null,
            "margin": null,
            "max_height": null,
            "max_width": null,
            "min_height": null,
            "min_width": null,
            "object_fit": null,
            "object_position": null,
            "order": null,
            "overflow": null,
            "overflow_x": null,
            "overflow_y": null,
            "padding": null,
            "right": null,
            "top": null,
            "visibility": null,
            "width": null
          }
        },
        "86c615c50b3249aba4635c3c58f53580": {
          "model_module": "@jupyter-widgets/controls",
          "model_name": "ProgressStyleModel",
          "model_module_version": "1.5.0",
          "state": {
            "_model_module": "@jupyter-widgets/controls",
            "_model_module_version": "1.5.0",
            "_model_name": "ProgressStyleModel",
            "_view_count": null,
            "_view_module": "@jupyter-widgets/base",
            "_view_module_version": "1.2.0",
            "_view_name": "StyleView",
            "bar_color": null,
            "description_width": ""
          }
        },
        "41b7cb10c1ca4d6d9bd5cde4f2959545": {
          "model_module": "@jupyter-widgets/base",
          "model_name": "LayoutModel",
          "model_module_version": "1.2.0",
          "state": {
            "_model_module": "@jupyter-widgets/base",
            "_model_module_version": "1.2.0",
            "_model_name": "LayoutModel",
            "_view_count": null,
            "_view_module": "@jupyter-widgets/base",
            "_view_module_version": "1.2.0",
            "_view_name": "LayoutView",
            "align_content": null,
            "align_items": null,
            "align_self": null,
            "border": null,
            "bottom": null,
            "display": null,
            "flex": null,
            "flex_flow": null,
            "grid_area": null,
            "grid_auto_columns": null,
            "grid_auto_flow": null,
            "grid_auto_rows": null,
            "grid_column": null,
            "grid_gap": null,
            "grid_row": null,
            "grid_template_areas": null,
            "grid_template_columns": null,
            "grid_template_rows": null,
            "height": null,
            "justify_content": null,
            "justify_items": null,
            "left": null,
            "margin": null,
            "max_height": null,
            "max_width": null,
            "min_height": null,
            "min_width": null,
            "object_fit": null,
            "object_position": null,
            "order": null,
            "overflow": null,
            "overflow_x": null,
            "overflow_y": null,
            "padding": null,
            "right": null,
            "top": null,
            "visibility": null,
            "width": null
          }
        },
        "580e944e811b4f778ae5a4dfb018d083": {
          "model_module": "@jupyter-widgets/controls",
          "model_name": "DescriptionStyleModel",
          "model_module_version": "1.5.0",
          "state": {
            "_model_module": "@jupyter-widgets/controls",
            "_model_module_version": "1.5.0",
            "_model_name": "DescriptionStyleModel",
            "_view_count": null,
            "_view_module": "@jupyter-widgets/base",
            "_view_module_version": "1.2.0",
            "_view_name": "StyleView",
            "description_width": ""
          }
        },
        "9eb3e99793704b28864a321f9f093028": {
          "model_module": "@jupyter-widgets/controls",
          "model_name": "HBoxModel",
          "model_module_version": "1.5.0",
          "state": {
            "_dom_classes": [],
            "_model_module": "@jupyter-widgets/controls",
            "_model_module_version": "1.5.0",
            "_model_name": "HBoxModel",
            "_view_count": null,
            "_view_module": "@jupyter-widgets/controls",
            "_view_module_version": "1.5.0",
            "_view_name": "HBoxView",
            "box_style": "",
            "children": [
              "IPY_MODEL_eefcf1810947404b98c7515efb140ce5",
              "IPY_MODEL_ffd81db17eff45789bfbf838d894c2cd",
              "IPY_MODEL_7a89ff0739074815a1c33591b05a0cbf"
            ],
            "layout": "IPY_MODEL_efe215670d1c433394794807f43f372d"
          }
        },
        "eefcf1810947404b98c7515efb140ce5": {
          "model_module": "@jupyter-widgets/controls",
          "model_name": "HTMLModel",
          "model_module_version": "1.5.0",
          "state": {
            "_dom_classes": [],
            "_model_module": "@jupyter-widgets/controls",
            "_model_module_version": "1.5.0",
            "_model_name": "HTMLModel",
            "_view_count": null,
            "_view_module": "@jupyter-widgets/controls",
            "_view_module_version": "1.5.0",
            "_view_name": "HTMLView",
            "description": "",
            "description_tooltip": null,
            "layout": "IPY_MODEL_cb5971fecf504401a553e8480bbb2a28",
            "placeholder": "​",
            "style": "IPY_MODEL_a96de886802e4b019820b306e050c9c3",
            "value": "tokenizer_config.json: 100%"
          }
        },
        "ffd81db17eff45789bfbf838d894c2cd": {
          "model_module": "@jupyter-widgets/controls",
          "model_name": "FloatProgressModel",
          "model_module_version": "1.5.0",
          "state": {
            "_dom_classes": [],
            "_model_module": "@jupyter-widgets/controls",
            "_model_module_version": "1.5.0",
            "_model_name": "FloatProgressModel",
            "_view_count": null,
            "_view_module": "@jupyter-widgets/controls",
            "_view_module_version": "1.5.0",
            "_view_name": "ProgressView",
            "bar_style": "success",
            "description": "",
            "description_tooltip": null,
            "layout": "IPY_MODEL_b7327203cd6b42a9ad75a44d03186070",
            "max": 25,
            "min": 0,
            "orientation": "horizontal",
            "style": "IPY_MODEL_c5b2104a4133474c912622dfbe67d058",
            "value": 25
          }
        },
        "7a89ff0739074815a1c33591b05a0cbf": {
          "model_module": "@jupyter-widgets/controls",
          "model_name": "HTMLModel",
          "model_module_version": "1.5.0",
          "state": {
            "_dom_classes": [],
            "_model_module": "@jupyter-widgets/controls",
            "_model_module_version": "1.5.0",
            "_model_name": "HTMLModel",
            "_view_count": null,
            "_view_module": "@jupyter-widgets/controls",
            "_view_module_version": "1.5.0",
            "_view_name": "HTMLView",
            "description": "",
            "description_tooltip": null,
            "layout": "IPY_MODEL_4f4c086421074f4db45d533494289b34",
            "placeholder": "​",
            "style": "IPY_MODEL_6e9b9901019542918c8c50309ee6dd0f",
            "value": " 25.0/25.0 [00:00&lt;00:00, 1.57kB/s]"
          }
        },
        "efe215670d1c433394794807f43f372d": {
          "model_module": "@jupyter-widgets/base",
          "model_name": "LayoutModel",
          "model_module_version": "1.2.0",
          "state": {
            "_model_module": "@jupyter-widgets/base",
            "_model_module_version": "1.2.0",
            "_model_name": "LayoutModel",
            "_view_count": null,
            "_view_module": "@jupyter-widgets/base",
            "_view_module_version": "1.2.0",
            "_view_name": "LayoutView",
            "align_content": null,
            "align_items": null,
            "align_self": null,
            "border": null,
            "bottom": null,
            "display": null,
            "flex": null,
            "flex_flow": null,
            "grid_area": null,
            "grid_auto_columns": null,
            "grid_auto_flow": null,
            "grid_auto_rows": null,
            "grid_column": null,
            "grid_gap": null,
            "grid_row": null,
            "grid_template_areas": null,
            "grid_template_columns": null,
            "grid_template_rows": null,
            "height": null,
            "justify_content": null,
            "justify_items": null,
            "left": null,
            "margin": null,
            "max_height": null,
            "max_width": null,
            "min_height": null,
            "min_width": null,
            "object_fit": null,
            "object_position": null,
            "order": null,
            "overflow": null,
            "overflow_x": null,
            "overflow_y": null,
            "padding": null,
            "right": null,
            "top": null,
            "visibility": null,
            "width": null
          }
        },
        "cb5971fecf504401a553e8480bbb2a28": {
          "model_module": "@jupyter-widgets/base",
          "model_name": "LayoutModel",
          "model_module_version": "1.2.0",
          "state": {
            "_model_module": "@jupyter-widgets/base",
            "_model_module_version": "1.2.0",
            "_model_name": "LayoutModel",
            "_view_count": null,
            "_view_module": "@jupyter-widgets/base",
            "_view_module_version": "1.2.0",
            "_view_name": "LayoutView",
            "align_content": null,
            "align_items": null,
            "align_self": null,
            "border": null,
            "bottom": null,
            "display": null,
            "flex": null,
            "flex_flow": null,
            "grid_area": null,
            "grid_auto_columns": null,
            "grid_auto_flow": null,
            "grid_auto_rows": null,
            "grid_column": null,
            "grid_gap": null,
            "grid_row": null,
            "grid_template_areas": null,
            "grid_template_columns": null,
            "grid_template_rows": null,
            "height": null,
            "justify_content": null,
            "justify_items": null,
            "left": null,
            "margin": null,
            "max_height": null,
            "max_width": null,
            "min_height": null,
            "min_width": null,
            "object_fit": null,
            "object_position": null,
            "order": null,
            "overflow": null,
            "overflow_x": null,
            "overflow_y": null,
            "padding": null,
            "right": null,
            "top": null,
            "visibility": null,
            "width": null
          }
        },
        "a96de886802e4b019820b306e050c9c3": {
          "model_module": "@jupyter-widgets/controls",
          "model_name": "DescriptionStyleModel",
          "model_module_version": "1.5.0",
          "state": {
            "_model_module": "@jupyter-widgets/controls",
            "_model_module_version": "1.5.0",
            "_model_name": "DescriptionStyleModel",
            "_view_count": null,
            "_view_module": "@jupyter-widgets/base",
            "_view_module_version": "1.2.0",
            "_view_name": "StyleView",
            "description_width": ""
          }
        },
        "b7327203cd6b42a9ad75a44d03186070": {
          "model_module": "@jupyter-widgets/base",
          "model_name": "LayoutModel",
          "model_module_version": "1.2.0",
          "state": {
            "_model_module": "@jupyter-widgets/base",
            "_model_module_version": "1.2.0",
            "_model_name": "LayoutModel",
            "_view_count": null,
            "_view_module": "@jupyter-widgets/base",
            "_view_module_version": "1.2.0",
            "_view_name": "LayoutView",
            "align_content": null,
            "align_items": null,
            "align_self": null,
            "border": null,
            "bottom": null,
            "display": null,
            "flex": null,
            "flex_flow": null,
            "grid_area": null,
            "grid_auto_columns": null,
            "grid_auto_flow": null,
            "grid_auto_rows": null,
            "grid_column": null,
            "grid_gap": null,
            "grid_row": null,
            "grid_template_areas": null,
            "grid_template_columns": null,
            "grid_template_rows": null,
            "height": null,
            "justify_content": null,
            "justify_items": null,
            "left": null,
            "margin": null,
            "max_height": null,
            "max_width": null,
            "min_height": null,
            "min_width": null,
            "object_fit": null,
            "object_position": null,
            "order": null,
            "overflow": null,
            "overflow_x": null,
            "overflow_y": null,
            "padding": null,
            "right": null,
            "top": null,
            "visibility": null,
            "width": null
          }
        },
        "c5b2104a4133474c912622dfbe67d058": {
          "model_module": "@jupyter-widgets/controls",
          "model_name": "ProgressStyleModel",
          "model_module_version": "1.5.0",
          "state": {
            "_model_module": "@jupyter-widgets/controls",
            "_model_module_version": "1.5.0",
            "_model_name": "ProgressStyleModel",
            "_view_count": null,
            "_view_module": "@jupyter-widgets/base",
            "_view_module_version": "1.2.0",
            "_view_name": "StyleView",
            "bar_color": null,
            "description_width": ""
          }
        },
        "4f4c086421074f4db45d533494289b34": {
          "model_module": "@jupyter-widgets/base",
          "model_name": "LayoutModel",
          "model_module_version": "1.2.0",
          "state": {
            "_model_module": "@jupyter-widgets/base",
            "_model_module_version": "1.2.0",
            "_model_name": "LayoutModel",
            "_view_count": null,
            "_view_module": "@jupyter-widgets/base",
            "_view_module_version": "1.2.0",
            "_view_name": "LayoutView",
            "align_content": null,
            "align_items": null,
            "align_self": null,
            "border": null,
            "bottom": null,
            "display": null,
            "flex": null,
            "flex_flow": null,
            "grid_area": null,
            "grid_auto_columns": null,
            "grid_auto_flow": null,
            "grid_auto_rows": null,
            "grid_column": null,
            "grid_gap": null,
            "grid_row": null,
            "grid_template_areas": null,
            "grid_template_columns": null,
            "grid_template_rows": null,
            "height": null,
            "justify_content": null,
            "justify_items": null,
            "left": null,
            "margin": null,
            "max_height": null,
            "max_width": null,
            "min_height": null,
            "min_width": null,
            "object_fit": null,
            "object_position": null,
            "order": null,
            "overflow": null,
            "overflow_x": null,
            "overflow_y": null,
            "padding": null,
            "right": null,
            "top": null,
            "visibility": null,
            "width": null
          }
        },
        "6e9b9901019542918c8c50309ee6dd0f": {
          "model_module": "@jupyter-widgets/controls",
          "model_name": "DescriptionStyleModel",
          "model_module_version": "1.5.0",
          "state": {
            "_model_module": "@jupyter-widgets/controls",
            "_model_module_version": "1.5.0",
            "_model_name": "DescriptionStyleModel",
            "_view_count": null,
            "_view_module": "@jupyter-widgets/base",
            "_view_module_version": "1.2.0",
            "_view_name": "StyleView",
            "description_width": ""
          }
        },
        "bdb5025541024279b4a18fe181a93b30": {
          "model_module": "@jupyter-widgets/controls",
          "model_name": "HBoxModel",
          "model_module_version": "1.5.0",
          "state": {
            "_dom_classes": [],
            "_model_module": "@jupyter-widgets/controls",
            "_model_module_version": "1.5.0",
            "_model_name": "HBoxModel",
            "_view_count": null,
            "_view_module": "@jupyter-widgets/controls",
            "_view_module_version": "1.5.0",
            "_view_name": "HBoxView",
            "box_style": "",
            "children": [
              "IPY_MODEL_cd80aaaed7194b4b8bd17ce1d5dd4576",
              "IPY_MODEL_bf078bdb05be469c8bd2afd754069d4c",
              "IPY_MODEL_a2cbe085852f497b90b65b712e37d675"
            ],
            "layout": "IPY_MODEL_7f0b4bb884ad49738570284e31630997"
          }
        },
        "cd80aaaed7194b4b8bd17ce1d5dd4576": {
          "model_module": "@jupyter-widgets/controls",
          "model_name": "HTMLModel",
          "model_module_version": "1.5.0",
          "state": {
            "_dom_classes": [],
            "_model_module": "@jupyter-widgets/controls",
            "_model_module_version": "1.5.0",
            "_model_name": "HTMLModel",
            "_view_count": null,
            "_view_module": "@jupyter-widgets/controls",
            "_view_module_version": "1.5.0",
            "_view_name": "HTMLView",
            "description": "",
            "description_tooltip": null,
            "layout": "IPY_MODEL_cb29b6d966094b2b81c29a47d0fbf92d",
            "placeholder": "​",
            "style": "IPY_MODEL_098f747bca6446b09cfd9f97bd9d7651",
            "value": "vocab.json: 100%"
          }
        },
        "bf078bdb05be469c8bd2afd754069d4c": {
          "model_module": "@jupyter-widgets/controls",
          "model_name": "FloatProgressModel",
          "model_module_version": "1.5.0",
          "state": {
            "_dom_classes": [],
            "_model_module": "@jupyter-widgets/controls",
            "_model_module_version": "1.5.0",
            "_model_name": "FloatProgressModel",
            "_view_count": null,
            "_view_module": "@jupyter-widgets/controls",
            "_view_module_version": "1.5.0",
            "_view_name": "ProgressView",
            "bar_style": "success",
            "description": "",
            "description_tooltip": null,
            "layout": "IPY_MODEL_e55ed7ef5bc6438a95ae5a80e10b5175",
            "max": 898823,
            "min": 0,
            "orientation": "horizontal",
            "style": "IPY_MODEL_549d48cad2694eb3bdfc123cd212271b",
            "value": 898823
          }
        },
        "a2cbe085852f497b90b65b712e37d675": {
          "model_module": "@jupyter-widgets/controls",
          "model_name": "HTMLModel",
          "model_module_version": "1.5.0",
          "state": {
            "_dom_classes": [],
            "_model_module": "@jupyter-widgets/controls",
            "_model_module_version": "1.5.0",
            "_model_name": "HTMLModel",
            "_view_count": null,
            "_view_module": "@jupyter-widgets/controls",
            "_view_module_version": "1.5.0",
            "_view_name": "HTMLView",
            "description": "",
            "description_tooltip": null,
            "layout": "IPY_MODEL_e4c9051a670641518b936d8fa745a4f5",
            "placeholder": "​",
            "style": "IPY_MODEL_90ecfde557ba42f5be8d73e920a9c533",
            "value": " 899k/899k [00:00&lt;00:00, 22.8MB/s]"
          }
        },
        "7f0b4bb884ad49738570284e31630997": {
          "model_module": "@jupyter-widgets/base",
          "model_name": "LayoutModel",
          "model_module_version": "1.2.0",
          "state": {
            "_model_module": "@jupyter-widgets/base",
            "_model_module_version": "1.2.0",
            "_model_name": "LayoutModel",
            "_view_count": null,
            "_view_module": "@jupyter-widgets/base",
            "_view_module_version": "1.2.0",
            "_view_name": "LayoutView",
            "align_content": null,
            "align_items": null,
            "align_self": null,
            "border": null,
            "bottom": null,
            "display": null,
            "flex": null,
            "flex_flow": null,
            "grid_area": null,
            "grid_auto_columns": null,
            "grid_auto_flow": null,
            "grid_auto_rows": null,
            "grid_column": null,
            "grid_gap": null,
            "grid_row": null,
            "grid_template_areas": null,
            "grid_template_columns": null,
            "grid_template_rows": null,
            "height": null,
            "justify_content": null,
            "justify_items": null,
            "left": null,
            "margin": null,
            "max_height": null,
            "max_width": null,
            "min_height": null,
            "min_width": null,
            "object_fit": null,
            "object_position": null,
            "order": null,
            "overflow": null,
            "overflow_x": null,
            "overflow_y": null,
            "padding": null,
            "right": null,
            "top": null,
            "visibility": null,
            "width": null
          }
        },
        "cb29b6d966094b2b81c29a47d0fbf92d": {
          "model_module": "@jupyter-widgets/base",
          "model_name": "LayoutModel",
          "model_module_version": "1.2.0",
          "state": {
            "_model_module": "@jupyter-widgets/base",
            "_model_module_version": "1.2.0",
            "_model_name": "LayoutModel",
            "_view_count": null,
            "_view_module": "@jupyter-widgets/base",
            "_view_module_version": "1.2.0",
            "_view_name": "LayoutView",
            "align_content": null,
            "align_items": null,
            "align_self": null,
            "border": null,
            "bottom": null,
            "display": null,
            "flex": null,
            "flex_flow": null,
            "grid_area": null,
            "grid_auto_columns": null,
            "grid_auto_flow": null,
            "grid_auto_rows": null,
            "grid_column": null,
            "grid_gap": null,
            "grid_row": null,
            "grid_template_areas": null,
            "grid_template_columns": null,
            "grid_template_rows": null,
            "height": null,
            "justify_content": null,
            "justify_items": null,
            "left": null,
            "margin": null,
            "max_height": null,
            "max_width": null,
            "min_height": null,
            "min_width": null,
            "object_fit": null,
            "object_position": null,
            "order": null,
            "overflow": null,
            "overflow_x": null,
            "overflow_y": null,
            "padding": null,
            "right": null,
            "top": null,
            "visibility": null,
            "width": null
          }
        },
        "098f747bca6446b09cfd9f97bd9d7651": {
          "model_module": "@jupyter-widgets/controls",
          "model_name": "DescriptionStyleModel",
          "model_module_version": "1.5.0",
          "state": {
            "_model_module": "@jupyter-widgets/controls",
            "_model_module_version": "1.5.0",
            "_model_name": "DescriptionStyleModel",
            "_view_count": null,
            "_view_module": "@jupyter-widgets/base",
            "_view_module_version": "1.2.0",
            "_view_name": "StyleView",
            "description_width": ""
          }
        },
        "e55ed7ef5bc6438a95ae5a80e10b5175": {
          "model_module": "@jupyter-widgets/base",
          "model_name": "LayoutModel",
          "model_module_version": "1.2.0",
          "state": {
            "_model_module": "@jupyter-widgets/base",
            "_model_module_version": "1.2.0",
            "_model_name": "LayoutModel",
            "_view_count": null,
            "_view_module": "@jupyter-widgets/base",
            "_view_module_version": "1.2.0",
            "_view_name": "LayoutView",
            "align_content": null,
            "align_items": null,
            "align_self": null,
            "border": null,
            "bottom": null,
            "display": null,
            "flex": null,
            "flex_flow": null,
            "grid_area": null,
            "grid_auto_columns": null,
            "grid_auto_flow": null,
            "grid_auto_rows": null,
            "grid_column": null,
            "grid_gap": null,
            "grid_row": null,
            "grid_template_areas": null,
            "grid_template_columns": null,
            "grid_template_rows": null,
            "height": null,
            "justify_content": null,
            "justify_items": null,
            "left": null,
            "margin": null,
            "max_height": null,
            "max_width": null,
            "min_height": null,
            "min_width": null,
            "object_fit": null,
            "object_position": null,
            "order": null,
            "overflow": null,
            "overflow_x": null,
            "overflow_y": null,
            "padding": null,
            "right": null,
            "top": null,
            "visibility": null,
            "width": null
          }
        },
        "549d48cad2694eb3bdfc123cd212271b": {
          "model_module": "@jupyter-widgets/controls",
          "model_name": "ProgressStyleModel",
          "model_module_version": "1.5.0",
          "state": {
            "_model_module": "@jupyter-widgets/controls",
            "_model_module_version": "1.5.0",
            "_model_name": "ProgressStyleModel",
            "_view_count": null,
            "_view_module": "@jupyter-widgets/base",
            "_view_module_version": "1.2.0",
            "_view_name": "StyleView",
            "bar_color": null,
            "description_width": ""
          }
        },
        "e4c9051a670641518b936d8fa745a4f5": {
          "model_module": "@jupyter-widgets/base",
          "model_name": "LayoutModel",
          "model_module_version": "1.2.0",
          "state": {
            "_model_module": "@jupyter-widgets/base",
            "_model_module_version": "1.2.0",
            "_model_name": "LayoutModel",
            "_view_count": null,
            "_view_module": "@jupyter-widgets/base",
            "_view_module_version": "1.2.0",
            "_view_name": "LayoutView",
            "align_content": null,
            "align_items": null,
            "align_self": null,
            "border": null,
            "bottom": null,
            "display": null,
            "flex": null,
            "flex_flow": null,
            "grid_area": null,
            "grid_auto_columns": null,
            "grid_auto_flow": null,
            "grid_auto_rows": null,
            "grid_column": null,
            "grid_gap": null,
            "grid_row": null,
            "grid_template_areas": null,
            "grid_template_columns": null,
            "grid_template_rows": null,
            "height": null,
            "justify_content": null,
            "justify_items": null,
            "left": null,
            "margin": null,
            "max_height": null,
            "max_width": null,
            "min_height": null,
            "min_width": null,
            "object_fit": null,
            "object_position": null,
            "order": null,
            "overflow": null,
            "overflow_x": null,
            "overflow_y": null,
            "padding": null,
            "right": null,
            "top": null,
            "visibility": null,
            "width": null
          }
        },
        "90ecfde557ba42f5be8d73e920a9c533": {
          "model_module": "@jupyter-widgets/controls",
          "model_name": "DescriptionStyleModel",
          "model_module_version": "1.5.0",
          "state": {
            "_model_module": "@jupyter-widgets/controls",
            "_model_module_version": "1.5.0",
            "_model_name": "DescriptionStyleModel",
            "_view_count": null,
            "_view_module": "@jupyter-widgets/base",
            "_view_module_version": "1.2.0",
            "_view_name": "StyleView",
            "description_width": ""
          }
        },
        "669d6e49a7cb40c6b7a4abfbc12bf0e5": {
          "model_module": "@jupyter-widgets/controls",
          "model_name": "HBoxModel",
          "model_module_version": "1.5.0",
          "state": {
            "_dom_classes": [],
            "_model_module": "@jupyter-widgets/controls",
            "_model_module_version": "1.5.0",
            "_model_name": "HBoxModel",
            "_view_count": null,
            "_view_module": "@jupyter-widgets/controls",
            "_view_module_version": "1.5.0",
            "_view_name": "HBoxView",
            "box_style": "",
            "children": [
              "IPY_MODEL_164dc8cfb4ec46e9b241241968291412",
              "IPY_MODEL_4cd42bdd7a364539a8efe5aa613b0c7a",
              "IPY_MODEL_3df7029f288843ef8058680a912f64dc"
            ],
            "layout": "IPY_MODEL_4b8683e9baa8495689ce086f88626369"
          }
        },
        "164dc8cfb4ec46e9b241241968291412": {
          "model_module": "@jupyter-widgets/controls",
          "model_name": "HTMLModel",
          "model_module_version": "1.5.0",
          "state": {
            "_dom_classes": [],
            "_model_module": "@jupyter-widgets/controls",
            "_model_module_version": "1.5.0",
            "_model_name": "HTMLModel",
            "_view_count": null,
            "_view_module": "@jupyter-widgets/controls",
            "_view_module_version": "1.5.0",
            "_view_name": "HTMLView",
            "description": "",
            "description_tooltip": null,
            "layout": "IPY_MODEL_b3411dedab4f4156856ba817d580910a",
            "placeholder": "​",
            "style": "IPY_MODEL_c34573eb3d8540fe861ed035195213d0",
            "value": "merges.txt: 100%"
          }
        },
        "4cd42bdd7a364539a8efe5aa613b0c7a": {
          "model_module": "@jupyter-widgets/controls",
          "model_name": "FloatProgressModel",
          "model_module_version": "1.5.0",
          "state": {
            "_dom_classes": [],
            "_model_module": "@jupyter-widgets/controls",
            "_model_module_version": "1.5.0",
            "_model_name": "FloatProgressModel",
            "_view_count": null,
            "_view_module": "@jupyter-widgets/controls",
            "_view_module_version": "1.5.0",
            "_view_name": "ProgressView",
            "bar_style": "success",
            "description": "",
            "description_tooltip": null,
            "layout": "IPY_MODEL_9a095d1000db487da8f45ebadffedfe9",
            "max": 456318,
            "min": 0,
            "orientation": "horizontal",
            "style": "IPY_MODEL_d4df9148007244448e5fe5583299c8e6",
            "value": 456318
          }
        },
        "3df7029f288843ef8058680a912f64dc": {
          "model_module": "@jupyter-widgets/controls",
          "model_name": "HTMLModel",
          "model_module_version": "1.5.0",
          "state": {
            "_dom_classes": [],
            "_model_module": "@jupyter-widgets/controls",
            "_model_module_version": "1.5.0",
            "_model_name": "HTMLModel",
            "_view_count": null,
            "_view_module": "@jupyter-widgets/controls",
            "_view_module_version": "1.5.0",
            "_view_name": "HTMLView",
            "description": "",
            "description_tooltip": null,
            "layout": "IPY_MODEL_681df5086ad641bca188fb6afed0569c",
            "placeholder": "​",
            "style": "IPY_MODEL_d20af8ef9f3a4884b37ef8ecc8e4f74f",
            "value": " 456k/456k [00:00&lt;00:00, 17.0MB/s]"
          }
        },
        "4b8683e9baa8495689ce086f88626369": {
          "model_module": "@jupyter-widgets/base",
          "model_name": "LayoutModel",
          "model_module_version": "1.2.0",
          "state": {
            "_model_module": "@jupyter-widgets/base",
            "_model_module_version": "1.2.0",
            "_model_name": "LayoutModel",
            "_view_count": null,
            "_view_module": "@jupyter-widgets/base",
            "_view_module_version": "1.2.0",
            "_view_name": "LayoutView",
            "align_content": null,
            "align_items": null,
            "align_self": null,
            "border": null,
            "bottom": null,
            "display": null,
            "flex": null,
            "flex_flow": null,
            "grid_area": null,
            "grid_auto_columns": null,
            "grid_auto_flow": null,
            "grid_auto_rows": null,
            "grid_column": null,
            "grid_gap": null,
            "grid_row": null,
            "grid_template_areas": null,
            "grid_template_columns": null,
            "grid_template_rows": null,
            "height": null,
            "justify_content": null,
            "justify_items": null,
            "left": null,
            "margin": null,
            "max_height": null,
            "max_width": null,
            "min_height": null,
            "min_width": null,
            "object_fit": null,
            "object_position": null,
            "order": null,
            "overflow": null,
            "overflow_x": null,
            "overflow_y": null,
            "padding": null,
            "right": null,
            "top": null,
            "visibility": null,
            "width": null
          }
        },
        "b3411dedab4f4156856ba817d580910a": {
          "model_module": "@jupyter-widgets/base",
          "model_name": "LayoutModel",
          "model_module_version": "1.2.0",
          "state": {
            "_model_module": "@jupyter-widgets/base",
            "_model_module_version": "1.2.0",
            "_model_name": "LayoutModel",
            "_view_count": null,
            "_view_module": "@jupyter-widgets/base",
            "_view_module_version": "1.2.0",
            "_view_name": "LayoutView",
            "align_content": null,
            "align_items": null,
            "align_self": null,
            "border": null,
            "bottom": null,
            "display": null,
            "flex": null,
            "flex_flow": null,
            "grid_area": null,
            "grid_auto_columns": null,
            "grid_auto_flow": null,
            "grid_auto_rows": null,
            "grid_column": null,
            "grid_gap": null,
            "grid_row": null,
            "grid_template_areas": null,
            "grid_template_columns": null,
            "grid_template_rows": null,
            "height": null,
            "justify_content": null,
            "justify_items": null,
            "left": null,
            "margin": null,
            "max_height": null,
            "max_width": null,
            "min_height": null,
            "min_width": null,
            "object_fit": null,
            "object_position": null,
            "order": null,
            "overflow": null,
            "overflow_x": null,
            "overflow_y": null,
            "padding": null,
            "right": null,
            "top": null,
            "visibility": null,
            "width": null
          }
        },
        "c34573eb3d8540fe861ed035195213d0": {
          "model_module": "@jupyter-widgets/controls",
          "model_name": "DescriptionStyleModel",
          "model_module_version": "1.5.0",
          "state": {
            "_model_module": "@jupyter-widgets/controls",
            "_model_module_version": "1.5.0",
            "_model_name": "DescriptionStyleModel",
            "_view_count": null,
            "_view_module": "@jupyter-widgets/base",
            "_view_module_version": "1.2.0",
            "_view_name": "StyleView",
            "description_width": ""
          }
        },
        "9a095d1000db487da8f45ebadffedfe9": {
          "model_module": "@jupyter-widgets/base",
          "model_name": "LayoutModel",
          "model_module_version": "1.2.0",
          "state": {
            "_model_module": "@jupyter-widgets/base",
            "_model_module_version": "1.2.0",
            "_model_name": "LayoutModel",
            "_view_count": null,
            "_view_module": "@jupyter-widgets/base",
            "_view_module_version": "1.2.0",
            "_view_name": "LayoutView",
            "align_content": null,
            "align_items": null,
            "align_self": null,
            "border": null,
            "bottom": null,
            "display": null,
            "flex": null,
            "flex_flow": null,
            "grid_area": null,
            "grid_auto_columns": null,
            "grid_auto_flow": null,
            "grid_auto_rows": null,
            "grid_column": null,
            "grid_gap": null,
            "grid_row": null,
            "grid_template_areas": null,
            "grid_template_columns": null,
            "grid_template_rows": null,
            "height": null,
            "justify_content": null,
            "justify_items": null,
            "left": null,
            "margin": null,
            "max_height": null,
            "max_width": null,
            "min_height": null,
            "min_width": null,
            "object_fit": null,
            "object_position": null,
            "order": null,
            "overflow": null,
            "overflow_x": null,
            "overflow_y": null,
            "padding": null,
            "right": null,
            "top": null,
            "visibility": null,
            "width": null
          }
        },
        "d4df9148007244448e5fe5583299c8e6": {
          "model_module": "@jupyter-widgets/controls",
          "model_name": "ProgressStyleModel",
          "model_module_version": "1.5.0",
          "state": {
            "_model_module": "@jupyter-widgets/controls",
            "_model_module_version": "1.5.0",
            "_model_name": "ProgressStyleModel",
            "_view_count": null,
            "_view_module": "@jupyter-widgets/base",
            "_view_module_version": "1.2.0",
            "_view_name": "StyleView",
            "bar_color": null,
            "description_width": ""
          }
        },
        "681df5086ad641bca188fb6afed0569c": {
          "model_module": "@jupyter-widgets/base",
          "model_name": "LayoutModel",
          "model_module_version": "1.2.0",
          "state": {
            "_model_module": "@jupyter-widgets/base",
            "_model_module_version": "1.2.0",
            "_model_name": "LayoutModel",
            "_view_count": null,
            "_view_module": "@jupyter-widgets/base",
            "_view_module_version": "1.2.0",
            "_view_name": "LayoutView",
            "align_content": null,
            "align_items": null,
            "align_self": null,
            "border": null,
            "bottom": null,
            "display": null,
            "flex": null,
            "flex_flow": null,
            "grid_area": null,
            "grid_auto_columns": null,
            "grid_auto_flow": null,
            "grid_auto_rows": null,
            "grid_column": null,
            "grid_gap": null,
            "grid_row": null,
            "grid_template_areas": null,
            "grid_template_columns": null,
            "grid_template_rows": null,
            "height": null,
            "justify_content": null,
            "justify_items": null,
            "left": null,
            "margin": null,
            "max_height": null,
            "max_width": null,
            "min_height": null,
            "min_width": null,
            "object_fit": null,
            "object_position": null,
            "order": null,
            "overflow": null,
            "overflow_x": null,
            "overflow_y": null,
            "padding": null,
            "right": null,
            "top": null,
            "visibility": null,
            "width": null
          }
        },
        "d20af8ef9f3a4884b37ef8ecc8e4f74f": {
          "model_module": "@jupyter-widgets/controls",
          "model_name": "DescriptionStyleModel",
          "model_module_version": "1.5.0",
          "state": {
            "_model_module": "@jupyter-widgets/controls",
            "_model_module_version": "1.5.0",
            "_model_name": "DescriptionStyleModel",
            "_view_count": null,
            "_view_module": "@jupyter-widgets/base",
            "_view_module_version": "1.2.0",
            "_view_name": "StyleView",
            "description_width": ""
          }
        },
        "3e48ca7aa03a4d1c9f4f8a2f1dd28974": {
          "model_module": "@jupyter-widgets/controls",
          "model_name": "HBoxModel",
          "model_module_version": "1.5.0",
          "state": {
            "_dom_classes": [],
            "_model_module": "@jupyter-widgets/controls",
            "_model_module_version": "1.5.0",
            "_model_name": "HBoxModel",
            "_view_count": null,
            "_view_module": "@jupyter-widgets/controls",
            "_view_module_version": "1.5.0",
            "_view_name": "HBoxView",
            "box_style": "",
            "children": [
              "IPY_MODEL_5c46629eed20445d9296a1a0e09f93a0",
              "IPY_MODEL_2738a50fa1ec43d98501733f4555bebf",
              "IPY_MODEL_365e05bc32654b229e91c9e5ffb844b9"
            ],
            "layout": "IPY_MODEL_bbe97aa252584f55b2a04d40a6cb260e"
          }
        },
        "5c46629eed20445d9296a1a0e09f93a0": {
          "model_module": "@jupyter-widgets/controls",
          "model_name": "HTMLModel",
          "model_module_version": "1.5.0",
          "state": {
            "_dom_classes": [],
            "_model_module": "@jupyter-widgets/controls",
            "_model_module_version": "1.5.0",
            "_model_name": "HTMLModel",
            "_view_count": null,
            "_view_module": "@jupyter-widgets/controls",
            "_view_module_version": "1.5.0",
            "_view_name": "HTMLView",
            "description": "",
            "description_tooltip": null,
            "layout": "IPY_MODEL_d27fd8187763449a95dccebf37fe8c2d",
            "placeholder": "​",
            "style": "IPY_MODEL_f605834673d849babaf153ae58a1a874",
            "value": "model.safetensors: 100%"
          }
        },
        "2738a50fa1ec43d98501733f4555bebf": {
          "model_module": "@jupyter-widgets/controls",
          "model_name": "FloatProgressModel",
          "model_module_version": "1.5.0",
          "state": {
            "_dom_classes": [],
            "_model_module": "@jupyter-widgets/controls",
            "_model_module_version": "1.5.0",
            "_model_name": "FloatProgressModel",
            "_view_count": null,
            "_view_module": "@jupyter-widgets/controls",
            "_view_module_version": "1.5.0",
            "_view_name": "ProgressView",
            "bar_style": "success",
            "description": "",
            "description_tooltip": null,
            "layout": "IPY_MODEL_069c63c9d42b47dea3e009d674269dc5",
            "max": 558573788,
            "min": 0,
            "orientation": "horizontal",
            "style": "IPY_MODEL_37af604c63784e08abaa44330f227eba",
            "value": 558573788
          }
        },
        "365e05bc32654b229e91c9e5ffb844b9": {
          "model_module": "@jupyter-widgets/controls",
          "model_name": "HTMLModel",
          "model_module_version": "1.5.0",
          "state": {
            "_dom_classes": [],
            "_model_module": "@jupyter-widgets/controls",
            "_model_module_version": "1.5.0",
            "_model_name": "HTMLModel",
            "_view_count": null,
            "_view_module": "@jupyter-widgets/controls",
            "_view_module_version": "1.5.0",
            "_view_name": "HTMLView",
            "description": "",
            "description_tooltip": null,
            "layout": "IPY_MODEL_848e684f604d43aea8ed168a226793ca",
            "placeholder": "​",
            "style": "IPY_MODEL_04a9f26a192d4849b41b8c9e17f86bea",
            "value": " 559M/559M [00:04&lt;00:00, 134MB/s]"
          }
        },
        "bbe97aa252584f55b2a04d40a6cb260e": {
          "model_module": "@jupyter-widgets/base",
          "model_name": "LayoutModel",
          "model_module_version": "1.2.0",
          "state": {
            "_model_module": "@jupyter-widgets/base",
            "_model_module_version": "1.2.0",
            "_model_name": "LayoutModel",
            "_view_count": null,
            "_view_module": "@jupyter-widgets/base",
            "_view_module_version": "1.2.0",
            "_view_name": "LayoutView",
            "align_content": null,
            "align_items": null,
            "align_self": null,
            "border": null,
            "bottom": null,
            "display": null,
            "flex": null,
            "flex_flow": null,
            "grid_area": null,
            "grid_auto_columns": null,
            "grid_auto_flow": null,
            "grid_auto_rows": null,
            "grid_column": null,
            "grid_gap": null,
            "grid_row": null,
            "grid_template_areas": null,
            "grid_template_columns": null,
            "grid_template_rows": null,
            "height": null,
            "justify_content": null,
            "justify_items": null,
            "left": null,
            "margin": null,
            "max_height": null,
            "max_width": null,
            "min_height": null,
            "min_width": null,
            "object_fit": null,
            "object_position": null,
            "order": null,
            "overflow": null,
            "overflow_x": null,
            "overflow_y": null,
            "padding": null,
            "right": null,
            "top": null,
            "visibility": null,
            "width": null
          }
        },
        "d27fd8187763449a95dccebf37fe8c2d": {
          "model_module": "@jupyter-widgets/base",
          "model_name": "LayoutModel",
          "model_module_version": "1.2.0",
          "state": {
            "_model_module": "@jupyter-widgets/base",
            "_model_module_version": "1.2.0",
            "_model_name": "LayoutModel",
            "_view_count": null,
            "_view_module": "@jupyter-widgets/base",
            "_view_module_version": "1.2.0",
            "_view_name": "LayoutView",
            "align_content": null,
            "align_items": null,
            "align_self": null,
            "border": null,
            "bottom": null,
            "display": null,
            "flex": null,
            "flex_flow": null,
            "grid_area": null,
            "grid_auto_columns": null,
            "grid_auto_flow": null,
            "grid_auto_rows": null,
            "grid_column": null,
            "grid_gap": null,
            "grid_row": null,
            "grid_template_areas": null,
            "grid_template_columns": null,
            "grid_template_rows": null,
            "height": null,
            "justify_content": null,
            "justify_items": null,
            "left": null,
            "margin": null,
            "max_height": null,
            "max_width": null,
            "min_height": null,
            "min_width": null,
            "object_fit": null,
            "object_position": null,
            "order": null,
            "overflow": null,
            "overflow_x": null,
            "overflow_y": null,
            "padding": null,
            "right": null,
            "top": null,
            "visibility": null,
            "width": null
          }
        },
        "f605834673d849babaf153ae58a1a874": {
          "model_module": "@jupyter-widgets/controls",
          "model_name": "DescriptionStyleModel",
          "model_module_version": "1.5.0",
          "state": {
            "_model_module": "@jupyter-widgets/controls",
            "_model_module_version": "1.5.0",
            "_model_name": "DescriptionStyleModel",
            "_view_count": null,
            "_view_module": "@jupyter-widgets/base",
            "_view_module_version": "1.2.0",
            "_view_name": "StyleView",
            "description_width": ""
          }
        },
        "069c63c9d42b47dea3e009d674269dc5": {
          "model_module": "@jupyter-widgets/base",
          "model_name": "LayoutModel",
          "model_module_version": "1.2.0",
          "state": {
            "_model_module": "@jupyter-widgets/base",
            "_model_module_version": "1.2.0",
            "_model_name": "LayoutModel",
            "_view_count": null,
            "_view_module": "@jupyter-widgets/base",
            "_view_module_version": "1.2.0",
            "_view_name": "LayoutView",
            "align_content": null,
            "align_items": null,
            "align_self": null,
            "border": null,
            "bottom": null,
            "display": null,
            "flex": null,
            "flex_flow": null,
            "grid_area": null,
            "grid_auto_columns": null,
            "grid_auto_flow": null,
            "grid_auto_rows": null,
            "grid_column": null,
            "grid_gap": null,
            "grid_row": null,
            "grid_template_areas": null,
            "grid_template_columns": null,
            "grid_template_rows": null,
            "height": null,
            "justify_content": null,
            "justify_items": null,
            "left": null,
            "margin": null,
            "max_height": null,
            "max_width": null,
            "min_height": null,
            "min_width": null,
            "object_fit": null,
            "object_position": null,
            "order": null,
            "overflow": null,
            "overflow_x": null,
            "overflow_y": null,
            "padding": null,
            "right": null,
            "top": null,
            "visibility": null,
            "width": null
          }
        },
        "37af604c63784e08abaa44330f227eba": {
          "model_module": "@jupyter-widgets/controls",
          "model_name": "ProgressStyleModel",
          "model_module_version": "1.5.0",
          "state": {
            "_model_module": "@jupyter-widgets/controls",
            "_model_module_version": "1.5.0",
            "_model_name": "ProgressStyleModel",
            "_view_count": null,
            "_view_module": "@jupyter-widgets/base",
            "_view_module_version": "1.2.0",
            "_view_name": "StyleView",
            "bar_color": null,
            "description_width": ""
          }
        },
        "848e684f604d43aea8ed168a226793ca": {
          "model_module": "@jupyter-widgets/base",
          "model_name": "LayoutModel",
          "model_module_version": "1.2.0",
          "state": {
            "_model_module": "@jupyter-widgets/base",
            "_model_module_version": "1.2.0",
            "_model_name": "LayoutModel",
            "_view_count": null,
            "_view_module": "@jupyter-widgets/base",
            "_view_module_version": "1.2.0",
            "_view_name": "LayoutView",
            "align_content": null,
            "align_items": null,
            "align_self": null,
            "border": null,
            "bottom": null,
            "display": null,
            "flex": null,
            "flex_flow": null,
            "grid_area": null,
            "grid_auto_columns": null,
            "grid_auto_flow": null,
            "grid_auto_rows": null,
            "grid_column": null,
            "grid_gap": null,
            "grid_row": null,
            "grid_template_areas": null,
            "grid_template_columns": null,
            "grid_template_rows": null,
            "height": null,
            "justify_content": null,
            "justify_items": null,
            "left": null,
            "margin": null,
            "max_height": null,
            "max_width": null,
            "min_height": null,
            "min_width": null,
            "object_fit": null,
            "object_position": null,
            "order": null,
            "overflow": null,
            "overflow_x": null,
            "overflow_y": null,
            "padding": null,
            "right": null,
            "top": null,
            "visibility": null,
            "width": null
          }
        },
        "04a9f26a192d4849b41b8c9e17f86bea": {
          "model_module": "@jupyter-widgets/controls",
          "model_name": "DescriptionStyleModel",
          "model_module_version": "1.5.0",
          "state": {
            "_model_module": "@jupyter-widgets/controls",
            "_model_module_version": "1.5.0",
            "_model_name": "DescriptionStyleModel",
            "_view_count": null,
            "_view_module": "@jupyter-widgets/base",
            "_view_module_version": "1.2.0",
            "_view_name": "StyleView",
            "description_width": ""
          }
        },
        "13c680d401504679aec02d0dee5db22c": {
          "model_module": "@jupyter-widgets/controls",
          "model_name": "HBoxModel",
          "model_module_version": "1.5.0",
          "state": {
            "_dom_classes": [],
            "_model_module": "@jupyter-widgets/controls",
            "_model_module_version": "1.5.0",
            "_model_name": "HBoxModel",
            "_view_count": null,
            "_view_module": "@jupyter-widgets/controls",
            "_view_module_version": "1.5.0",
            "_view_name": "HBoxView",
            "box_style": "",
            "children": [
              "IPY_MODEL_11eec0770f0444e0acadd5821d3a3caa",
              "IPY_MODEL_5ee5b0d187764b788618227c2f6bf481",
              "IPY_MODEL_f5f1a69050cb41bca814fb3801a5e2de"
            ],
            "layout": "IPY_MODEL_44a17ef843614e008bbda438d2e431d9"
          }
        },
        "11eec0770f0444e0acadd5821d3a3caa": {
          "model_module": "@jupyter-widgets/controls",
          "model_name": "HTMLModel",
          "model_module_version": "1.5.0",
          "state": {
            "_dom_classes": [],
            "_model_module": "@jupyter-widgets/controls",
            "_model_module_version": "1.5.0",
            "_model_name": "HTMLModel",
            "_view_count": null,
            "_view_module": "@jupyter-widgets/controls",
            "_view_module_version": "1.5.0",
            "_view_name": "HTMLView",
            "description": "",
            "description_tooltip": null,
            "layout": "IPY_MODEL_cf879741e3e8439b81d83e36ecfa876f",
            "placeholder": "​",
            "style": "IPY_MODEL_1dfc998dda134be480980215a23e5ab3",
            "value": "tokenizer.json: 100%"
          }
        },
        "5ee5b0d187764b788618227c2f6bf481": {
          "model_module": "@jupyter-widgets/controls",
          "model_name": "FloatProgressModel",
          "model_module_version": "1.5.0",
          "state": {
            "_dom_classes": [],
            "_model_module": "@jupyter-widgets/controls",
            "_model_module_version": "1.5.0",
            "_model_name": "FloatProgressModel",
            "_view_count": null,
            "_view_module": "@jupyter-widgets/controls",
            "_view_module_version": "1.5.0",
            "_view_name": "ProgressView",
            "bar_style": "success",
            "description": "",
            "description_tooltip": null,
            "layout": "IPY_MODEL_54f1274ff16d4dee910c7d2e09561a01",
            "max": 1355863,
            "min": 0,
            "orientation": "horizontal",
            "style": "IPY_MODEL_4d31b1046ad74500b6e38a31dc79251c",
            "value": 1355863
          }
        },
        "f5f1a69050cb41bca814fb3801a5e2de": {
          "model_module": "@jupyter-widgets/controls",
          "model_name": "HTMLModel",
          "model_module_version": "1.5.0",
          "state": {
            "_dom_classes": [],
            "_model_module": "@jupyter-widgets/controls",
            "_model_module_version": "1.5.0",
            "_model_name": "HTMLModel",
            "_view_count": null,
            "_view_module": "@jupyter-widgets/controls",
            "_view_module_version": "1.5.0",
            "_view_name": "HTMLView",
            "description": "",
            "description_tooltip": null,
            "layout": "IPY_MODEL_635784e383804132b0f9f0240e4c163f",
            "placeholder": "​",
            "style": "IPY_MODEL_6bf2efc4993a48fbb31fe7d638fcb79c",
            "value": " 1.36M/1.36M [00:00&lt;00:00, 16.6MB/s]"
          }
        },
        "44a17ef843614e008bbda438d2e431d9": {
          "model_module": "@jupyter-widgets/base",
          "model_name": "LayoutModel",
          "model_module_version": "1.2.0",
          "state": {
            "_model_module": "@jupyter-widgets/base",
            "_model_module_version": "1.2.0",
            "_model_name": "LayoutModel",
            "_view_count": null,
            "_view_module": "@jupyter-widgets/base",
            "_view_module_version": "1.2.0",
            "_view_name": "LayoutView",
            "align_content": null,
            "align_items": null,
            "align_self": null,
            "border": null,
            "bottom": null,
            "display": null,
            "flex": null,
            "flex_flow": null,
            "grid_area": null,
            "grid_auto_columns": null,
            "grid_auto_flow": null,
            "grid_auto_rows": null,
            "grid_column": null,
            "grid_gap": null,
            "grid_row": null,
            "grid_template_areas": null,
            "grid_template_columns": null,
            "grid_template_rows": null,
            "height": null,
            "justify_content": null,
            "justify_items": null,
            "left": null,
            "margin": null,
            "max_height": null,
            "max_width": null,
            "min_height": null,
            "min_width": null,
            "object_fit": null,
            "object_position": null,
            "order": null,
            "overflow": null,
            "overflow_x": null,
            "overflow_y": null,
            "padding": null,
            "right": null,
            "top": null,
            "visibility": null,
            "width": null
          }
        },
        "cf879741e3e8439b81d83e36ecfa876f": {
          "model_module": "@jupyter-widgets/base",
          "model_name": "LayoutModel",
          "model_module_version": "1.2.0",
          "state": {
            "_model_module": "@jupyter-widgets/base",
            "_model_module_version": "1.2.0",
            "_model_name": "LayoutModel",
            "_view_count": null,
            "_view_module": "@jupyter-widgets/base",
            "_view_module_version": "1.2.0",
            "_view_name": "LayoutView",
            "align_content": null,
            "align_items": null,
            "align_self": null,
            "border": null,
            "bottom": null,
            "display": null,
            "flex": null,
            "flex_flow": null,
            "grid_area": null,
            "grid_auto_columns": null,
            "grid_auto_flow": null,
            "grid_auto_rows": null,
            "grid_column": null,
            "grid_gap": null,
            "grid_row": null,
            "grid_template_areas": null,
            "grid_template_columns": null,
            "grid_template_rows": null,
            "height": null,
            "justify_content": null,
            "justify_items": null,
            "left": null,
            "margin": null,
            "max_height": null,
            "max_width": null,
            "min_height": null,
            "min_width": null,
            "object_fit": null,
            "object_position": null,
            "order": null,
            "overflow": null,
            "overflow_x": null,
            "overflow_y": null,
            "padding": null,
            "right": null,
            "top": null,
            "visibility": null,
            "width": null
          }
        },
        "1dfc998dda134be480980215a23e5ab3": {
          "model_module": "@jupyter-widgets/controls",
          "model_name": "DescriptionStyleModel",
          "model_module_version": "1.5.0",
          "state": {
            "_model_module": "@jupyter-widgets/controls",
            "_model_module_version": "1.5.0",
            "_model_name": "DescriptionStyleModel",
            "_view_count": null,
            "_view_module": "@jupyter-widgets/base",
            "_view_module_version": "1.2.0",
            "_view_name": "StyleView",
            "description_width": ""
          }
        },
        "54f1274ff16d4dee910c7d2e09561a01": {
          "model_module": "@jupyter-widgets/base",
          "model_name": "LayoutModel",
          "model_module_version": "1.2.0",
          "state": {
            "_model_module": "@jupyter-widgets/base",
            "_model_module_version": "1.2.0",
            "_model_name": "LayoutModel",
            "_view_count": null,
            "_view_module": "@jupyter-widgets/base",
            "_view_module_version": "1.2.0",
            "_view_name": "LayoutView",
            "align_content": null,
            "align_items": null,
            "align_self": null,
            "border": null,
            "bottom": null,
            "display": null,
            "flex": null,
            "flex_flow": null,
            "grid_area": null,
            "grid_auto_columns": null,
            "grid_auto_flow": null,
            "grid_auto_rows": null,
            "grid_column": null,
            "grid_gap": null,
            "grid_row": null,
            "grid_template_areas": null,
            "grid_template_columns": null,
            "grid_template_rows": null,
            "height": null,
            "justify_content": null,
            "justify_items": null,
            "left": null,
            "margin": null,
            "max_height": null,
            "max_width": null,
            "min_height": null,
            "min_width": null,
            "object_fit": null,
            "object_position": null,
            "order": null,
            "overflow": null,
            "overflow_x": null,
            "overflow_y": null,
            "padding": null,
            "right": null,
            "top": null,
            "visibility": null,
            "width": null
          }
        },
        "4d31b1046ad74500b6e38a31dc79251c": {
          "model_module": "@jupyter-widgets/controls",
          "model_name": "ProgressStyleModel",
          "model_module_version": "1.5.0",
          "state": {
            "_model_module": "@jupyter-widgets/controls",
            "_model_module_version": "1.5.0",
            "_model_name": "ProgressStyleModel",
            "_view_count": null,
            "_view_module": "@jupyter-widgets/base",
            "_view_module_version": "1.2.0",
            "_view_name": "StyleView",
            "bar_color": null,
            "description_width": ""
          }
        },
        "635784e383804132b0f9f0240e4c163f": {
          "model_module": "@jupyter-widgets/base",
          "model_name": "LayoutModel",
          "model_module_version": "1.2.0",
          "state": {
            "_model_module": "@jupyter-widgets/base",
            "_model_module_version": "1.2.0",
            "_model_name": "LayoutModel",
            "_view_count": null,
            "_view_module": "@jupyter-widgets/base",
            "_view_module_version": "1.2.0",
            "_view_name": "LayoutView",
            "align_content": null,
            "align_items": null,
            "align_self": null,
            "border": null,
            "bottom": null,
            "display": null,
            "flex": null,
            "flex_flow": null,
            "grid_area": null,
            "grid_auto_columns": null,
            "grid_auto_flow": null,
            "grid_auto_rows": null,
            "grid_column": null,
            "grid_gap": null,
            "grid_row": null,
            "grid_template_areas": null,
            "grid_template_columns": null,
            "grid_template_rows": null,
            "height": null,
            "justify_content": null,
            "justify_items": null,
            "left": null,
            "margin": null,
            "max_height": null,
            "max_width": null,
            "min_height": null,
            "min_width": null,
            "object_fit": null,
            "object_position": null,
            "order": null,
            "overflow": null,
            "overflow_x": null,
            "overflow_y": null,
            "padding": null,
            "right": null,
            "top": null,
            "visibility": null,
            "width": null
          }
        },
        "6bf2efc4993a48fbb31fe7d638fcb79c": {
          "model_module": "@jupyter-widgets/controls",
          "model_name": "DescriptionStyleModel",
          "model_module_version": "1.5.0",
          "state": {
            "_model_module": "@jupyter-widgets/controls",
            "_model_module_version": "1.5.0",
            "_model_name": "DescriptionStyleModel",
            "_view_count": null,
            "_view_module": "@jupyter-widgets/base",
            "_view_module_version": "1.2.0",
            "_view_name": "StyleView",
            "description_width": ""
          }
        },
        "e8b4e0f093674634a0ea0f1abaefc66d": {
          "model_module": "@jupyter-widgets/controls",
          "model_name": "HBoxModel",
          "model_module_version": "1.5.0",
          "state": {
            "_dom_classes": [],
            "_model_module": "@jupyter-widgets/controls",
            "_model_module_version": "1.5.0",
            "_model_name": "HBoxModel",
            "_view_count": null,
            "_view_module": "@jupyter-widgets/controls",
            "_view_module_version": "1.5.0",
            "_view_name": "HBoxView",
            "box_style": "",
            "children": [
              "IPY_MODEL_94baf9b5ac0940da836b0bf0bf7de767",
              "IPY_MODEL_04131507da364377bcb909b1a32d805b",
              "IPY_MODEL_a69aac0120ec4f758516bff0aff7179f"
            ],
            "layout": "IPY_MODEL_b44025624423415aba967686d08c3a76"
          }
        },
        "94baf9b5ac0940da836b0bf0bf7de767": {
          "model_module": "@jupyter-widgets/controls",
          "model_name": "HTMLModel",
          "model_module_version": "1.5.0",
          "state": {
            "_dom_classes": [],
            "_model_module": "@jupyter-widgets/controls",
            "_model_module_version": "1.5.0",
            "_model_name": "HTMLModel",
            "_view_count": null,
            "_view_module": "@jupyter-widgets/controls",
            "_view_module_version": "1.5.0",
            "_view_name": "HTMLView",
            "description": "",
            "description_tooltip": null,
            "layout": "IPY_MODEL_4785c4f83f0d446fbb52c3f5b6c6284a",
            "placeholder": "​",
            "style": "IPY_MODEL_7b688ec786754e4190218fd3237426ac",
            "value": "config.json: 100%"
          }
        },
        "04131507da364377bcb909b1a32d805b": {
          "model_module": "@jupyter-widgets/controls",
          "model_name": "FloatProgressModel",
          "model_module_version": "1.5.0",
          "state": {
            "_dom_classes": [],
            "_model_module": "@jupyter-widgets/controls",
            "_model_module_version": "1.5.0",
            "_model_name": "FloatProgressModel",
            "_view_count": null,
            "_view_module": "@jupyter-widgets/controls",
            "_view_module_version": "1.5.0",
            "_view_name": "ProgressView",
            "bar_style": "success",
            "description": "",
            "description_tooltip": null,
            "layout": "IPY_MODEL_7c405905a1b7452d8aa1836309a45301",
            "max": 481,
            "min": 0,
            "orientation": "horizontal",
            "style": "IPY_MODEL_1cfb620dc37f4459a423f9c9a75414e2",
            "value": 481
          }
        },
        "a69aac0120ec4f758516bff0aff7179f": {
          "model_module": "@jupyter-widgets/controls",
          "model_name": "HTMLModel",
          "model_module_version": "1.5.0",
          "state": {
            "_dom_classes": [],
            "_model_module": "@jupyter-widgets/controls",
            "_model_module_version": "1.5.0",
            "_model_name": "HTMLModel",
            "_view_count": null,
            "_view_module": "@jupyter-widgets/controls",
            "_view_module_version": "1.5.0",
            "_view_name": "HTMLView",
            "description": "",
            "description_tooltip": null,
            "layout": "IPY_MODEL_23957ac29d5d4895a4eef949616f6662",
            "placeholder": "​",
            "style": "IPY_MODEL_00b34a42df594b91872dcb24c6982655",
            "value": " 481/481 [00:00&lt;00:00, 32.5kB/s]"
          }
        },
        "b44025624423415aba967686d08c3a76": {
          "model_module": "@jupyter-widgets/base",
          "model_name": "LayoutModel",
          "model_module_version": "1.2.0",
          "state": {
            "_model_module": "@jupyter-widgets/base",
            "_model_module_version": "1.2.0",
            "_model_name": "LayoutModel",
            "_view_count": null,
            "_view_module": "@jupyter-widgets/base",
            "_view_module_version": "1.2.0",
            "_view_name": "LayoutView",
            "align_content": null,
            "align_items": null,
            "align_self": null,
            "border": null,
            "bottom": null,
            "display": null,
            "flex": null,
            "flex_flow": null,
            "grid_area": null,
            "grid_auto_columns": null,
            "grid_auto_flow": null,
            "grid_auto_rows": null,
            "grid_column": null,
            "grid_gap": null,
            "grid_row": null,
            "grid_template_areas": null,
            "grid_template_columns": null,
            "grid_template_rows": null,
            "height": null,
            "justify_content": null,
            "justify_items": null,
            "left": null,
            "margin": null,
            "max_height": null,
            "max_width": null,
            "min_height": null,
            "min_width": null,
            "object_fit": null,
            "object_position": null,
            "order": null,
            "overflow": null,
            "overflow_x": null,
            "overflow_y": null,
            "padding": null,
            "right": null,
            "top": null,
            "visibility": null,
            "width": null
          }
        },
        "4785c4f83f0d446fbb52c3f5b6c6284a": {
          "model_module": "@jupyter-widgets/base",
          "model_name": "LayoutModel",
          "model_module_version": "1.2.0",
          "state": {
            "_model_module": "@jupyter-widgets/base",
            "_model_module_version": "1.2.0",
            "_model_name": "LayoutModel",
            "_view_count": null,
            "_view_module": "@jupyter-widgets/base",
            "_view_module_version": "1.2.0",
            "_view_name": "LayoutView",
            "align_content": null,
            "align_items": null,
            "align_self": null,
            "border": null,
            "bottom": null,
            "display": null,
            "flex": null,
            "flex_flow": null,
            "grid_area": null,
            "grid_auto_columns": null,
            "grid_auto_flow": null,
            "grid_auto_rows": null,
            "grid_column": null,
            "grid_gap": null,
            "grid_row": null,
            "grid_template_areas": null,
            "grid_template_columns": null,
            "grid_template_rows": null,
            "height": null,
            "justify_content": null,
            "justify_items": null,
            "left": null,
            "margin": null,
            "max_height": null,
            "max_width": null,
            "min_height": null,
            "min_width": null,
            "object_fit": null,
            "object_position": null,
            "order": null,
            "overflow": null,
            "overflow_x": null,
            "overflow_y": null,
            "padding": null,
            "right": null,
            "top": null,
            "visibility": null,
            "width": null
          }
        },
        "7b688ec786754e4190218fd3237426ac": {
          "model_module": "@jupyter-widgets/controls",
          "model_name": "DescriptionStyleModel",
          "model_module_version": "1.5.0",
          "state": {
            "_model_module": "@jupyter-widgets/controls",
            "_model_module_version": "1.5.0",
            "_model_name": "DescriptionStyleModel",
            "_view_count": null,
            "_view_module": "@jupyter-widgets/base",
            "_view_module_version": "1.2.0",
            "_view_name": "StyleView",
            "description_width": ""
          }
        },
        "7c405905a1b7452d8aa1836309a45301": {
          "model_module": "@jupyter-widgets/base",
          "model_name": "LayoutModel",
          "model_module_version": "1.2.0",
          "state": {
            "_model_module": "@jupyter-widgets/base",
            "_model_module_version": "1.2.0",
            "_model_name": "LayoutModel",
            "_view_count": null,
            "_view_module": "@jupyter-widgets/base",
            "_view_module_version": "1.2.0",
            "_view_name": "LayoutView",
            "align_content": null,
            "align_items": null,
            "align_self": null,
            "border": null,
            "bottom": null,
            "display": null,
            "flex": null,
            "flex_flow": null,
            "grid_area": null,
            "grid_auto_columns": null,
            "grid_auto_flow": null,
            "grid_auto_rows": null,
            "grid_column": null,
            "grid_gap": null,
            "grid_row": null,
            "grid_template_areas": null,
            "grid_template_columns": null,
            "grid_template_rows": null,
            "height": null,
            "justify_content": null,
            "justify_items": null,
            "left": null,
            "margin": null,
            "max_height": null,
            "max_width": null,
            "min_height": null,
            "min_width": null,
            "object_fit": null,
            "object_position": null,
            "order": null,
            "overflow": null,
            "overflow_x": null,
            "overflow_y": null,
            "padding": null,
            "right": null,
            "top": null,
            "visibility": null,
            "width": null
          }
        },
        "1cfb620dc37f4459a423f9c9a75414e2": {
          "model_module": "@jupyter-widgets/controls",
          "model_name": "ProgressStyleModel",
          "model_module_version": "1.5.0",
          "state": {
            "_model_module": "@jupyter-widgets/controls",
            "_model_module_version": "1.5.0",
            "_model_name": "ProgressStyleModel",
            "_view_count": null,
            "_view_module": "@jupyter-widgets/base",
            "_view_module_version": "1.2.0",
            "_view_name": "StyleView",
            "bar_color": null,
            "description_width": ""
          }
        },
        "23957ac29d5d4895a4eef949616f6662": {
          "model_module": "@jupyter-widgets/base",
          "model_name": "LayoutModel",
          "model_module_version": "1.2.0",
          "state": {
            "_model_module": "@jupyter-widgets/base",
            "_model_module_version": "1.2.0",
            "_model_name": "LayoutModel",
            "_view_count": null,
            "_view_module": "@jupyter-widgets/base",
            "_view_module_version": "1.2.0",
            "_view_name": "LayoutView",
            "align_content": null,
            "align_items": null,
            "align_self": null,
            "border": null,
            "bottom": null,
            "display": null,
            "flex": null,
            "flex_flow": null,
            "grid_area": null,
            "grid_auto_columns": null,
            "grid_auto_flow": null,
            "grid_auto_rows": null,
            "grid_column": null,
            "grid_gap": null,
            "grid_row": null,
            "grid_template_areas": null,
            "grid_template_columns": null,
            "grid_template_rows": null,
            "height": null,
            "justify_content": null,
            "justify_items": null,
            "left": null,
            "margin": null,
            "max_height": null,
            "max_width": null,
            "min_height": null,
            "min_width": null,
            "object_fit": null,
            "object_position": null,
            "order": null,
            "overflow": null,
            "overflow_x": null,
            "overflow_y": null,
            "padding": null,
            "right": null,
            "top": null,
            "visibility": null,
            "width": null
          }
        },
        "00b34a42df594b91872dcb24c6982655": {
          "model_module": "@jupyter-widgets/controls",
          "model_name": "DescriptionStyleModel",
          "model_module_version": "1.5.0",
          "state": {
            "_model_module": "@jupyter-widgets/controls",
            "_model_module_version": "1.5.0",
            "_model_name": "DescriptionStyleModel",
            "_view_count": null,
            "_view_module": "@jupyter-widgets/base",
            "_view_module_version": "1.2.0",
            "_view_name": "StyleView",
            "description_width": ""
          }
        },
        "1a107ca97dd84273bf847d9630d1ab0b": {
          "model_module": "@jupyter-widgets/controls",
          "model_name": "HBoxModel",
          "model_module_version": "1.5.0",
          "state": {
            "_dom_classes": [],
            "_model_module": "@jupyter-widgets/controls",
            "_model_module_version": "1.5.0",
            "_model_name": "HBoxModel",
            "_view_count": null,
            "_view_module": "@jupyter-widgets/controls",
            "_view_module_version": "1.5.0",
            "_view_name": "HBoxView",
            "box_style": "",
            "children": [
              "IPY_MODEL_f693b44c7c374cf2afb58de8fbe24ec5",
              "IPY_MODEL_78bd7e1c19654cc0b1559e35da826aa5",
              "IPY_MODEL_9e8d4cc5fca643ae8014d454883f7c17"
            ],
            "layout": "IPY_MODEL_abc3b59e75ec45bbaaf90b2e634a8b15"
          }
        },
        "f693b44c7c374cf2afb58de8fbe24ec5": {
          "model_module": "@jupyter-widgets/controls",
          "model_name": "HTMLModel",
          "model_module_version": "1.5.0",
          "state": {
            "_dom_classes": [],
            "_model_module": "@jupyter-widgets/controls",
            "_model_module_version": "1.5.0",
            "_model_name": "HTMLModel",
            "_view_count": null,
            "_view_module": "@jupyter-widgets/controls",
            "_view_module_version": "1.5.0",
            "_view_name": "HTMLView",
            "description": "",
            "description_tooltip": null,
            "layout": "IPY_MODEL_47b1edd985be4ba987bead5182336dc7",
            "placeholder": "​",
            "style": "IPY_MODEL_f37e9e7a22284b81a96fe0a8ae637aea",
            "value": "model.safetensors: 100%"
          }
        },
        "78bd7e1c19654cc0b1559e35da826aa5": {
          "model_module": "@jupyter-widgets/controls",
          "model_name": "FloatProgressModel",
          "model_module_version": "1.5.0",
          "state": {
            "_dom_classes": [],
            "_model_module": "@jupyter-widgets/controls",
            "_model_module_version": "1.5.0",
            "_model_name": "FloatProgressModel",
            "_view_count": null,
            "_view_module": "@jupyter-widgets/controls",
            "_view_module_version": "1.5.0",
            "_view_name": "ProgressView",
            "bar_style": "success",
            "description": "",
            "description_tooltip": null,
            "layout": "IPY_MODEL_746a92d7e30142eb91332427fdf67e0e",
            "max": 498818054,
            "min": 0,
            "orientation": "horizontal",
            "style": "IPY_MODEL_a0cead76e2344b9d8ea6fce268a19652",
            "value": 498818054
          }
        },
        "9e8d4cc5fca643ae8014d454883f7c17": {
          "model_module": "@jupyter-widgets/controls",
          "model_name": "HTMLModel",
          "model_module_version": "1.5.0",
          "state": {
            "_dom_classes": [],
            "_model_module": "@jupyter-widgets/controls",
            "_model_module_version": "1.5.0",
            "_model_name": "HTMLModel",
            "_view_count": null,
            "_view_module": "@jupyter-widgets/controls",
            "_view_module_version": "1.5.0",
            "_view_name": "HTMLView",
            "description": "",
            "description_tooltip": null,
            "layout": "IPY_MODEL_9f570c52ca174449ab5cb027817f2d04",
            "placeholder": "​",
            "style": "IPY_MODEL_44d21d43663e468fbb8b69afa1cdd260",
            "value": " 499M/499M [00:03&lt;00:00, 175MB/s]"
          }
        },
        "abc3b59e75ec45bbaaf90b2e634a8b15": {
          "model_module": "@jupyter-widgets/base",
          "model_name": "LayoutModel",
          "model_module_version": "1.2.0",
          "state": {
            "_model_module": "@jupyter-widgets/base",
            "_model_module_version": "1.2.0",
            "_model_name": "LayoutModel",
            "_view_count": null,
            "_view_module": "@jupyter-widgets/base",
            "_view_module_version": "1.2.0",
            "_view_name": "LayoutView",
            "align_content": null,
            "align_items": null,
            "align_self": null,
            "border": null,
            "bottom": null,
            "display": null,
            "flex": null,
            "flex_flow": null,
            "grid_area": null,
            "grid_auto_columns": null,
            "grid_auto_flow": null,
            "grid_auto_rows": null,
            "grid_column": null,
            "grid_gap": null,
            "grid_row": null,
            "grid_template_areas": null,
            "grid_template_columns": null,
            "grid_template_rows": null,
            "height": null,
            "justify_content": null,
            "justify_items": null,
            "left": null,
            "margin": null,
            "max_height": null,
            "max_width": null,
            "min_height": null,
            "min_width": null,
            "object_fit": null,
            "object_position": null,
            "order": null,
            "overflow": null,
            "overflow_x": null,
            "overflow_y": null,
            "padding": null,
            "right": null,
            "top": null,
            "visibility": null,
            "width": null
          }
        },
        "47b1edd985be4ba987bead5182336dc7": {
          "model_module": "@jupyter-widgets/base",
          "model_name": "LayoutModel",
          "model_module_version": "1.2.0",
          "state": {
            "_model_module": "@jupyter-widgets/base",
            "_model_module_version": "1.2.0",
            "_model_name": "LayoutModel",
            "_view_count": null,
            "_view_module": "@jupyter-widgets/base",
            "_view_module_version": "1.2.0",
            "_view_name": "LayoutView",
            "align_content": null,
            "align_items": null,
            "align_self": null,
            "border": null,
            "bottom": null,
            "display": null,
            "flex": null,
            "flex_flow": null,
            "grid_area": null,
            "grid_auto_columns": null,
            "grid_auto_flow": null,
            "grid_auto_rows": null,
            "grid_column": null,
            "grid_gap": null,
            "grid_row": null,
            "grid_template_areas": null,
            "grid_template_columns": null,
            "grid_template_rows": null,
            "height": null,
            "justify_content": null,
            "justify_items": null,
            "left": null,
            "margin": null,
            "max_height": null,
            "max_width": null,
            "min_height": null,
            "min_width": null,
            "object_fit": null,
            "object_position": null,
            "order": null,
            "overflow": null,
            "overflow_x": null,
            "overflow_y": null,
            "padding": null,
            "right": null,
            "top": null,
            "visibility": null,
            "width": null
          }
        },
        "f37e9e7a22284b81a96fe0a8ae637aea": {
          "model_module": "@jupyter-widgets/controls",
          "model_name": "DescriptionStyleModel",
          "model_module_version": "1.5.0",
          "state": {
            "_model_module": "@jupyter-widgets/controls",
            "_model_module_version": "1.5.0",
            "_model_name": "DescriptionStyleModel",
            "_view_count": null,
            "_view_module": "@jupyter-widgets/base",
            "_view_module_version": "1.2.0",
            "_view_name": "StyleView",
            "description_width": ""
          }
        },
        "746a92d7e30142eb91332427fdf67e0e": {
          "model_module": "@jupyter-widgets/base",
          "model_name": "LayoutModel",
          "model_module_version": "1.2.0",
          "state": {
            "_model_module": "@jupyter-widgets/base",
            "_model_module_version": "1.2.0",
            "_model_name": "LayoutModel",
            "_view_count": null,
            "_view_module": "@jupyter-widgets/base",
            "_view_module_version": "1.2.0",
            "_view_name": "LayoutView",
            "align_content": null,
            "align_items": null,
            "align_self": null,
            "border": null,
            "bottom": null,
            "display": null,
            "flex": null,
            "flex_flow": null,
            "grid_area": null,
            "grid_auto_columns": null,
            "grid_auto_flow": null,
            "grid_auto_rows": null,
            "grid_column": null,
            "grid_gap": null,
            "grid_row": null,
            "grid_template_areas": null,
            "grid_template_columns": null,
            "grid_template_rows": null,
            "height": null,
            "justify_content": null,
            "justify_items": null,
            "left": null,
            "margin": null,
            "max_height": null,
            "max_width": null,
            "min_height": null,
            "min_width": null,
            "object_fit": null,
            "object_position": null,
            "order": null,
            "overflow": null,
            "overflow_x": null,
            "overflow_y": null,
            "padding": null,
            "right": null,
            "top": null,
            "visibility": null,
            "width": null
          }
        },
        "a0cead76e2344b9d8ea6fce268a19652": {
          "model_module": "@jupyter-widgets/controls",
          "model_name": "ProgressStyleModel",
          "model_module_version": "1.5.0",
          "state": {
            "_model_module": "@jupyter-widgets/controls",
            "_model_module_version": "1.5.0",
            "_model_name": "ProgressStyleModel",
            "_view_count": null,
            "_view_module": "@jupyter-widgets/base",
            "_view_module_version": "1.2.0",
            "_view_name": "StyleView",
            "bar_color": null,
            "description_width": ""
          }
        },
        "9f570c52ca174449ab5cb027817f2d04": {
          "model_module": "@jupyter-widgets/base",
          "model_name": "LayoutModel",
          "model_module_version": "1.2.0",
          "state": {
            "_model_module": "@jupyter-widgets/base",
            "_model_module_version": "1.2.0",
            "_model_name": "LayoutModel",
            "_view_count": null,
            "_view_module": "@jupyter-widgets/base",
            "_view_module_version": "1.2.0",
            "_view_name": "LayoutView",
            "align_content": null,
            "align_items": null,
            "align_self": null,
            "border": null,
            "bottom": null,
            "display": null,
            "flex": null,
            "flex_flow": null,
            "grid_area": null,
            "grid_auto_columns": null,
            "grid_auto_flow": null,
            "grid_auto_rows": null,
            "grid_column": null,
            "grid_gap": null,
            "grid_row": null,
            "grid_template_areas": null,
            "grid_template_columns": null,
            "grid_template_rows": null,
            "height": null,
            "justify_content": null,
            "justify_items": null,
            "left": null,
            "margin": null,
            "max_height": null,
            "max_width": null,
            "min_height": null,
            "min_width": null,
            "object_fit": null,
            "object_position": null,
            "order": null,
            "overflow": null,
            "overflow_x": null,
            "overflow_y": null,
            "padding": null,
            "right": null,
            "top": null,
            "visibility": null,
            "width": null
          }
        },
        "44d21d43663e468fbb8b69afa1cdd260": {
          "model_module": "@jupyter-widgets/controls",
          "model_name": "DescriptionStyleModel",
          "model_module_version": "1.5.0",
          "state": {
            "_model_module": "@jupyter-widgets/controls",
            "_model_module_version": "1.5.0",
            "_model_name": "DescriptionStyleModel",
            "_view_count": null,
            "_view_module": "@jupyter-widgets/base",
            "_view_module_version": "1.2.0",
            "_view_name": "StyleView",
            "description_width": ""
          }
        },
        "cd45a882395840fdb5bf982e273b2c81": {
          "model_module": "@jupyter-widgets/controls",
          "model_name": "HBoxModel",
          "model_module_version": "1.5.0",
          "state": {
            "_dom_classes": [],
            "_model_module": "@jupyter-widgets/controls",
            "_model_module_version": "1.5.0",
            "_model_name": "HBoxModel",
            "_view_count": null,
            "_view_module": "@jupyter-widgets/controls",
            "_view_module_version": "1.5.0",
            "_view_name": "HBoxView",
            "box_style": "",
            "children": [
              "IPY_MODEL_e5f4529e4e00481f83286e917ec19ed8",
              "IPY_MODEL_e23cba8e31924c6cb05e00ebe1bf8241",
              "IPY_MODEL_0777b1e0e0ac4c96bb11e4f9a227fbfd"
            ],
            "layout": "IPY_MODEL_6525cdaaacf24e2f8d03fae012ab9a8a"
          }
        },
        "e5f4529e4e00481f83286e917ec19ed8": {
          "model_module": "@jupyter-widgets/controls",
          "model_name": "HTMLModel",
          "model_module_version": "1.5.0",
          "state": {
            "_dom_classes": [],
            "_model_module": "@jupyter-widgets/controls",
            "_model_module_version": "1.5.0",
            "_model_name": "HTMLModel",
            "_view_count": null,
            "_view_module": "@jupyter-widgets/controls",
            "_view_module_version": "1.5.0",
            "_view_name": "HTMLView",
            "description": "",
            "description_tooltip": null,
            "layout": "IPY_MODEL_b821e44daa424a43a0ef2b89449f0ab7",
            "placeholder": "​",
            "style": "IPY_MODEL_fc3e097b612743709790db553127470c",
            "value": "Downloading builder script: 100%"
          }
        },
        "e23cba8e31924c6cb05e00ebe1bf8241": {
          "model_module": "@jupyter-widgets/controls",
          "model_name": "FloatProgressModel",
          "model_module_version": "1.5.0",
          "state": {
            "_dom_classes": [],
            "_model_module": "@jupyter-widgets/controls",
            "_model_module_version": "1.5.0",
            "_model_name": "FloatProgressModel",
            "_view_count": null,
            "_view_module": "@jupyter-widgets/controls",
            "_view_module_version": "1.5.0",
            "_view_name": "ProgressView",
            "bar_style": "success",
            "description": "",
            "description_tooltip": null,
            "layout": "IPY_MODEL_c0d4e7e3ab6143c09cb7db174bca7c95",
            "max": 6785,
            "min": 0,
            "orientation": "horizontal",
            "style": "IPY_MODEL_350e3448beca4ac7bd34911a52487fe2",
            "value": 6785
          }
        },
        "0777b1e0e0ac4c96bb11e4f9a227fbfd": {
          "model_module": "@jupyter-widgets/controls",
          "model_name": "HTMLModel",
          "model_module_version": "1.5.0",
          "state": {
            "_dom_classes": [],
            "_model_module": "@jupyter-widgets/controls",
            "_model_module_version": "1.5.0",
            "_model_name": "HTMLModel",
            "_view_count": null,
            "_view_module": "@jupyter-widgets/controls",
            "_view_module_version": "1.5.0",
            "_view_name": "HTMLView",
            "description": "",
            "description_tooltip": null,
            "layout": "IPY_MODEL_8181fb0bd7cb4f9a891aa38ec42ed208",
            "placeholder": "​",
            "style": "IPY_MODEL_7622e18c8e22468496d17be03ad01e37",
            "value": " 6.79k/6.79k [00:00&lt;00:00, 571kB/s]"
          }
        },
        "6525cdaaacf24e2f8d03fae012ab9a8a": {
          "model_module": "@jupyter-widgets/base",
          "model_name": "LayoutModel",
          "model_module_version": "1.2.0",
          "state": {
            "_model_module": "@jupyter-widgets/base",
            "_model_module_version": "1.2.0",
            "_model_name": "LayoutModel",
            "_view_count": null,
            "_view_module": "@jupyter-widgets/base",
            "_view_module_version": "1.2.0",
            "_view_name": "LayoutView",
            "align_content": null,
            "align_items": null,
            "align_self": null,
            "border": null,
            "bottom": null,
            "display": null,
            "flex": null,
            "flex_flow": null,
            "grid_area": null,
            "grid_auto_columns": null,
            "grid_auto_flow": null,
            "grid_auto_rows": null,
            "grid_column": null,
            "grid_gap": null,
            "grid_row": null,
            "grid_template_areas": null,
            "grid_template_columns": null,
            "grid_template_rows": null,
            "height": null,
            "justify_content": null,
            "justify_items": null,
            "left": null,
            "margin": null,
            "max_height": null,
            "max_width": null,
            "min_height": null,
            "min_width": null,
            "object_fit": null,
            "object_position": null,
            "order": null,
            "overflow": null,
            "overflow_x": null,
            "overflow_y": null,
            "padding": null,
            "right": null,
            "top": null,
            "visibility": null,
            "width": null
          }
        },
        "b821e44daa424a43a0ef2b89449f0ab7": {
          "model_module": "@jupyter-widgets/base",
          "model_name": "LayoutModel",
          "model_module_version": "1.2.0",
          "state": {
            "_model_module": "@jupyter-widgets/base",
            "_model_module_version": "1.2.0",
            "_model_name": "LayoutModel",
            "_view_count": null,
            "_view_module": "@jupyter-widgets/base",
            "_view_module_version": "1.2.0",
            "_view_name": "LayoutView",
            "align_content": null,
            "align_items": null,
            "align_self": null,
            "border": null,
            "bottom": null,
            "display": null,
            "flex": null,
            "flex_flow": null,
            "grid_area": null,
            "grid_auto_columns": null,
            "grid_auto_flow": null,
            "grid_auto_rows": null,
            "grid_column": null,
            "grid_gap": null,
            "grid_row": null,
            "grid_template_areas": null,
            "grid_template_columns": null,
            "grid_template_rows": null,
            "height": null,
            "justify_content": null,
            "justify_items": null,
            "left": null,
            "margin": null,
            "max_height": null,
            "max_width": null,
            "min_height": null,
            "min_width": null,
            "object_fit": null,
            "object_position": null,
            "order": null,
            "overflow": null,
            "overflow_x": null,
            "overflow_y": null,
            "padding": null,
            "right": null,
            "top": null,
            "visibility": null,
            "width": null
          }
        },
        "fc3e097b612743709790db553127470c": {
          "model_module": "@jupyter-widgets/controls",
          "model_name": "DescriptionStyleModel",
          "model_module_version": "1.5.0",
          "state": {
            "_model_module": "@jupyter-widgets/controls",
            "_model_module_version": "1.5.0",
            "_model_name": "DescriptionStyleModel",
            "_view_count": null,
            "_view_module": "@jupyter-widgets/base",
            "_view_module_version": "1.2.0",
            "_view_name": "StyleView",
            "description_width": ""
          }
        },
        "c0d4e7e3ab6143c09cb7db174bca7c95": {
          "model_module": "@jupyter-widgets/base",
          "model_name": "LayoutModel",
          "model_module_version": "1.2.0",
          "state": {
            "_model_module": "@jupyter-widgets/base",
            "_model_module_version": "1.2.0",
            "_model_name": "LayoutModel",
            "_view_count": null,
            "_view_module": "@jupyter-widgets/base",
            "_view_module_version": "1.2.0",
            "_view_name": "LayoutView",
            "align_content": null,
            "align_items": null,
            "align_self": null,
            "border": null,
            "bottom": null,
            "display": null,
            "flex": null,
            "flex_flow": null,
            "grid_area": null,
            "grid_auto_columns": null,
            "grid_auto_flow": null,
            "grid_auto_rows": null,
            "grid_column": null,
            "grid_gap": null,
            "grid_row": null,
            "grid_template_areas": null,
            "grid_template_columns": null,
            "grid_template_rows": null,
            "height": null,
            "justify_content": null,
            "justify_items": null,
            "left": null,
            "margin": null,
            "max_height": null,
            "max_width": null,
            "min_height": null,
            "min_width": null,
            "object_fit": null,
            "object_position": null,
            "order": null,
            "overflow": null,
            "overflow_x": null,
            "overflow_y": null,
            "padding": null,
            "right": null,
            "top": null,
            "visibility": null,
            "width": null
          }
        },
        "350e3448beca4ac7bd34911a52487fe2": {
          "model_module": "@jupyter-widgets/controls",
          "model_name": "ProgressStyleModel",
          "model_module_version": "1.5.0",
          "state": {
            "_model_module": "@jupyter-widgets/controls",
            "_model_module_version": "1.5.0",
            "_model_name": "ProgressStyleModel",
            "_view_count": null,
            "_view_module": "@jupyter-widgets/base",
            "_view_module_version": "1.2.0",
            "_view_name": "StyleView",
            "bar_color": null,
            "description_width": ""
          }
        },
        "8181fb0bd7cb4f9a891aa38ec42ed208": {
          "model_module": "@jupyter-widgets/base",
          "model_name": "LayoutModel",
          "model_module_version": "1.2.0",
          "state": {
            "_model_module": "@jupyter-widgets/base",
            "_model_module_version": "1.2.0",
            "_model_name": "LayoutModel",
            "_view_count": null,
            "_view_module": "@jupyter-widgets/base",
            "_view_module_version": "1.2.0",
            "_view_name": "LayoutView",
            "align_content": null,
            "align_items": null,
            "align_self": null,
            "border": null,
            "bottom": null,
            "display": null,
            "flex": null,
            "flex_flow": null,
            "grid_area": null,
            "grid_auto_columns": null,
            "grid_auto_flow": null,
            "grid_auto_rows": null,
            "grid_column": null,
            "grid_gap": null,
            "grid_row": null,
            "grid_template_areas": null,
            "grid_template_columns": null,
            "grid_template_rows": null,
            "height": null,
            "justify_content": null,
            "justify_items": null,
            "left": null,
            "margin": null,
            "max_height": null,
            "max_width": null,
            "min_height": null,
            "min_width": null,
            "object_fit": null,
            "object_position": null,
            "order": null,
            "overflow": null,
            "overflow_x": null,
            "overflow_y": null,
            "padding": null,
            "right": null,
            "top": null,
            "visibility": null,
            "width": null
          }
        },
        "7622e18c8e22468496d17be03ad01e37": {
          "model_module": "@jupyter-widgets/controls",
          "model_name": "DescriptionStyleModel",
          "model_module_version": "1.5.0",
          "state": {
            "_model_module": "@jupyter-widgets/controls",
            "_model_module_version": "1.5.0",
            "_model_name": "DescriptionStyleModel",
            "_view_count": null,
            "_view_module": "@jupyter-widgets/base",
            "_view_module_version": "1.2.0",
            "_view_name": "StyleView",
            "description_width": ""
          }
        }
      }
    },
    "accelerator": "GPU"
  },
  "nbformat": 4,
  "nbformat_minor": 0
}